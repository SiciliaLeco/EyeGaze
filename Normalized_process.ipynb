{
  "nbformat": 4,
  "nbformat_minor": 0,
  "metadata": {
    "colab": {
      "name": "Normalized_process.ipynb",
      "provenance": [],
      "collapsed_sections": [],
      "authorship_tag": "ABX9TyMyGsYoHOYrGrmocLFFjuGb",
      "include_colab_link": true
    },
    "kernelspec": {
      "name": "python3",
      "display_name": "Python 3"
    }
  },
  "cells": [
    {
      "cell_type": "markdown",
      "metadata": {
        "id": "view-in-github",
        "colab_type": "text"
      },
      "source": [
        "<a href=\"https://colab.research.google.com/github/SiciliaLeco/EyeGaze/blob/master/Normalized_process.ipynb\" target=\"_parent\"><img src=\"https://colab.research.google.com/assets/colab-badge.svg\" alt=\"Open In Colab\"/></a>"
      ]
    },
    {
      "cell_type": "markdown",
      "metadata": {
        "id": "ZFOWQGZbV4dZ"
      },
      "source": [
        "## Appearance-based Gaze Estimation (Feb 20)\n",
        "\n",
        "dataset: MPIIGaze https://www.perceptualui.org/research/datasets/MPIIGaze/ \n",
        "\n",
        "CNN frame: LeNet "
      ]
    },
    {
      "cell_type": "markdown",
      "metadata": {
        "id": "qjSsP2_rWEil"
      },
      "source": [
        "### 1. Pre-processing data "
      ]
    },
    {
      "cell_type": "code",
      "metadata": {
        "id": "TZtFQOIIWCLY"
      },
      "source": [
        "from scipy.io import loadmat\n",
        "import numpy as np\n",
        "import pandas as pd\n",
        "from PIL import Image\n",
        "import glob\n",
        "from tqdm import tqdm\n",
        "from sklearn.model_selection import train_test_split\n",
        "from google.colab import drive "
      ],
      "execution_count": null,
      "outputs": []
    },
    {
      "cell_type": "markdown",
      "metadata": {
        "id": "jhYsyQZy4_KJ"
      },
      "source": [
        "To use COLAB, we should first connect to the drive then retreive the data."
      ]
    },
    {
      "cell_type": "code",
      "metadata": {
        "colab": {
          "base_uri": "https://localhost:8080/"
        },
        "id": "7HnveBscWRiH",
        "outputId": "599cd832-7391-4d2f-a6e4-1dedf3245caf"
      },
      "source": [
        "# Use google.colab to use drive dataset  \n",
        "import os\n",
        "drive.mount('/content/drive')\n",
        "path = \"/content/drive/MyDrive/EyeGaze\"\n",
        "os.listdir(path)"
      ],
      "execution_count": null,
      "outputs": [
        {
          "output_type": "stream",
          "text": [
            "Drive already mounted at /content/drive; to attempt to forcibly remount, call drive.mount(\"/content/drive\", force_remount=True).\n"
          ],
          "name": "stdout"
        },
        {
          "output_type": "execute_result",
          "data": {
            "text/plain": [
              "['Normalized', 'Normalized_process.ipynb']"
            ]
          },
          "metadata": {
            "tags": []
          },
          "execution_count": 4
        }
      ]
    },
    {
      "cell_type": "code",
      "metadata": {
        "colab": {
          "base_uri": "https://localhost:8080/"
        },
        "id": "0xSyWtfBX-1w",
        "outputId": "5bf23c68-7295-433b-cfad-b21900cd2730"
      },
      "source": [
        "mat_files = glob.glob(path + '/Normalized/**/*.mat', recursive=True)\n",
        "mat_files.sort()\n",
        "print(mat_files)"
      ],
      "execution_count": null,
      "outputs": [
        {
          "output_type": "stream",
          "text": [
            "['/content/drive/MyDrive/EyeGaze/Normalized/p00/day01.mat', '/content/drive/MyDrive/EyeGaze/Normalized/p00/day02.mat', '/content/drive/MyDrive/EyeGaze/Normalized/p00/day03.mat', '/content/drive/MyDrive/EyeGaze/Normalized/p00/day04.mat', '/content/drive/MyDrive/EyeGaze/Normalized/p00/day05.mat', '/content/drive/MyDrive/EyeGaze/Normalized/p00/day06.mat', '/content/drive/MyDrive/EyeGaze/Normalized/p00/day07.mat', '/content/drive/MyDrive/EyeGaze/Normalized/p00/day08.mat', '/content/drive/MyDrive/EyeGaze/Normalized/p00/day09.mat', '/content/drive/MyDrive/EyeGaze/Normalized/p00/day10.mat', '/content/drive/MyDrive/EyeGaze/Normalized/p00/day11.mat', '/content/drive/MyDrive/EyeGaze/Normalized/p00/day12.mat', '/content/drive/MyDrive/EyeGaze/Normalized/p00/day13.mat', '/content/drive/MyDrive/EyeGaze/Normalized/p00/day14.mat', '/content/drive/MyDrive/EyeGaze/Normalized/p00/day15.mat', '/content/drive/MyDrive/EyeGaze/Normalized/p00/day16.mat', '/content/drive/MyDrive/EyeGaze/Normalized/p00/day17.mat', '/content/drive/MyDrive/EyeGaze/Normalized/p00/day18.mat', '/content/drive/MyDrive/EyeGaze/Normalized/p00/day19.mat', '/content/drive/MyDrive/EyeGaze/Normalized/p00/day20.mat', '/content/drive/MyDrive/EyeGaze/Normalized/p00/day21.mat', '/content/drive/MyDrive/EyeGaze/Normalized/p00/day22.mat', '/content/drive/MyDrive/EyeGaze/Normalized/p00/day23.mat', '/content/drive/MyDrive/EyeGaze/Normalized/p00/day24.mat', '/content/drive/MyDrive/EyeGaze/Normalized/p00/day25.mat', '/content/drive/MyDrive/EyeGaze/Normalized/p00/day26.mat', '/content/drive/MyDrive/EyeGaze/Normalized/p00/day27.mat', '/content/drive/MyDrive/EyeGaze/Normalized/p00/day28.mat', '/content/drive/MyDrive/EyeGaze/Normalized/p00/day29.mat', '/content/drive/MyDrive/EyeGaze/Normalized/p00/day30.mat', '/content/drive/MyDrive/EyeGaze/Normalized/p00/day31.mat', '/content/drive/MyDrive/EyeGaze/Normalized/p00/day32.mat', '/content/drive/MyDrive/EyeGaze/Normalized/p00/day33.mat', '/content/drive/MyDrive/EyeGaze/Normalized/p00/day34.mat', '/content/drive/MyDrive/EyeGaze/Normalized/p00/day35.mat', '/content/drive/MyDrive/EyeGaze/Normalized/p00/day36.mat', '/content/drive/MyDrive/EyeGaze/Normalized/p00/day37.mat', '/content/drive/MyDrive/EyeGaze/Normalized/p00/day38.mat', '/content/drive/MyDrive/EyeGaze/Normalized/p00/day39.mat', '/content/drive/MyDrive/EyeGaze/Normalized/p01/day01.mat', '/content/drive/MyDrive/EyeGaze/Normalized/p01/day02.mat', '/content/drive/MyDrive/EyeGaze/Normalized/p01/day03.mat', '/content/drive/MyDrive/EyeGaze/Normalized/p01/day04.mat', '/content/drive/MyDrive/EyeGaze/Normalized/p01/day05.mat', '/content/drive/MyDrive/EyeGaze/Normalized/p01/day06.mat', '/content/drive/MyDrive/EyeGaze/Normalized/p01/day07.mat', '/content/drive/MyDrive/EyeGaze/Normalized/p01/day08.mat', '/content/drive/MyDrive/EyeGaze/Normalized/p01/day09.mat', '/content/drive/MyDrive/EyeGaze/Normalized/p01/day10.mat', '/content/drive/MyDrive/EyeGaze/Normalized/p01/day11.mat', '/content/drive/MyDrive/EyeGaze/Normalized/p01/day12.mat', '/content/drive/MyDrive/EyeGaze/Normalized/p01/day13.mat', '/content/drive/MyDrive/EyeGaze/Normalized/p01/day14.mat', '/content/drive/MyDrive/EyeGaze/Normalized/p01/day15.mat', '/content/drive/MyDrive/EyeGaze/Normalized/p01/day16.mat', '/content/drive/MyDrive/EyeGaze/Normalized/p01/day17.mat', '/content/drive/MyDrive/EyeGaze/Normalized/p01/day18.mat', '/content/drive/MyDrive/EyeGaze/Normalized/p01/day19.mat', '/content/drive/MyDrive/EyeGaze/Normalized/p01/day20.mat', '/content/drive/MyDrive/EyeGaze/Normalized/p01/day21.mat', '/content/drive/MyDrive/EyeGaze/Normalized/p01/day22.mat', '/content/drive/MyDrive/EyeGaze/Normalized/p01/day23.mat', '/content/drive/MyDrive/EyeGaze/Normalized/p01/day24.mat', '/content/drive/MyDrive/EyeGaze/Normalized/p01/day25.mat', '/content/drive/MyDrive/EyeGaze/Normalized/p01/day26.mat', '/content/drive/MyDrive/EyeGaze/Normalized/p01/day27.mat', '/content/drive/MyDrive/EyeGaze/Normalized/p01/day28.mat', '/content/drive/MyDrive/EyeGaze/Normalized/p01/day29.mat', '/content/drive/MyDrive/EyeGaze/Normalized/p01/day30.mat', '/content/drive/MyDrive/EyeGaze/Normalized/p01/day31.mat', '/content/drive/MyDrive/EyeGaze/Normalized/p01/day32.mat', '/content/drive/MyDrive/EyeGaze/Normalized/p01/day33.mat', '/content/drive/MyDrive/EyeGaze/Normalized/p01/day34.mat', '/content/drive/MyDrive/EyeGaze/Normalized/p01/day35.mat', '/content/drive/MyDrive/EyeGaze/Normalized/p01/day36.mat', '/content/drive/MyDrive/EyeGaze/Normalized/p01/day37.mat', '/content/drive/MyDrive/EyeGaze/Normalized/p01/day38.mat', '/content/drive/MyDrive/EyeGaze/Normalized/p01/day39.mat', '/content/drive/MyDrive/EyeGaze/Normalized/p01/day40.mat', '/content/drive/MyDrive/EyeGaze/Normalized/p01/day41.mat', '/content/drive/MyDrive/EyeGaze/Normalized/p01/day42.mat', '/content/drive/MyDrive/EyeGaze/Normalized/p01/day43.mat', '/content/drive/MyDrive/EyeGaze/Normalized/p01/day44.mat', '/content/drive/MyDrive/EyeGaze/Normalized/p01/day45.mat', '/content/drive/MyDrive/EyeGaze/Normalized/p01/day46.mat', '/content/drive/MyDrive/EyeGaze/Normalized/p01/day47.mat', '/content/drive/MyDrive/EyeGaze/Normalized/p01/day48.mat', '/content/drive/MyDrive/EyeGaze/Normalized/p01/day49.mat', '/content/drive/MyDrive/EyeGaze/Normalized/p01/day50.mat', '/content/drive/MyDrive/EyeGaze/Normalized/p01/day51.mat', '/content/drive/MyDrive/EyeGaze/Normalized/p01/day52.mat', '/content/drive/MyDrive/EyeGaze/Normalized/p01/day53.mat', '/content/drive/MyDrive/EyeGaze/Normalized/p01/day54.mat', '/content/drive/MyDrive/EyeGaze/Normalized/p01/day55.mat', '/content/drive/MyDrive/EyeGaze/Normalized/p01/day56.mat', '/content/drive/MyDrive/EyeGaze/Normalized/p01/day57.mat', '/content/drive/MyDrive/EyeGaze/Normalized/p01/day58.mat', '/content/drive/MyDrive/EyeGaze/Normalized/p01/day59.mat', '/content/drive/MyDrive/EyeGaze/Normalized/p01/day60.mat', '/content/drive/MyDrive/EyeGaze/Normalized/p01/day61.mat', '/content/drive/MyDrive/EyeGaze/Normalized/p01/day62.mat', '/content/drive/MyDrive/EyeGaze/Normalized/p01/day63.mat', '/content/drive/MyDrive/EyeGaze/Normalized/p01/day64.mat', '/content/drive/MyDrive/EyeGaze/Normalized/p01/day65.mat', '/content/drive/MyDrive/EyeGaze/Normalized/p01/day66.mat', '/content/drive/MyDrive/EyeGaze/Normalized/p01/day67.mat', '/content/drive/MyDrive/EyeGaze/Normalized/p01/day68.mat', '/content/drive/MyDrive/EyeGaze/Normalized/p01/day69.mat', '/content/drive/MyDrive/EyeGaze/Normalized/p02/day01.mat', '/content/drive/MyDrive/EyeGaze/Normalized/p02/day02.mat', '/content/drive/MyDrive/EyeGaze/Normalized/p02/day03.mat', '/content/drive/MyDrive/EyeGaze/Normalized/p02/day04.mat', '/content/drive/MyDrive/EyeGaze/Normalized/p02/day05.mat', '/content/drive/MyDrive/EyeGaze/Normalized/p02/day06.mat', '/content/drive/MyDrive/EyeGaze/Normalized/p02/day07.mat', '/content/drive/MyDrive/EyeGaze/Normalized/p02/day08.mat', '/content/drive/MyDrive/EyeGaze/Normalized/p02/day09.mat', '/content/drive/MyDrive/EyeGaze/Normalized/p02/day10.mat', '/content/drive/MyDrive/EyeGaze/Normalized/p02/day11.mat', '/content/drive/MyDrive/EyeGaze/Normalized/p02/day12.mat', '/content/drive/MyDrive/EyeGaze/Normalized/p02/day13.mat', '/content/drive/MyDrive/EyeGaze/Normalized/p02/day14.mat', '/content/drive/MyDrive/EyeGaze/Normalized/p02/day15.mat', '/content/drive/MyDrive/EyeGaze/Normalized/p02/day16.mat', '/content/drive/MyDrive/EyeGaze/Normalized/p02/day17.mat', '/content/drive/MyDrive/EyeGaze/Normalized/p02/day18.mat', '/content/drive/MyDrive/EyeGaze/Normalized/p02/day19.mat', '/content/drive/MyDrive/EyeGaze/Normalized/p02/day20.mat', '/content/drive/MyDrive/EyeGaze/Normalized/p02/day21.mat', '/content/drive/MyDrive/EyeGaze/Normalized/p02/day22.mat', '/content/drive/MyDrive/EyeGaze/Normalized/p02/day23.mat', '/content/drive/MyDrive/EyeGaze/Normalized/p02/day24.mat', '/content/drive/MyDrive/EyeGaze/Normalized/p02/day25.mat', '/content/drive/MyDrive/EyeGaze/Normalized/p02/day26.mat', '/content/drive/MyDrive/EyeGaze/Normalized/p02/day27.mat', '/content/drive/MyDrive/EyeGaze/Normalized/p02/day28.mat', '/content/drive/MyDrive/EyeGaze/Normalized/p02/day29.mat', '/content/drive/MyDrive/EyeGaze/Normalized/p02/day30.mat', '/content/drive/MyDrive/EyeGaze/Normalized/p02/day31.mat', '/content/drive/MyDrive/EyeGaze/Normalized/p02/day32.mat', '/content/drive/MyDrive/EyeGaze/Normalized/p02/day33.mat', '/content/drive/MyDrive/EyeGaze/Normalized/p02/day34.mat', '/content/drive/MyDrive/EyeGaze/Normalized/p02/day35.mat', '/content/drive/MyDrive/EyeGaze/Normalized/p02/day36.mat', '/content/drive/MyDrive/EyeGaze/Normalized/p02/day37.mat', '/content/drive/MyDrive/EyeGaze/Normalized/p02/day38.mat', '/content/drive/MyDrive/EyeGaze/Normalized/p02/day39.mat', '/content/drive/MyDrive/EyeGaze/Normalized/p03/day01.mat', '/content/drive/MyDrive/EyeGaze/Normalized/p03/day02.mat', '/content/drive/MyDrive/EyeGaze/Normalized/p03/day03.mat', '/content/drive/MyDrive/EyeGaze/Normalized/p03/day04.mat', '/content/drive/MyDrive/EyeGaze/Normalized/p03/day05.mat', '/content/drive/MyDrive/EyeGaze/Normalized/p03/day06.mat', '/content/drive/MyDrive/EyeGaze/Normalized/p03/day07.mat', '/content/drive/MyDrive/EyeGaze/Normalized/p03/day08.mat', '/content/drive/MyDrive/EyeGaze/Normalized/p03/day09.mat', '/content/drive/MyDrive/EyeGaze/Normalized/p03/day10.mat', '/content/drive/MyDrive/EyeGaze/Normalized/p03/day11.mat', '/content/drive/MyDrive/EyeGaze/Normalized/p03/day12.mat', '/content/drive/MyDrive/EyeGaze/Normalized/p03/day13.mat', '/content/drive/MyDrive/EyeGaze/Normalized/p03/day14.mat', '/content/drive/MyDrive/EyeGaze/Normalized/p03/day15.mat', '/content/drive/MyDrive/EyeGaze/Normalized/p03/day16.mat', '/content/drive/MyDrive/EyeGaze/Normalized/p03/day17.mat', '/content/drive/MyDrive/EyeGaze/Normalized/p03/day18.mat', '/content/drive/MyDrive/EyeGaze/Normalized/p03/day19.mat', '/content/drive/MyDrive/EyeGaze/Normalized/p03/day20.mat', '/content/drive/MyDrive/EyeGaze/Normalized/p03/day21.mat', '/content/drive/MyDrive/EyeGaze/Normalized/p03/day22.mat', '/content/drive/MyDrive/EyeGaze/Normalized/p03/day23.mat', '/content/drive/MyDrive/EyeGaze/Normalized/p03/day24.mat', '/content/drive/MyDrive/EyeGaze/Normalized/p03/day25.mat', '/content/drive/MyDrive/EyeGaze/Normalized/p03/day26.mat', '/content/drive/MyDrive/EyeGaze/Normalized/p03/day27.mat', '/content/drive/MyDrive/EyeGaze/Normalized/p03/day28.mat', '/content/drive/MyDrive/EyeGaze/Normalized/p03/day29.mat', '/content/drive/MyDrive/EyeGaze/Normalized/p03/day30.mat', '/content/drive/MyDrive/EyeGaze/Normalized/p03/day31.mat', '/content/drive/MyDrive/EyeGaze/Normalized/p03/day32.mat', '/content/drive/MyDrive/EyeGaze/Normalized/p03/day33.mat', '/content/drive/MyDrive/EyeGaze/Normalized/p03/day34.mat', '/content/drive/MyDrive/EyeGaze/Normalized/p03/day35.mat', '/content/drive/MyDrive/EyeGaze/Normalized/p03/day36.mat', '/content/drive/MyDrive/EyeGaze/Normalized/p03/day37.mat', '/content/drive/MyDrive/EyeGaze/Normalized/p03/day38.mat', '/content/drive/MyDrive/EyeGaze/Normalized/p03/day39.mat', '/content/drive/MyDrive/EyeGaze/Normalized/p03/day40.mat', '/content/drive/MyDrive/EyeGaze/Normalized/p03/day41.mat', '/content/drive/MyDrive/EyeGaze/Normalized/p03/day42.mat', '/content/drive/MyDrive/EyeGaze/Normalized/p03/day43.mat', '/content/drive/MyDrive/EyeGaze/Normalized/p03/day44.mat', '/content/drive/MyDrive/EyeGaze/Normalized/p03/day45.mat', '/content/drive/MyDrive/EyeGaze/Normalized/p03/day46.mat', '/content/drive/MyDrive/EyeGaze/Normalized/p03/day47.mat', '/content/drive/MyDrive/EyeGaze/Normalized/p03/day48.mat', '/content/drive/MyDrive/EyeGaze/Normalized/p03/day49.mat', '/content/drive/MyDrive/EyeGaze/Normalized/p03/day50.mat', '/content/drive/MyDrive/EyeGaze/Normalized/p03/day51.mat', '/content/drive/MyDrive/EyeGaze/Normalized/p03/day52.mat', '/content/drive/MyDrive/EyeGaze/Normalized/p03/day53.mat', '/content/drive/MyDrive/EyeGaze/Normalized/p03/day54.mat', '/content/drive/MyDrive/EyeGaze/Normalized/p03/day55.mat', '/content/drive/MyDrive/EyeGaze/Normalized/p03/day56.mat', '/content/drive/MyDrive/EyeGaze/Normalized/p03/day57.mat', '/content/drive/MyDrive/EyeGaze/Normalized/p03/day58.mat', '/content/drive/MyDrive/EyeGaze/Normalized/p03/day59.mat', '/content/drive/MyDrive/EyeGaze/Normalized/p03/day60.mat', '/content/drive/MyDrive/EyeGaze/Normalized/p03/day61.mat', '/content/drive/MyDrive/EyeGaze/Normalized/p03/day62.mat', '/content/drive/MyDrive/EyeGaze/Normalized/p03/day63.mat', '/content/drive/MyDrive/EyeGaze/Normalized/p03/day64.mat', '/content/drive/MyDrive/EyeGaze/Normalized/p03/day65.mat', '/content/drive/MyDrive/EyeGaze/Normalized/p04/day01.mat', '/content/drive/MyDrive/EyeGaze/Normalized/p04/day02.mat', '/content/drive/MyDrive/EyeGaze/Normalized/p04/day03.mat', '/content/drive/MyDrive/EyeGaze/Normalized/p04/day04.mat', '/content/drive/MyDrive/EyeGaze/Normalized/p04/day05.mat', '/content/drive/MyDrive/EyeGaze/Normalized/p04/day06.mat', '/content/drive/MyDrive/EyeGaze/Normalized/p04/day07.mat', '/content/drive/MyDrive/EyeGaze/Normalized/p04/day08.mat', '/content/drive/MyDrive/EyeGaze/Normalized/p04/day09.mat', '/content/drive/MyDrive/EyeGaze/Normalized/p04/day10.mat', '/content/drive/MyDrive/EyeGaze/Normalized/p04/day11.mat', '/content/drive/MyDrive/EyeGaze/Normalized/p04/day12.mat', '/content/drive/MyDrive/EyeGaze/Normalized/p04/day13.mat', '/content/drive/MyDrive/EyeGaze/Normalized/p04/day14.mat', '/content/drive/MyDrive/EyeGaze/Normalized/p04/day15.mat', '/content/drive/MyDrive/EyeGaze/Normalized/p04/day16.mat', '/content/drive/MyDrive/EyeGaze/Normalized/p04/day17.mat', '/content/drive/MyDrive/EyeGaze/Normalized/p04/day18.mat', '/content/drive/MyDrive/EyeGaze/Normalized/p04/day19.mat', '/content/drive/MyDrive/EyeGaze/Normalized/p04/day20.mat', '/content/drive/MyDrive/EyeGaze/Normalized/p04/day21.mat', '/content/drive/MyDrive/EyeGaze/Normalized/p04/day22.mat', '/content/drive/MyDrive/EyeGaze/Normalized/p04/day23.mat', '/content/drive/MyDrive/EyeGaze/Normalized/p04/day24.mat', '/content/drive/MyDrive/EyeGaze/Normalized/p04/day25.mat', '/content/drive/MyDrive/EyeGaze/Normalized/p05/day01.mat', '/content/drive/MyDrive/EyeGaze/Normalized/p05/day02.mat', '/content/drive/MyDrive/EyeGaze/Normalized/p05/day03.mat', '/content/drive/MyDrive/EyeGaze/Normalized/p05/day04.mat', '/content/drive/MyDrive/EyeGaze/Normalized/p05/day05.mat', '/content/drive/MyDrive/EyeGaze/Normalized/p05/day06.mat', '/content/drive/MyDrive/EyeGaze/Normalized/p05/day07.mat', '/content/drive/MyDrive/EyeGaze/Normalized/p05/day08.mat', '/content/drive/MyDrive/EyeGaze/Normalized/p05/day09.mat', '/content/drive/MyDrive/EyeGaze/Normalized/p05/day10.mat', '/content/drive/MyDrive/EyeGaze/Normalized/p05/day11.mat', '/content/drive/MyDrive/EyeGaze/Normalized/p05/day12.mat', '/content/drive/MyDrive/EyeGaze/Normalized/p05/day13.mat', '/content/drive/MyDrive/EyeGaze/Normalized/p05/day14.mat', '/content/drive/MyDrive/EyeGaze/Normalized/p05/day15.mat', '/content/drive/MyDrive/EyeGaze/Normalized/p05/day16.mat', '/content/drive/MyDrive/EyeGaze/Normalized/p05/day17.mat', '/content/drive/MyDrive/EyeGaze/Normalized/p05/day18.mat', '/content/drive/MyDrive/EyeGaze/Normalized/p05/day19.mat', '/content/drive/MyDrive/EyeGaze/Normalized/p05/day20.mat', '/content/drive/MyDrive/EyeGaze/Normalized/p05/day21.mat', '/content/drive/MyDrive/EyeGaze/Normalized/p05/day22.mat', '/content/drive/MyDrive/EyeGaze/Normalized/p05/day23.mat', '/content/drive/MyDrive/EyeGaze/Normalized/p05/day24.mat', '/content/drive/MyDrive/EyeGaze/Normalized/p05/day25.mat', '/content/drive/MyDrive/EyeGaze/Normalized/p05/day26.mat', '/content/drive/MyDrive/EyeGaze/Normalized/p05/day27.mat', '/content/drive/MyDrive/EyeGaze/Normalized/p05/day28.mat', '/content/drive/MyDrive/EyeGaze/Normalized/p05/day29.mat', '/content/drive/MyDrive/EyeGaze/Normalized/p05/day30.mat', '/content/drive/MyDrive/EyeGaze/Normalized/p05/day31.mat', '/content/drive/MyDrive/EyeGaze/Normalized/p05/day32.mat', '/content/drive/MyDrive/EyeGaze/Normalized/p05/day33.mat', '/content/drive/MyDrive/EyeGaze/Normalized/p05/day34.mat', '/content/drive/MyDrive/EyeGaze/Normalized/p05/day35.mat', '/content/drive/MyDrive/EyeGaze/Normalized/p05/day36.mat', '/content/drive/MyDrive/EyeGaze/Normalized/p05/day37.mat', '/content/drive/MyDrive/EyeGaze/Normalized/p05/day38.mat', '/content/drive/MyDrive/EyeGaze/Normalized/p06/day01.mat', '/content/drive/MyDrive/EyeGaze/Normalized/p06/day02.mat', '/content/drive/MyDrive/EyeGaze/Normalized/p06/day03.mat', '/content/drive/MyDrive/EyeGaze/Normalized/p06/day04.mat', '/content/drive/MyDrive/EyeGaze/Normalized/p06/day05.mat', '/content/drive/MyDrive/EyeGaze/Normalized/p06/day06.mat', '/content/drive/MyDrive/EyeGaze/Normalized/p06/day07.mat', '/content/drive/MyDrive/EyeGaze/Normalized/p06/day08.mat', '/content/drive/MyDrive/EyeGaze/Normalized/p06/day09.mat', '/content/drive/MyDrive/EyeGaze/Normalized/p06/day10.mat', '/content/drive/MyDrive/EyeGaze/Normalized/p06/day11.mat', '/content/drive/MyDrive/EyeGaze/Normalized/p06/day12.mat', '/content/drive/MyDrive/EyeGaze/Normalized/p06/day13.mat', '/content/drive/MyDrive/EyeGaze/Normalized/p06/day14.mat', '/content/drive/MyDrive/EyeGaze/Normalized/p06/day15.mat', '/content/drive/MyDrive/EyeGaze/Normalized/p06/day16.mat', '/content/drive/MyDrive/EyeGaze/Normalized/p06/day17.mat', '/content/drive/MyDrive/EyeGaze/Normalized/p06/day18.mat', '/content/drive/MyDrive/EyeGaze/Normalized/p06/day19.mat', '/content/drive/MyDrive/EyeGaze/Normalized/p06/day20.mat', '/content/drive/MyDrive/EyeGaze/Normalized/p06/day21.mat', '/content/drive/MyDrive/EyeGaze/Normalized/p06/day22.mat', '/content/drive/MyDrive/EyeGaze/Normalized/p06/day23.mat', '/content/drive/MyDrive/EyeGaze/Normalized/p06/day24.mat', '/content/drive/MyDrive/EyeGaze/Normalized/p06/day25.mat', '/content/drive/MyDrive/EyeGaze/Normalized/p06/day26.mat', '/content/drive/MyDrive/EyeGaze/Normalized/p06/day27.mat', '/content/drive/MyDrive/EyeGaze/Normalized/p06/day28.mat', '/content/drive/MyDrive/EyeGaze/Normalized/p06/day29.mat', '/content/drive/MyDrive/EyeGaze/Normalized/p06/day30.mat', '/content/drive/MyDrive/EyeGaze/Normalized/p06/day31.mat', '/content/drive/MyDrive/EyeGaze/Normalized/p06/day32.mat', '/content/drive/MyDrive/EyeGaze/Normalized/p06/day33.mat', '/content/drive/MyDrive/EyeGaze/Normalized/p06/day34.mat', '/content/drive/MyDrive/EyeGaze/Normalized/p06/day35.mat', '/content/drive/MyDrive/EyeGaze/Normalized/p06/day36.mat', '/content/drive/MyDrive/EyeGaze/Normalized/p06/day37.mat', '/content/drive/MyDrive/EyeGaze/Normalized/p06/day38.mat', '/content/drive/MyDrive/EyeGaze/Normalized/p06/day39.mat', '/content/drive/MyDrive/EyeGaze/Normalized/p06/day40.mat', '/content/drive/MyDrive/EyeGaze/Normalized/p06/day41.mat', '/content/drive/MyDrive/EyeGaze/Normalized/p06/day42.mat', '/content/drive/MyDrive/EyeGaze/Normalized/p06/day43.mat', '/content/drive/MyDrive/EyeGaze/Normalized/p06/day44.mat', '/content/drive/MyDrive/EyeGaze/Normalized/p06/day45.mat', '/content/drive/MyDrive/EyeGaze/Normalized/p06/day46.mat', '/content/drive/MyDrive/EyeGaze/Normalized/p06/day47.mat', '/content/drive/MyDrive/EyeGaze/Normalized/p06/day48.mat', '/content/drive/MyDrive/EyeGaze/Normalized/p06/day49.mat', '/content/drive/MyDrive/EyeGaze/Normalized/p06/day50.mat', '/content/drive/MyDrive/EyeGaze/Normalized/p06/day51.mat', '/content/drive/MyDrive/EyeGaze/Normalized/p06/day52.mat', '/content/drive/MyDrive/EyeGaze/Normalized/p06/day53.mat', '/content/drive/MyDrive/EyeGaze/Normalized/p06/day54.mat', '/content/drive/MyDrive/EyeGaze/Normalized/p06/day55.mat', '/content/drive/MyDrive/EyeGaze/Normalized/p06/day56.mat', '/content/drive/MyDrive/EyeGaze/Normalized/p06/day57.mat', '/content/drive/MyDrive/EyeGaze/Normalized/p06/day58.mat', '/content/drive/MyDrive/EyeGaze/Normalized/p06/day59.mat', '/content/drive/MyDrive/EyeGaze/Normalized/p06/day60.mat', '/content/drive/MyDrive/EyeGaze/Normalized/p06/day61.mat', '/content/drive/MyDrive/EyeGaze/Normalized/p06/day62.mat', '/content/drive/MyDrive/EyeGaze/Normalized/p07/day01.mat', '/content/drive/MyDrive/EyeGaze/Normalized/p07/day02.mat', '/content/drive/MyDrive/EyeGaze/Normalized/p07/day03.mat', '/content/drive/MyDrive/EyeGaze/Normalized/p07/day04.mat', '/content/drive/MyDrive/EyeGaze/Normalized/p07/day05.mat', '/content/drive/MyDrive/EyeGaze/Normalized/p07/day06.mat', '/content/drive/MyDrive/EyeGaze/Normalized/p07/day07.mat', '/content/drive/MyDrive/EyeGaze/Normalized/p07/day08.mat', '/content/drive/MyDrive/EyeGaze/Normalized/p07/day09.mat', '/content/drive/MyDrive/EyeGaze/Normalized/p07/day10.mat', '/content/drive/MyDrive/EyeGaze/Normalized/p07/day11.mat', '/content/drive/MyDrive/EyeGaze/Normalized/p07/day12.mat', '/content/drive/MyDrive/EyeGaze/Normalized/p07/day13.mat', '/content/drive/MyDrive/EyeGaze/Normalized/p07/day14.mat', '/content/drive/MyDrive/EyeGaze/Normalized/p07/day15.mat', '/content/drive/MyDrive/EyeGaze/Normalized/p07/day16.mat', '/content/drive/MyDrive/EyeGaze/Normalized/p07/day17.mat', '/content/drive/MyDrive/EyeGaze/Normalized/p07/day18.mat', '/content/drive/MyDrive/EyeGaze/Normalized/p07/day19.mat', '/content/drive/MyDrive/EyeGaze/Normalized/p07/day20.mat', '/content/drive/MyDrive/EyeGaze/Normalized/p07/day21.mat', '/content/drive/MyDrive/EyeGaze/Normalized/p07/day22.mat', '/content/drive/MyDrive/EyeGaze/Normalized/p07/day23.mat', '/content/drive/MyDrive/EyeGaze/Normalized/p07/day24.mat', '/content/drive/MyDrive/EyeGaze/Normalized/p07/day25.mat', '/content/drive/MyDrive/EyeGaze/Normalized/p07/day26.mat', '/content/drive/MyDrive/EyeGaze/Normalized/p07/day27.mat', '/content/drive/MyDrive/EyeGaze/Normalized/p07/day28.mat', '/content/drive/MyDrive/EyeGaze/Normalized/p07/day29.mat', '/content/drive/MyDrive/EyeGaze/Normalized/p07/day30.mat', '/content/drive/MyDrive/EyeGaze/Normalized/p07/day31.mat', '/content/drive/MyDrive/EyeGaze/Normalized/p07/day32.mat', '/content/drive/MyDrive/EyeGaze/Normalized/p07/day33.mat', '/content/drive/MyDrive/EyeGaze/Normalized/p07/day34.mat', '/content/drive/MyDrive/EyeGaze/Normalized/p07/day35.mat', '/content/drive/MyDrive/EyeGaze/Normalized/p07/day36.mat', '/content/drive/MyDrive/EyeGaze/Normalized/p07/day37.mat', '/content/drive/MyDrive/EyeGaze/Normalized/p07/day38.mat', '/content/drive/MyDrive/EyeGaze/Normalized/p07/day39.mat', '/content/drive/MyDrive/EyeGaze/Normalized/p07/day40.mat', '/content/drive/MyDrive/EyeGaze/Normalized/p07/day41.mat', '/content/drive/MyDrive/EyeGaze/Normalized/p07/day42.mat', '/content/drive/MyDrive/EyeGaze/Normalized/p07/day43.mat', '/content/drive/MyDrive/EyeGaze/Normalized/p07/day44.mat', '/content/drive/MyDrive/EyeGaze/Normalized/p07/day45.mat', '/content/drive/MyDrive/EyeGaze/Normalized/p07/day46.mat', '/content/drive/MyDrive/EyeGaze/Normalized/p07/day47.mat', '/content/drive/MyDrive/EyeGaze/Normalized/p07/day48.mat', '/content/drive/MyDrive/EyeGaze/Normalized/p07/day49.mat', '/content/drive/MyDrive/EyeGaze/Normalized/p07/day50.mat', '/content/drive/MyDrive/EyeGaze/Normalized/p07/day51.mat', '/content/drive/MyDrive/EyeGaze/Normalized/p07/day52.mat', '/content/drive/MyDrive/EyeGaze/Normalized/p07/day53.mat', '/content/drive/MyDrive/EyeGaze/Normalized/p07/day54.mat', '/content/drive/MyDrive/EyeGaze/Normalized/p07/day55.mat', '/content/drive/MyDrive/EyeGaze/Normalized/p07/day56.mat', '/content/drive/MyDrive/EyeGaze/Normalized/p08/day01.mat', '/content/drive/MyDrive/EyeGaze/Normalized/p08/day02.mat', '/content/drive/MyDrive/EyeGaze/Normalized/p08/day03.mat', '/content/drive/MyDrive/EyeGaze/Normalized/p08/day04.mat', '/content/drive/MyDrive/EyeGaze/Normalized/p08/day05.mat', '/content/drive/MyDrive/EyeGaze/Normalized/p08/day06.mat', '/content/drive/MyDrive/EyeGaze/Normalized/p08/day07.mat', '/content/drive/MyDrive/EyeGaze/Normalized/p08/day08.mat', '/content/drive/MyDrive/EyeGaze/Normalized/p08/day09.mat', '/content/drive/MyDrive/EyeGaze/Normalized/p08/day10.mat', '/content/drive/MyDrive/EyeGaze/Normalized/p08/day11.mat', '/content/drive/MyDrive/EyeGaze/Normalized/p08/day12.mat', '/content/drive/MyDrive/EyeGaze/Normalized/p08/day13.mat', '/content/drive/MyDrive/EyeGaze/Normalized/p08/day14.mat', '/content/drive/MyDrive/EyeGaze/Normalized/p08/day15.mat', '/content/drive/MyDrive/EyeGaze/Normalized/p08/day16.mat', '/content/drive/MyDrive/EyeGaze/Normalized/p08/day17.mat', '/content/drive/MyDrive/EyeGaze/Normalized/p08/day18.mat', '/content/drive/MyDrive/EyeGaze/Normalized/p08/day19.mat', '/content/drive/MyDrive/EyeGaze/Normalized/p08/day20.mat', '/content/drive/MyDrive/EyeGaze/Normalized/p08/day21.mat', '/content/drive/MyDrive/EyeGaze/Normalized/p08/day22.mat', '/content/drive/MyDrive/EyeGaze/Normalized/p08/day23.mat', '/content/drive/MyDrive/EyeGaze/Normalized/p08/day24.mat', '/content/drive/MyDrive/EyeGaze/Normalized/p08/day25.mat', '/content/drive/MyDrive/EyeGaze/Normalized/p08/day26.mat', '/content/drive/MyDrive/EyeGaze/Normalized/p08/day27.mat', '/content/drive/MyDrive/EyeGaze/Normalized/p08/day28.mat', '/content/drive/MyDrive/EyeGaze/Normalized/p08/day29.mat', '/content/drive/MyDrive/EyeGaze/Normalized/p08/day30.mat', '/content/drive/MyDrive/EyeGaze/Normalized/p08/day31.mat', '/content/drive/MyDrive/EyeGaze/Normalized/p08/day32.mat', '/content/drive/MyDrive/EyeGaze/Normalized/p08/day33.mat', '/content/drive/MyDrive/EyeGaze/Normalized/p08/day34.mat', '/content/drive/MyDrive/EyeGaze/Normalized/p08/day35.mat', '/content/drive/MyDrive/EyeGaze/Normalized/p08/day36.mat', '/content/drive/MyDrive/EyeGaze/Normalized/p08/day37.mat', '/content/drive/MyDrive/EyeGaze/Normalized/p08/day38.mat', '/content/drive/MyDrive/EyeGaze/Normalized/p08/day39.mat', '/content/drive/MyDrive/EyeGaze/Normalized/p08/day40.mat', '/content/drive/MyDrive/EyeGaze/Normalized/p08/day41.mat', '/content/drive/MyDrive/EyeGaze/Normalized/p08/day42.mat', '/content/drive/MyDrive/EyeGaze/Normalized/p08/day43.mat', '/content/drive/MyDrive/EyeGaze/Normalized/p08/day44.mat', '/content/drive/MyDrive/EyeGaze/Normalized/p08/day45.mat', '/content/drive/MyDrive/EyeGaze/Normalized/p08/day46.mat', '/content/drive/MyDrive/EyeGaze/Normalized/p08/day47.mat', '/content/drive/MyDrive/EyeGaze/Normalized/p09/day01.mat', '/content/drive/MyDrive/EyeGaze/Normalized/p09/day02.mat', '/content/drive/MyDrive/EyeGaze/Normalized/p09/day03.mat', '/content/drive/MyDrive/EyeGaze/Normalized/p09/day04.mat', '/content/drive/MyDrive/EyeGaze/Normalized/p09/day05.mat', '/content/drive/MyDrive/EyeGaze/Normalized/p09/day06.mat', '/content/drive/MyDrive/EyeGaze/Normalized/p09/day07.mat', '/content/drive/MyDrive/EyeGaze/Normalized/p09/day08.mat', '/content/drive/MyDrive/EyeGaze/Normalized/p09/day09.mat', '/content/drive/MyDrive/EyeGaze/Normalized/p09/day10.mat', '/content/drive/MyDrive/EyeGaze/Normalized/p09/day11.mat', '/content/drive/MyDrive/EyeGaze/Normalized/p09/day12.mat', '/content/drive/MyDrive/EyeGaze/Normalized/p09/day13.mat', '/content/drive/MyDrive/EyeGaze/Normalized/p09/day14.mat', '/content/drive/MyDrive/EyeGaze/Normalized/p09/day15.mat', '/content/drive/MyDrive/EyeGaze/Normalized/p09/day16.mat', '/content/drive/MyDrive/EyeGaze/Normalized/p09/day17.mat', '/content/drive/MyDrive/EyeGaze/Normalized/p09/day18.mat', '/content/drive/MyDrive/EyeGaze/Normalized/p09/day19.mat', '/content/drive/MyDrive/EyeGaze/Normalized/p09/day20.mat', '/content/drive/MyDrive/EyeGaze/Normalized/p10/day01.mat', '/content/drive/MyDrive/EyeGaze/Normalized/p10/day02.mat', '/content/drive/MyDrive/EyeGaze/Normalized/p10/day03.mat', '/content/drive/MyDrive/EyeGaze/Normalized/p10/day04.mat', '/content/drive/MyDrive/EyeGaze/Normalized/p10/day05.mat', '/content/drive/MyDrive/EyeGaze/Normalized/p10/day06.mat', '/content/drive/MyDrive/EyeGaze/Normalized/p10/day07.mat', '/content/drive/MyDrive/EyeGaze/Normalized/p10/day08.mat', '/content/drive/MyDrive/EyeGaze/Normalized/p10/day09.mat', '/content/drive/MyDrive/EyeGaze/Normalized/p10/day10.mat', '/content/drive/MyDrive/EyeGaze/Normalized/p10/day11.mat', '/content/drive/MyDrive/EyeGaze/Normalized/p10/day12.mat', '/content/drive/MyDrive/EyeGaze/Normalized/p10/day13.mat', '/content/drive/MyDrive/EyeGaze/Normalized/p10/day14.mat', '/content/drive/MyDrive/EyeGaze/Normalized/p10/day15.mat', '/content/drive/MyDrive/EyeGaze/Normalized/p10/day16.mat', '/content/drive/MyDrive/EyeGaze/Normalized/p11/day01.mat', '/content/drive/MyDrive/EyeGaze/Normalized/p11/day02.mat', '/content/drive/MyDrive/EyeGaze/Normalized/p11/day03.mat', '/content/drive/MyDrive/EyeGaze/Normalized/p11/day04.mat', '/content/drive/MyDrive/EyeGaze/Normalized/p11/day05.mat', '/content/drive/MyDrive/EyeGaze/Normalized/p11/day06.mat', '/content/drive/MyDrive/EyeGaze/Normalized/p11/day07.mat', '/content/drive/MyDrive/EyeGaze/Normalized/p11/day08.mat', '/content/drive/MyDrive/EyeGaze/Normalized/p11/day09.mat', '/content/drive/MyDrive/EyeGaze/Normalized/p11/day10.mat', '/content/drive/MyDrive/EyeGaze/Normalized/p11/day11.mat', '/content/drive/MyDrive/EyeGaze/Normalized/p11/day12.mat', '/content/drive/MyDrive/EyeGaze/Normalized/p11/day13.mat', '/content/drive/MyDrive/EyeGaze/Normalized/p11/day14.mat', '/content/drive/MyDrive/EyeGaze/Normalized/p11/day15.mat', '/content/drive/MyDrive/EyeGaze/Normalized/p11/day16.mat', '/content/drive/MyDrive/EyeGaze/Normalized/p11/day17.mat', '/content/drive/MyDrive/EyeGaze/Normalized/p11/day18.mat', '/content/drive/MyDrive/EyeGaze/Normalized/p11/day19.mat', '/content/drive/MyDrive/EyeGaze/Normalized/p12/day01.mat', '/content/drive/MyDrive/EyeGaze/Normalized/p12/day02.mat', '/content/drive/MyDrive/EyeGaze/Normalized/p12/day03.mat', '/content/drive/MyDrive/EyeGaze/Normalized/p12/day04.mat', '/content/drive/MyDrive/EyeGaze/Normalized/p12/day05.mat', '/content/drive/MyDrive/EyeGaze/Normalized/p12/day06.mat', '/content/drive/MyDrive/EyeGaze/Normalized/p12/day07.mat', '/content/drive/MyDrive/EyeGaze/Normalized/p13/day01.mat', '/content/drive/MyDrive/EyeGaze/Normalized/p13/day02.mat', '/content/drive/MyDrive/EyeGaze/Normalized/p13/day03.mat', '/content/drive/MyDrive/EyeGaze/Normalized/p13/day04.mat', '/content/drive/MyDrive/EyeGaze/Normalized/p13/day05.mat', '/content/drive/MyDrive/EyeGaze/Normalized/p13/day06.mat', '/content/drive/MyDrive/EyeGaze/Normalized/p13/day07.mat', '/content/drive/MyDrive/EyeGaze/Normalized/p13/day08.mat', '/content/drive/MyDrive/EyeGaze/Normalized/p13/day09.mat', '/content/drive/MyDrive/EyeGaze/Normalized/p13/day10.mat', '/content/drive/MyDrive/EyeGaze/Normalized/p13/day11.mat', '/content/drive/MyDrive/EyeGaze/Normalized/p13/day12.mat', '/content/drive/MyDrive/EyeGaze/Normalized/p14/day01.mat', '/content/drive/MyDrive/EyeGaze/Normalized/p14/day02.mat', '/content/drive/MyDrive/EyeGaze/Normalized/p14/day03.mat', '/content/drive/MyDrive/EyeGaze/Normalized/p14/day04.mat', '/content/drive/MyDrive/EyeGaze/Normalized/p14/day05.mat', '/content/drive/MyDrive/EyeGaze/Normalized/p14/day06.mat', '/content/drive/MyDrive/EyeGaze/Normalized/p14/day07.mat']\n"
          ],
          "name": "stdout"
        }
      ]
    },
    {
      "cell_type": "code",
      "metadata": {
        "id": "7oL7zkFRYf9z"
      },
      "source": [
        "from scipy.io import loadmat\n",
        "def read_eye_data(mat):\n",
        "  '''\n",
        "  read each mat file info \n",
        "  '''\n",
        "  mat_data = loadmat(mat)\n",
        "  right_info = mat_data['data']['right'][0, 0]\n",
        "  gaze = right_info['gaze'][0, 0]\n",
        "  image = right_info['image'][0, 0]\n",
        "  pose = right_info['pose'][0, 0]\n",
        "  return gaze, image, pose\n",
        "\n",
        "def collect_data_from_mat(path):\n",
        "  '''\n",
        "  collect data from annotation part\n",
        "  :param path: path of normalized data \n",
        "  :return:  list of index, image, pose, gaze\n",
        "  '''\n",
        "  mat_files = glob.glob(path + '/Normalized/**/*.mat', recursive = True)\n",
        "  mat_files.sort()\n",
        "  # dict to store\n",
        "  gaze = list()\n",
        "  image = list()\n",
        "  index = list()\n",
        "  pose = list()\n",
        "  # X: image, head_pose \n",
        "  # y: gaze vector\n",
        "  # index: pnum, pday\n",
        "  for matfile in tqdm(mat_files):\n",
        "    pnum = matfile.split('/')[-2]  # pxx\n",
        "    pday = matfile.split('/')[-1].split('.')[0] # day0x\n",
        "    index.append(pnum + '/' + pday)\n",
        "    \n",
        "    fgaze, fimage, fpose = read_eye_data(matfile)\n",
        "\n",
        "    if gaze == []:\n",
        "      gaze = fgaze\n",
        "      image = fimage\n",
        "      pose = fpose\n",
        "    else:\n",
        "      gaze = np.append(gaze, fgaze, axis = 0)\n",
        "      image = np.append(image, fimage, axis = 0)\n",
        "      pose = np.append(pose, fpose, axis = 0)\n",
        "\n",
        "  return gaze, image, pose, index "
      ],
      "execution_count": null,
      "outputs": []
    },
    {
      "cell_type": "code",
      "metadata": {
        "id": "qZ3oEjqY40B8",
        "colab": {
          "base_uri": "https://localhost:8080/"
        },
        "outputId": "32c60ac0-5867-416a-885d-02212d5090eb"
      },
      "source": [
        "gaze, image, pose, index = collect_data_from_mat(path)"
      ],
      "execution_count": null,
      "outputs": [
        {
          "output_type": "stream",
          "text": [
            "  0%|          | 0/521 [00:00<?, ?it/s]/usr/local/lib/python3.7/dist-packages/ipykernel_launcher.py:36: DeprecationWarning: elementwise comparison failed; this will raise an error in the future.\n",
            "100%|██████████| 521/521 [00:55<00:00,  9.40it/s]\n"
          ],
          "name": "stderr"
        }
      ]
    },
    {
      "cell_type": "code",
      "metadata": {
        "colab": {
          "base_uri": "https://localhost:8080/"
        },
        "id": "2zN_XRE-r02-",
        "outputId": "676c254d-1e21-4585-918a-1fbf5f1a3909"
      },
      "source": [
        "print(\"gaze vector shape\")\n",
        "print(gaze.shape)\n",
        "print(\"pose vector shape\")\n",
        "print(pose.shape)\n",
        "print(\"image vector shape\")\n",
        "print(image.shape)"
      ],
      "execution_count": null,
      "outputs": [
        {
          "output_type": "stream",
          "text": [
            "gaze vector shape\n",
            "(213658, 3)\n",
            "pose vector shape\n",
            "(213658, 3)\n",
            "image vector shape\n",
            "(213658, 36, 60)\n"
          ],
          "name": "stdout"
        }
      ]
    },
    {
      "cell_type": "markdown",
      "metadata": {
        "id": "Pp4H16Fp4QBE"
      },
      "source": [
        "From the above data processing, we can know the dimension and size of the vector.\n",
        "Now the gaze vector and pose vector are all 3 dimension, while the eye image (we only process one eye in this training task) is a 36 * 60 pixels grey image.\n",
        "I'll print an example of the data:"
      ]
    },
    {
      "cell_type": "code",
      "metadata": {
        "colab": {
          "base_uri": "https://localhost:8080/",
          "height": 104
        },
        "id": "LwBS1dNJoaEk",
        "outputId": "1b9ea6e1-df36-430c-bae4-045160f8b285"
      },
      "source": [
        "idx = 0\n",
        "print(index[idx])\n",
        "print(pose[idx])\n",
        "print(gaze[idx])\n",
        "Image.fromarray(image[idx].reshape((36, 60)))"
      ],
      "execution_count": null,
      "outputs": [
        {
          "output_type": "stream",
          "text": [
            "p00/day01\n",
            "[-0.15190792  0.24172508  0.01848624]\n",
            "[-0.12202543  0.09011014 -0.98842802]\n"
          ],
          "name": "stdout"
        },
        {
          "output_type": "execute_result",
          "data": {
            "image/png": "[encoded data removed]",
            "text/plain": [
              "<PIL.Image.Image image mode=L size=60x36 at 0x7F669ED38E50>"
            ]
          },
          "metadata": {
            "tags": []
          },
          "execution_count": 9
        }
      ]
    },
    {
      "cell_type": "markdown",
      "metadata": {
        "id": "vU4hXiBtfS2r"
      },
      "source": [
        "gaze(x, y, z) should be normalized 3D **vector** of the eye. x axis is parallel to the line that connects the midpoint of two eyes.\n",
        "To simpify our CNN model, there's no need for us to use a 3D vector which might be more complicated, so the author just use two crutial angles to denote the gaze direction. \n",
        "\n",
        "pose(a, b, c) represents the rotation(**angle**) of the head. When dealing with the 3D transformation, the rotation matrix is usually used, but the rotation transformation actually only has three degrees of freedom, which is more concise when expressed in a rotation vector. Therefore, it is necessary to realize the mutual conversion between the rotation vector and the rotation matrix."
      ]
    },
    {
      "cell_type": "markdown",
      "metadata": {
        "id": "dalKmHvrQw45"
      },
      "source": [
        "### 2. Dimension transformation\n",
        "In this part, we should change pose and gaze vector from 3D to 2D. The suggested code is shown on the dataset website."
      ]
    },
    {
      "cell_type": "code",
      "metadata": {
        "id": "lvNfmin0GZA-"
      },
      "source": [
        "import cv2 as cv\n",
        "def pose3D_to_2D(pose):\n",
        "  '''\n",
        "    pose (a, b, c) is rotation (angle)\n",
        "    M = Rodrigues((x,y,z))\n",
        "    Zv = (the third column of M)\n",
        "    theta = asin(Zv[1])\n",
        "    phi = atan2(Zv[0], Zv[2])\n",
        "  '''\n",
        "  M, _ = cv.Rodrigues(np.array(pose).astype(np.float32))\n",
        "  vec = M[:, 2]\n",
        "  phi = np.arctan2(vec[0], vec[2])\n",
        "  theta = np.arcsin(vec[1])\n",
        "  return np.array([theta, phi])\n",
        "\n",
        "def gaze3D_to_2D(gaze):\n",
        "  '''\n",
        "    gaze (x, y, z) is direction\n",
        "    theta = asin(-y)\n",
        "    phi = atan2(-x, -z)\n",
        "  '''\n",
        "  x, y, z = (gaze[i] for i in range(3))\n",
        "  theta = np.arcsin(-y)\n",
        "  phi = np.arctan2(-x, -z)\n",
        "  return np.stack((theta, phi)).T"
      ],
      "execution_count": null,
      "outputs": []
    },
    {
      "cell_type": "code",
      "metadata": {
        "id": "TjF79qRzn2t2"
      },
      "source": [
        "pose2d = []\n",
        "gaze2d = []\n",
        "for i in np.arange(0, len(gaze), 1):\n",
        "  pose2d.append(pose3D_to_2D(pose[i]))\n",
        "  gaze2d.append(gaze3D_to_2D(gaze[i]))\n",
        "\n",
        "poses = np.array(pose2d)\n",
        "gazes = np.array(gaze2d)"
      ],
      "execution_count": null,
      "outputs": []
    },
    {
      "cell_type": "code",
      "metadata": {
        "id": "xBsMSwNdyk7m"
      },
      "source": [
        "img_train, img_test, pose_train, pose_test, gaze_train, gaze_test = train_test_split(\n",
        "    image, gazes, poses, test_size = 0.33, random_state = 0\n",
        ")"
      ],
      "execution_count": null,
      "outputs": []
    },
    {
      "cell_type": "code",
      "metadata": {
        "colab": {
          "base_uri": "https://localhost:8080/"
        },
        "id": "xYoWc3iQ8ILi",
        "outputId": "f62ded32-3d6c-4bc3-fa77-d93853c68ba8"
      },
      "source": [
        "print(img_train[1])\n",
        "print(img_test.shape)\n",
        "print(pose_train[1])\n",
        "print(\"training data size:\",end=\"\")\n",
        "print(pose_train.shape[0])\n",
        "print(\"test data size:\", end=\"\")\n",
        "print(pose_test.shape[0])\n"
      ],
      "execution_count": null,
      "outputs": [
        {
          "output_type": "stream",
          "text": [
            "[[255 255 254 ... 150 150 125]\n",
            " [254 254 254 ... 125  95  95]\n",
            " [254 254 254 ...  67  95  95]\n",
            " ...\n",
            " [250 250 250 ... 246 250 250]\n",
            " [250 250 246 ... 242 246 246]\n",
            " [252 252 246 ... 246 250 250]]\n",
            "(70508, 36, 60)\n",
            "[-0.30859049  0.16778534]\n",
            "training data size:143150\n",
            "test data size:70508\n"
          ],
          "name": "stdout"
        }
      ]
    },
    {
      "cell_type": "markdown",
      "metadata": {
        "id": "u9XCCUpV6BZf"
      },
      "source": [
        "### 3. Muti-modal CNN"
      ]
    },
    {
      "cell_type": "markdown",
      "metadata": {
        "id": "Skgn_0IMtOfA"
      },
      "source": [
        "Use the LeNet framework."
      ]
    },
    {
      "cell_type": "code",
      "metadata": {
        "id": "9jRZnuXStATC"
      },
      "source": [
        "import torch\n",
        "import torch.nn as nn\n",
        "import torch.nn.functional as F\n",
        "\n",
        "\n",
        "def initialize_weights(module):\n",
        "    if isinstance(module, nn.Conv2d):\n",
        "        nn.init.constant_(module.bias, 0)\n",
        "    elif isinstance(module, nn.Linear):\n",
        "        nn.init.xavier_uniform_(module.weight)\n",
        "        nn.init.constant_(module.bias, 0)\n",
        "\n",
        "class Model(nn.Module):\n",
        "    def __init__(self):\n",
        "        super(Model, self).__init__()\n",
        "\n",
        "        self.conv1 = nn.Conv2d(1, 20, kernel_size=5, stride=1, padding=0)\n",
        "        self.conv2 = nn.Conv2d(20, 50, kernel_size=5, stride=1, padding=0)\n",
        "        self.fc1 = nn.Linear(3600, 500)  \n",
        "        self.fc2 = nn.Linear(502, 2)\n",
        "\n",
        "        self._initialize_weight()\n",
        "\n",
        "    def _initialize_weight(self):\n",
        "        nn.init.normal_(self.conv1.weight, mean=0, std=0.1)\n",
        "        nn.init.normal_(self.conv2.weight, mean=0, std=0.01)\n",
        "        self.apply(initialize_weights)\n",
        "\n",
        "    def forward(self, x, y):\n",
        "        x = F.max_pool2d(self.conv1(x), kernel_size=2, stride=2)\n",
        "        x = F.max_pool2d(self.conv2(x), kernel_size=2, stride=2)\n",
        "        x = F.relu(self.fc1(x.view(x.size(0), -1)), inplace=True) #flatten        \n",
        "        x = torch.cat([x, y], dim=1)\n",
        "        x = self.fc2(x)\n",
        "        return x"
      ],
      "execution_count": null,
      "outputs": []
    },
    {
      "cell_type": "code",
      "metadata": {
        "colab": {
          "base_uri": "https://localhost:8080/"
        },
        "id": "w1AbDx-Y_xTk",
        "outputId": "e2df1a5c-f22d-4ea9-a84c-85d3306eddac"
      },
      "source": [
        "GazeCNN = Model()\n",
        "\n",
        "optimizer = torch.optim.Adam(GazeCNN.parameters(), lr=0.0001)\n",
        "criterion = torch.nn.SmoothL1Loss(reduction='mean')\n",
        "\n",
        "def batch_training(img, gaze, pose, j, bt):\n",
        "  a = torch.randn(batch,1,36, 60)\n",
        "  b = torch.randn(batch,2)\n",
        "  c = torch.randn(batch,2)\n",
        "  for i in range(batch):\n",
        "    a[i, 0] = torch.tensor(img_train[j * bt + i])\n",
        "    b[i] = torch.tensor(pose_train[j * bt + i])\n",
        "    c[i] = torch.tensor(gaze_train[j * bt + i])\n",
        "  return a, b, c\n",
        "\n",
        "def batch_test(img, gaze, pose, j, bt):\n",
        "  a = torch.randn(batch,1,36, 60)\n",
        "  b = torch.randn(batch,2)\n",
        "  c = torch.randn(batch,2)\n",
        "  for i in range(batch):\n",
        "    a[i, 0] = torch.tensor(img_test[j * bt + i])\n",
        "    b[i] = torch.tensor(pose_test[j * bt + i])\n",
        "    c[i] = torch.tensor(gaze_test[j * bt + i])\n",
        "  return a, b, c\n",
        "\n",
        "\n",
        "for epoch in range(3):\n",
        "  batch = 10\n",
        "  for i in tqdm(range(14315)):\n",
        "  # training data \n",
        "    img = torch.randn(batch, 1, 36, 60)\n",
        "    gaze = torch.randn(batch, 2)\n",
        "    pose = torch.randn(batch, 2)\n",
        "    img, gaze, pose = batch_training(img, gaze, pose, i, batch)\n",
        "\n",
        "    gaze_pred = GazeCNN(img, pose)\n",
        "    loss = criterion(gaze_pred, gaze)\n",
        "    loss.backward()\n",
        "    optimizer.step()\n",
        "\n",
        "  timg, tgaze, tpose = batch_test(img, gaze, pose, 0, batch)\n",
        "  gaze_pred = GazeCNN(timg, tpose)\n",
        "  loss = criterion(gaze_pred, tgaze)\n",
        "  print(\"epoch \", epoch, \", test loss:\", loss)\n",
        "\n",
        "  "
      ],
      "execution_count": null,
      "outputs": [
        {
          "output_type": "stream",
          "text": [
            "100%|██████████| 14315/14315 [11:55<00:00, 20.00it/s]\n",
            "  0%|          | 3/14315 [00:00<11:09, 21.37it/s]"
          ],
          "name": "stderr"
        },
        {
          "output_type": "stream",
          "text": [
            "epoch  0 , test loss: tensor(0.0090, grad_fn=<SmoothL1LossBackward>)\n"
          ],
          "name": "stdout"
        },
        {
          "output_type": "stream",
          "text": [
            "100%|██████████| 14315/14315 [11:29<00:00, 20.76it/s]\n",
            "  0%|          | 2/14315 [00:00<12:19, 19.36it/s]"
          ],
          "name": "stderr"
        },
        {
          "output_type": "stream",
          "text": [
            "epoch  1 , test loss: tensor(0.0084, grad_fn=<SmoothL1LossBackward>)\n"
          ],
          "name": "stdout"
        },
        {
          "output_type": "stream",
          "text": [
            "100%|██████████| 14315/14315 [11:27<00:00, 20.82it/s]"
          ],
          "name": "stderr"
        },
        {
          "output_type": "stream",
          "text": [
            "epoch  2 , test loss: tensor(0.0075, grad_fn=<SmoothL1LossBackward>)\n"
          ],
          "name": "stdout"
        },
        {
          "output_type": "stream",
          "text": [
            "\n"
          ],
          "name": "stderr"
        }
      ]
    },
    {
      "cell_type": "markdown",
      "metadata": {
        "id": "sPoFkEORJOrt"
      },
      "source": [
        "epoch  0 , test loss: tensor(0.0096, grad_fn=<SmoothL1LossBackward>)\n",
        "epoch  1 , test loss: tensor(0.0109, grad_fn=<SmoothL1LossBackward>)\n",
        "epoch  2 , test loss: tensor(0.0088, grad_fn=<SmoothL1LossBackward>)\n",
        "epoch  3 , test loss: tensor(0.0078, grad_fn=<SmoothL1LossBackward>)\n",
        "epoch  4 , test loss: tensor(0.0082, grad_fn=<SmoothL1LossBackward>)\n",
        "\n",
        "> Indented block\n",
        "\n"
      ]
    },
    {
      "cell_type": "markdown",
      "metadata": {
        "id": "83TYES7yWWiQ"
      },
      "source": [
        "100%|██████████| 14315/14315 [11:25<00:00, 20.89it/s]\n",
        "  0%|          | 3/14315 [00:00<10:48, 22.07it/s]epoch  0 , test loss: tensor(0.0099, grad_fn=<SmoothL1LossBackward>)\n",
        "100%|██████████| 14315/14315 [10:59<00:00, 21.72it/s]\n",
        "  0%|          | 3/14315 [00:00<11:02, 21.60it/s]epoch  1 , test loss: tensor(0.0086, grad_fn=<SmoothL1LossBackward>)\n",
        "100%|██████████| 14315/14315 [10:59<00:00, 21.69it/s]\n",
        "  0%|          | 3/14315 [00:00<11:02, 21.59it/s]epoch  2 , test loss: tensor(0.0082, grad_fn=<SmoothL1LossBackward>)\n",
        "100%|██████████| 14315/14315 [11:05<00:00, 21.50it/s]\n",
        "  0%|          | 3/14315 [00:00<11:36, 20.56it/s]epoch  3 , test loss: tensor(0.0077, grad_fn=<SmoothL1LossBackward>)\n",
        "100%|██████████| 14315/14315 [11:02<00:00, 21.62it/s]\n",
        "epoch  4 , test loss: tensor(0.0080, grad_fn=<SmoothL1LossBackward>)"
      ]
    },
    {
      "cell_type": "code",
      "metadata": {
        "colab": {
          "base_uri": "https://localhost:8080/"
        },
        "id": "nwEw-taW56MT",
        "outputId": "10271c1d-942d-44e8-f72c-95090dcdcdf8"
      },
      "source": [
        "test_loss = 0\n",
        "for i in tqdm(range(3000)):\n",
        "  timg, tgaze, tpose = batch_test(img, gaze, pose, i, batch)\n",
        "  gaze_pred = GazeCNN(timg, tpose)\n",
        "  test_loss += criterion(gaze_pred, tgaze)\n",
        "\n",
        "print(test_loss / 3000)"
      ],
      "execution_count": null,
      "outputs": [
        {
          "output_type": "stream",
          "text": [
            "100%|██████████| 3000/3000 [01:02<00:00, 48.18it/s]"
          ],
          "name": "stderr"
        },
        {
          "output_type": "stream",
          "text": [
            "tensor(0.0081, grad_fn=<DivBackward0>)\n"
          ],
          "name": "stdout"
        },
        {
          "output_type": "stream",
          "text": [
            "\n"
          ],
          "name": "stderr"
        }
      ]
    },
    {
      "cell_type": "markdown",
      "metadata": {
        "id": "v1QDfOjzjKmA"
      },
      "source": [
        "probLems:\n",
        "1. server crashed when processing test datasets\n",
        "\n",
        "2. measurement on loss/ accuracy -- how to judge my model\n"
      ]
    },
    {
      "cell_type": "markdown",
      "metadata": {
        "id": "Syp3TkADvPLG"
      },
      "source": [
        "### References\n",
        "1. https://www.mpi-inf.mpg.de/de/departments/computer-vision-and-machine-learning/research/gaze-based-human-computer-interaction/appearance-based-gaze-estimation-in-the-wild\n",
        "\n",
        "2. Y. Sugano, Y. Matsushita, and Y. Sato. Learning-by-synthesis for appearance-based 3d gaze estimation. In Computer Vision and Pattern Recognition (CVPR), 2014 IEEE Conference on, pages 1821–1828. IEEE, 2014.\n",
        "\n",
        "3. \n"
      ]
    }
  ]
}