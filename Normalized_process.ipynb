{
  "nbformat": 4,
  "nbformat_minor": 0,
  "metadata": {
    "colab": {
      "name": "Normalized_process.ipynb",
      "provenance": [],
      "collapsed_sections": [],
      "authorship_tag": "ABX9TyPjJGXDRSMlvz7Yn6M1hYvr",
      "include_colab_link": true
    },
    "kernelspec": {
      "name": "python3",
      "display_name": "Python 3"
    }
  },
  "cells": [
    {
      "cell_type": "markdown",
      "metadata": {
        "id": "view-in-github",
        "colab_type": "text"
      },
      "source": [
        "<a href=\"https://colab.research.google.com/github/SiciliaLeco/EyeGaze/blob/master/Normalized_process.ipynb\" target=\"_parent\"><img src=\"https://colab.research.google.com/assets/colab-badge.svg\" alt=\"Open In Colab\"/></a>"
      ]
    },
    {
      "cell_type": "markdown",
      "metadata": {
        "id": "ZFOWQGZbV4dZ"
      },
      "source": [
        "## Appearance-based Gaze Estimation (Feb 20)\n",
        "\n",
        "dataset: MPIIGaze https://www.perceptualui.org/research/datasets/MPIIGaze/ \n",
        "\n",
        "CNN frame: LeNet "
      ]
    },
    {
      "cell_type": "markdown",
      "metadata": {
        "id": "qjSsP2_rWEil"
      },
      "source": [
        "### 1. Pre-processing data "
      ]
    },
    {
      "cell_type": "code",
      "metadata": {
        "id": "TZtFQOIIWCLY"
      },
      "source": [
        "from scipy.io import loadmat\n",
        "import numpy as np\n",
        "import pandas as pd\n",
        "from PIL import Image\n",
        "import glob\n",
        "from tqdm import tqdm\n",
        "from sklearn.model_selection import train_test_split\n",
        "from google.colab import drive "
      ],
      "execution_count": null,
      "outputs": []
    },
    {
      "cell_type": "markdown",
      "metadata": {
        "id": "jhYsyQZy4_KJ"
      },
      "source": [
        "To use COLAB, we should first connect to the drive then retreive the data."
      ]
    },
    {
      "cell_type": "code",
      "metadata": {
        "colab": {
          "base_uri": "https://localhost:8080/"
        },
        "id": "7HnveBscWRiH",
        "outputId": "53564001-b518-4f3c-8d44-23d923ea157c"
      },
      "source": [
        "# Use google.colab to use drive dataset  \n",
        "import os\n",
        "drive.mount('/content/drive')\n",
        "path = \"/content/drive/MyDrive/EyeGaze\"\n",
        "os.listdir(path)"
      ],
      "execution_count": null,
      "outputs": [
        {
          "output_type": "stream",
          "text": [
            "Drive already mounted at /content/drive; to attempt to forcibly remount, call drive.mount(\"/content/drive\", force_remount=True).\n"
          ],
          "name": "stdout"
        },
        {
          "output_type": "execute_result",
          "data": {
            "text/plain": [
              "['Normalized', 'Untitled0.ipynb']"
            ]
          },
          "metadata": {
            "tags": []
          },
          "execution_count": 27
        }
      ]
    },
    {
      "cell_type": "code",
      "metadata": {
        "colab": {
          "base_uri": "https://localhost:8080/"
        },
        "id": "0xSyWtfBX-1w",
        "outputId": "0d557bf7-254c-4916-ed65-3f439b7e1c1b"
      },
      "source": [
        "mat_files = glob.glob(path + '/Normalized/**/*.mat', recursive=True)\n",
        "mat_files.sort()\n",
        "print(mat_files)"
      ],
      "execution_count": null,
      "outputs": [
        {
          "output_type": "stream",
          "text": [
            "['/content/drive/MyDrive/EyeGaze/Normalized/p00/day01.mat', '/content/drive/MyDrive/EyeGaze/Normalized/p00/day02.mat', '/content/drive/MyDrive/EyeGaze/Normalized/p00/day03.mat', '/content/drive/MyDrive/EyeGaze/Normalized/p00/day04.mat', '/content/drive/MyDrive/EyeGaze/Normalized/p00/day05.mat', '/content/drive/MyDrive/EyeGaze/Normalized/p00/day06.mat', '/content/drive/MyDrive/EyeGaze/Normalized/p00/day07.mat', '/content/drive/MyDrive/EyeGaze/Normalized/p00/day08.mat', '/content/drive/MyDrive/EyeGaze/Normalized/p00/day09.mat', '/content/drive/MyDrive/EyeGaze/Normalized/p00/day10.mat', '/content/drive/MyDrive/EyeGaze/Normalized/p00/day11.mat', '/content/drive/MyDrive/EyeGaze/Normalized/p00/day12.mat', '/content/drive/MyDrive/EyeGaze/Normalized/p00/day13.mat', '/content/drive/MyDrive/EyeGaze/Normalized/p00/day14.mat', '/content/drive/MyDrive/EyeGaze/Normalized/p00/day15.mat', '/content/drive/MyDrive/EyeGaze/Normalized/p00/day16.mat', '/content/drive/MyDrive/EyeGaze/Normalized/p00/day17.mat', '/content/drive/MyDrive/EyeGaze/Normalized/p00/day18.mat', '/content/drive/MyDrive/EyeGaze/Normalized/p00/day19.mat', '/content/drive/MyDrive/EyeGaze/Normalized/p00/day20.mat', '/content/drive/MyDrive/EyeGaze/Normalized/p00/day21.mat', '/content/drive/MyDrive/EyeGaze/Normalized/p00/day22.mat', '/content/drive/MyDrive/EyeGaze/Normalized/p00/day23.mat', '/content/drive/MyDrive/EyeGaze/Normalized/p00/day24.mat', '/content/drive/MyDrive/EyeGaze/Normalized/p00/day25.mat', '/content/drive/MyDrive/EyeGaze/Normalized/p00/day26.mat', '/content/drive/MyDrive/EyeGaze/Normalized/p00/day27.mat', '/content/drive/MyDrive/EyeGaze/Normalized/p00/day28.mat', '/content/drive/MyDrive/EyeGaze/Normalized/p00/day29.mat', '/content/drive/MyDrive/EyeGaze/Normalized/p00/day30.mat', '/content/drive/MyDrive/EyeGaze/Normalized/p00/day31.mat', '/content/drive/MyDrive/EyeGaze/Normalized/p00/day32.mat', '/content/drive/MyDrive/EyeGaze/Normalized/p00/day33.mat', '/content/drive/MyDrive/EyeGaze/Normalized/p00/day34.mat', '/content/drive/MyDrive/EyeGaze/Normalized/p00/day35.mat', '/content/drive/MyDrive/EyeGaze/Normalized/p00/day36.mat', '/content/drive/MyDrive/EyeGaze/Normalized/p00/day37.mat', '/content/drive/MyDrive/EyeGaze/Normalized/p00/day38.mat', '/content/drive/MyDrive/EyeGaze/Normalized/p00/day39.mat', '/content/drive/MyDrive/EyeGaze/Normalized/p01/day01.mat', '/content/drive/MyDrive/EyeGaze/Normalized/p01/day02.mat', '/content/drive/MyDrive/EyeGaze/Normalized/p01/day03.mat', '/content/drive/MyDrive/EyeGaze/Normalized/p01/day04.mat', '/content/drive/MyDrive/EyeGaze/Normalized/p01/day05.mat', '/content/drive/MyDrive/EyeGaze/Normalized/p01/day06.mat', '/content/drive/MyDrive/EyeGaze/Normalized/p01/day07.mat', '/content/drive/MyDrive/EyeGaze/Normalized/p01/day08.mat', '/content/drive/MyDrive/EyeGaze/Normalized/p01/day09.mat', '/content/drive/MyDrive/EyeGaze/Normalized/p01/day10.mat', '/content/drive/MyDrive/EyeGaze/Normalized/p01/day11.mat', '/content/drive/MyDrive/EyeGaze/Normalized/p01/day12.mat', '/content/drive/MyDrive/EyeGaze/Normalized/p01/day13.mat', '/content/drive/MyDrive/EyeGaze/Normalized/p01/day14.mat', '/content/drive/MyDrive/EyeGaze/Normalized/p01/day15.mat', '/content/drive/MyDrive/EyeGaze/Normalized/p01/day16.mat', '/content/drive/MyDrive/EyeGaze/Normalized/p01/day17.mat', '/content/drive/MyDrive/EyeGaze/Normalized/p01/day18.mat', '/content/drive/MyDrive/EyeGaze/Normalized/p01/day19.mat', '/content/drive/MyDrive/EyeGaze/Normalized/p01/day20.mat', '/content/drive/MyDrive/EyeGaze/Normalized/p01/day21.mat', '/content/drive/MyDrive/EyeGaze/Normalized/p01/day22.mat', '/content/drive/MyDrive/EyeGaze/Normalized/p01/day23.mat', '/content/drive/MyDrive/EyeGaze/Normalized/p01/day24.mat', '/content/drive/MyDrive/EyeGaze/Normalized/p01/day25.mat', '/content/drive/MyDrive/EyeGaze/Normalized/p01/day26.mat', '/content/drive/MyDrive/EyeGaze/Normalized/p01/day27.mat', '/content/drive/MyDrive/EyeGaze/Normalized/p01/day28.mat', '/content/drive/MyDrive/EyeGaze/Normalized/p01/day29.mat', '/content/drive/MyDrive/EyeGaze/Normalized/p01/day30.mat', '/content/drive/MyDrive/EyeGaze/Normalized/p01/day31.mat', '/content/drive/MyDrive/EyeGaze/Normalized/p01/day32.mat', '/content/drive/MyDrive/EyeGaze/Normalized/p01/day33.mat', '/content/drive/MyDrive/EyeGaze/Normalized/p01/day34.mat', '/content/drive/MyDrive/EyeGaze/Normalized/p01/day35.mat', '/content/drive/MyDrive/EyeGaze/Normalized/p01/day36.mat', '/content/drive/MyDrive/EyeGaze/Normalized/p01/day37.mat', '/content/drive/MyDrive/EyeGaze/Normalized/p01/day38.mat', '/content/drive/MyDrive/EyeGaze/Normalized/p01/day39.mat', '/content/drive/MyDrive/EyeGaze/Normalized/p01/day40.mat', '/content/drive/MyDrive/EyeGaze/Normalized/p01/day41.mat', '/content/drive/MyDrive/EyeGaze/Normalized/p01/day42.mat', '/content/drive/MyDrive/EyeGaze/Normalized/p01/day43.mat', '/content/drive/MyDrive/EyeGaze/Normalized/p01/day44.mat', '/content/drive/MyDrive/EyeGaze/Normalized/p01/day45.mat', '/content/drive/MyDrive/EyeGaze/Normalized/p01/day46.mat', '/content/drive/MyDrive/EyeGaze/Normalized/p01/day47.mat', '/content/drive/MyDrive/EyeGaze/Normalized/p01/day48.mat', '/content/drive/MyDrive/EyeGaze/Normalized/p01/day49.mat', '/content/drive/MyDrive/EyeGaze/Normalized/p01/day50.mat', '/content/drive/MyDrive/EyeGaze/Normalized/p01/day51.mat', '/content/drive/MyDrive/EyeGaze/Normalized/p01/day52.mat', '/content/drive/MyDrive/EyeGaze/Normalized/p01/day53.mat', '/content/drive/MyDrive/EyeGaze/Normalized/p01/day54.mat', '/content/drive/MyDrive/EyeGaze/Normalized/p01/day55.mat', '/content/drive/MyDrive/EyeGaze/Normalized/p01/day56.mat', '/content/drive/MyDrive/EyeGaze/Normalized/p01/day57.mat', '/content/drive/MyDrive/EyeGaze/Normalized/p01/day58.mat', '/content/drive/MyDrive/EyeGaze/Normalized/p01/day59.mat', '/content/drive/MyDrive/EyeGaze/Normalized/p01/day60.mat', '/content/drive/MyDrive/EyeGaze/Normalized/p01/day61.mat', '/content/drive/MyDrive/EyeGaze/Normalized/p01/day62.mat', '/content/drive/MyDrive/EyeGaze/Normalized/p01/day63.mat', '/content/drive/MyDrive/EyeGaze/Normalized/p01/day64.mat', '/content/drive/MyDrive/EyeGaze/Normalized/p01/day65.mat', '/content/drive/MyDrive/EyeGaze/Normalized/p01/day66.mat', '/content/drive/MyDrive/EyeGaze/Normalized/p01/day67.mat', '/content/drive/MyDrive/EyeGaze/Normalized/p01/day68.mat', '/content/drive/MyDrive/EyeGaze/Normalized/p01/day69.mat', '/content/drive/MyDrive/EyeGaze/Normalized/p02/day01.mat', '/content/drive/MyDrive/EyeGaze/Normalized/p02/day02.mat', '/content/drive/MyDrive/EyeGaze/Normalized/p02/day03.mat', '/content/drive/MyDrive/EyeGaze/Normalized/p02/day04.mat', '/content/drive/MyDrive/EyeGaze/Normalized/p02/day05.mat', '/content/drive/MyDrive/EyeGaze/Normalized/p02/day06.mat', '/content/drive/MyDrive/EyeGaze/Normalized/p02/day07.mat', '/content/drive/MyDrive/EyeGaze/Normalized/p02/day08.mat', '/content/drive/MyDrive/EyeGaze/Normalized/p02/day09.mat', '/content/drive/MyDrive/EyeGaze/Normalized/p02/day10.mat', '/content/drive/MyDrive/EyeGaze/Normalized/p02/day11.mat', '/content/drive/MyDrive/EyeGaze/Normalized/p02/day12.mat', '/content/drive/MyDrive/EyeGaze/Normalized/p02/day13.mat', '/content/drive/MyDrive/EyeGaze/Normalized/p02/day14.mat', '/content/drive/MyDrive/EyeGaze/Normalized/p02/day15.mat', '/content/drive/MyDrive/EyeGaze/Normalized/p02/day16.mat', '/content/drive/MyDrive/EyeGaze/Normalized/p02/day17.mat', '/content/drive/MyDrive/EyeGaze/Normalized/p02/day18.mat', '/content/drive/MyDrive/EyeGaze/Normalized/p02/day19.mat', '/content/drive/MyDrive/EyeGaze/Normalized/p02/day20.mat', '/content/drive/MyDrive/EyeGaze/Normalized/p02/day21.mat', '/content/drive/MyDrive/EyeGaze/Normalized/p02/day22.mat', '/content/drive/MyDrive/EyeGaze/Normalized/p02/day23.mat', '/content/drive/MyDrive/EyeGaze/Normalized/p02/day24.mat', '/content/drive/MyDrive/EyeGaze/Normalized/p02/day25.mat', '/content/drive/MyDrive/EyeGaze/Normalized/p02/day26.mat', '/content/drive/MyDrive/EyeGaze/Normalized/p02/day27.mat', '/content/drive/MyDrive/EyeGaze/Normalized/p02/day28.mat', '/content/drive/MyDrive/EyeGaze/Normalized/p02/day29.mat', '/content/drive/MyDrive/EyeGaze/Normalized/p02/day30.mat', '/content/drive/MyDrive/EyeGaze/Normalized/p02/day31.mat', '/content/drive/MyDrive/EyeGaze/Normalized/p02/day32.mat', '/content/drive/MyDrive/EyeGaze/Normalized/p02/day33.mat', '/content/drive/MyDrive/EyeGaze/Normalized/p02/day34.mat', '/content/drive/MyDrive/EyeGaze/Normalized/p02/day35.mat', '/content/drive/MyDrive/EyeGaze/Normalized/p02/day36.mat', '/content/drive/MyDrive/EyeGaze/Normalized/p02/day37.mat', '/content/drive/MyDrive/EyeGaze/Normalized/p02/day38.mat', '/content/drive/MyDrive/EyeGaze/Normalized/p02/day39.mat', '/content/drive/MyDrive/EyeGaze/Normalized/p03/day01.mat', '/content/drive/MyDrive/EyeGaze/Normalized/p03/day02.mat', '/content/drive/MyDrive/EyeGaze/Normalized/p03/day03.mat', '/content/drive/MyDrive/EyeGaze/Normalized/p03/day04.mat', '/content/drive/MyDrive/EyeGaze/Normalized/p03/day05.mat', '/content/drive/MyDrive/EyeGaze/Normalized/p03/day06.mat', '/content/drive/MyDrive/EyeGaze/Normalized/p03/day07.mat', '/content/drive/MyDrive/EyeGaze/Normalized/p03/day08.mat', '/content/drive/MyDrive/EyeGaze/Normalized/p03/day09.mat', '/content/drive/MyDrive/EyeGaze/Normalized/p03/day10.mat', '/content/drive/MyDrive/EyeGaze/Normalized/p03/day11.mat', '/content/drive/MyDrive/EyeGaze/Normalized/p03/day12.mat', '/content/drive/MyDrive/EyeGaze/Normalized/p03/day13.mat', '/content/drive/MyDrive/EyeGaze/Normalized/p03/day14.mat', '/content/drive/MyDrive/EyeGaze/Normalized/p03/day15.mat', '/content/drive/MyDrive/EyeGaze/Normalized/p03/day16.mat', '/content/drive/MyDrive/EyeGaze/Normalized/p03/day17.mat', '/content/drive/MyDrive/EyeGaze/Normalized/p03/day18.mat', '/content/drive/MyDrive/EyeGaze/Normalized/p03/day19.mat', '/content/drive/MyDrive/EyeGaze/Normalized/p03/day20.mat', '/content/drive/MyDrive/EyeGaze/Normalized/p03/day21.mat', '/content/drive/MyDrive/EyeGaze/Normalized/p03/day22.mat', '/content/drive/MyDrive/EyeGaze/Normalized/p03/day23.mat', '/content/drive/MyDrive/EyeGaze/Normalized/p03/day24.mat', '/content/drive/MyDrive/EyeGaze/Normalized/p03/day25.mat', '/content/drive/MyDrive/EyeGaze/Normalized/p03/day26.mat', '/content/drive/MyDrive/EyeGaze/Normalized/p03/day27.mat', '/content/drive/MyDrive/EyeGaze/Normalized/p03/day28.mat', '/content/drive/MyDrive/EyeGaze/Normalized/p03/day29.mat', '/content/drive/MyDrive/EyeGaze/Normalized/p03/day30.mat', '/content/drive/MyDrive/EyeGaze/Normalized/p03/day31.mat', '/content/drive/MyDrive/EyeGaze/Normalized/p03/day32.mat', '/content/drive/MyDrive/EyeGaze/Normalized/p03/day33.mat', '/content/drive/MyDrive/EyeGaze/Normalized/p03/day34.mat', '/content/drive/MyDrive/EyeGaze/Normalized/p03/day35.mat', '/content/drive/MyDrive/EyeGaze/Normalized/p03/day36.mat', '/content/drive/MyDrive/EyeGaze/Normalized/p03/day37.mat', '/content/drive/MyDrive/EyeGaze/Normalized/p03/day38.mat', '/content/drive/MyDrive/EyeGaze/Normalized/p03/day39.mat', '/content/drive/MyDrive/EyeGaze/Normalized/p03/day40.mat', '/content/drive/MyDrive/EyeGaze/Normalized/p03/day41.mat', '/content/drive/MyDrive/EyeGaze/Normalized/p03/day42.mat', '/content/drive/MyDrive/EyeGaze/Normalized/p03/day43.mat', '/content/drive/MyDrive/EyeGaze/Normalized/p03/day44.mat', '/content/drive/MyDrive/EyeGaze/Normalized/p03/day45.mat', '/content/drive/MyDrive/EyeGaze/Normalized/p03/day46.mat', '/content/drive/MyDrive/EyeGaze/Normalized/p03/day47.mat', '/content/drive/MyDrive/EyeGaze/Normalized/p03/day48.mat', '/content/drive/MyDrive/EyeGaze/Normalized/p03/day49.mat', '/content/drive/MyDrive/EyeGaze/Normalized/p03/day50.mat', '/content/drive/MyDrive/EyeGaze/Normalized/p03/day51.mat', '/content/drive/MyDrive/EyeGaze/Normalized/p03/day52.mat', '/content/drive/MyDrive/EyeGaze/Normalized/p03/day53.mat', '/content/drive/MyDrive/EyeGaze/Normalized/p03/day54.mat', '/content/drive/MyDrive/EyeGaze/Normalized/p03/day55.mat', '/content/drive/MyDrive/EyeGaze/Normalized/p03/day56.mat', '/content/drive/MyDrive/EyeGaze/Normalized/p03/day57.mat', '/content/drive/MyDrive/EyeGaze/Normalized/p03/day58.mat', '/content/drive/MyDrive/EyeGaze/Normalized/p03/day59.mat', '/content/drive/MyDrive/EyeGaze/Normalized/p03/day60.mat', '/content/drive/MyDrive/EyeGaze/Normalized/p03/day61.mat', '/content/drive/MyDrive/EyeGaze/Normalized/p03/day62.mat', '/content/drive/MyDrive/EyeGaze/Normalized/p03/day63.mat', '/content/drive/MyDrive/EyeGaze/Normalized/p03/day64.mat', '/content/drive/MyDrive/EyeGaze/Normalized/p03/day65.mat', '/content/drive/MyDrive/EyeGaze/Normalized/p04/day01.mat', '/content/drive/MyDrive/EyeGaze/Normalized/p04/day02.mat', '/content/drive/MyDrive/EyeGaze/Normalized/p04/day03.mat', '/content/drive/MyDrive/EyeGaze/Normalized/p04/day04.mat', '/content/drive/MyDrive/EyeGaze/Normalized/p04/day05.mat', '/content/drive/MyDrive/EyeGaze/Normalized/p04/day06.mat', '/content/drive/MyDrive/EyeGaze/Normalized/p04/day07.mat', '/content/drive/MyDrive/EyeGaze/Normalized/p04/day08.mat', '/content/drive/MyDrive/EyeGaze/Normalized/p04/day09.mat', '/content/drive/MyDrive/EyeGaze/Normalized/p04/day10.mat', '/content/drive/MyDrive/EyeGaze/Normalized/p04/day11.mat', '/content/drive/MyDrive/EyeGaze/Normalized/p04/day12.mat', '/content/drive/MyDrive/EyeGaze/Normalized/p04/day13.mat', '/content/drive/MyDrive/EyeGaze/Normalized/p04/day14.mat', '/content/drive/MyDrive/EyeGaze/Normalized/p04/day15.mat', '/content/drive/MyDrive/EyeGaze/Normalized/p04/day16.mat', '/content/drive/MyDrive/EyeGaze/Normalized/p04/day17.mat', '/content/drive/MyDrive/EyeGaze/Normalized/p04/day18.mat', '/content/drive/MyDrive/EyeGaze/Normalized/p04/day19.mat', '/content/drive/MyDrive/EyeGaze/Normalized/p04/day20.mat', '/content/drive/MyDrive/EyeGaze/Normalized/p04/day21.mat', '/content/drive/MyDrive/EyeGaze/Normalized/p04/day22.mat', '/content/drive/MyDrive/EyeGaze/Normalized/p04/day23.mat', '/content/drive/MyDrive/EyeGaze/Normalized/p04/day24.mat', '/content/drive/MyDrive/EyeGaze/Normalized/p04/day25.mat', '/content/drive/MyDrive/EyeGaze/Normalized/p05/day01.mat', '/content/drive/MyDrive/EyeGaze/Normalized/p05/day02.mat', '/content/drive/MyDrive/EyeGaze/Normalized/p05/day03.mat', '/content/drive/MyDrive/EyeGaze/Normalized/p05/day04.mat', '/content/drive/MyDrive/EyeGaze/Normalized/p05/day05.mat', '/content/drive/MyDrive/EyeGaze/Normalized/p05/day06.mat', '/content/drive/MyDrive/EyeGaze/Normalized/p05/day07.mat', '/content/drive/MyDrive/EyeGaze/Normalized/p05/day08.mat', '/content/drive/MyDrive/EyeGaze/Normalized/p05/day09.mat', '/content/drive/MyDrive/EyeGaze/Normalized/p05/day10.mat', '/content/drive/MyDrive/EyeGaze/Normalized/p05/day11.mat', '/content/drive/MyDrive/EyeGaze/Normalized/p05/day12.mat', '/content/drive/MyDrive/EyeGaze/Normalized/p05/day13.mat', '/content/drive/MyDrive/EyeGaze/Normalized/p05/day14.mat', '/content/drive/MyDrive/EyeGaze/Normalized/p05/day15.mat', '/content/drive/MyDrive/EyeGaze/Normalized/p05/day16.mat', '/content/drive/MyDrive/EyeGaze/Normalized/p05/day17.mat', '/content/drive/MyDrive/EyeGaze/Normalized/p05/day18.mat', '/content/drive/MyDrive/EyeGaze/Normalized/p05/day19.mat', '/content/drive/MyDrive/EyeGaze/Normalized/p05/day20.mat', '/content/drive/MyDrive/EyeGaze/Normalized/p05/day21.mat', '/content/drive/MyDrive/EyeGaze/Normalized/p05/day22.mat', '/content/drive/MyDrive/EyeGaze/Normalized/p05/day23.mat', '/content/drive/MyDrive/EyeGaze/Normalized/p05/day24.mat', '/content/drive/MyDrive/EyeGaze/Normalized/p05/day25.mat', '/content/drive/MyDrive/EyeGaze/Normalized/p05/day26.mat', '/content/drive/MyDrive/EyeGaze/Normalized/p05/day27.mat', '/content/drive/MyDrive/EyeGaze/Normalized/p05/day28.mat', '/content/drive/MyDrive/EyeGaze/Normalized/p05/day29.mat', '/content/drive/MyDrive/EyeGaze/Normalized/p05/day30.mat', '/content/drive/MyDrive/EyeGaze/Normalized/p05/day31.mat', '/content/drive/MyDrive/EyeGaze/Normalized/p05/day32.mat', '/content/drive/MyDrive/EyeGaze/Normalized/p05/day33.mat', '/content/drive/MyDrive/EyeGaze/Normalized/p05/day34.mat', '/content/drive/MyDrive/EyeGaze/Normalized/p05/day35.mat', '/content/drive/MyDrive/EyeGaze/Normalized/p05/day36.mat', '/content/drive/MyDrive/EyeGaze/Normalized/p05/day37.mat', '/content/drive/MyDrive/EyeGaze/Normalized/p05/day38.mat', '/content/drive/MyDrive/EyeGaze/Normalized/p06/day01.mat', '/content/drive/MyDrive/EyeGaze/Normalized/p06/day02.mat', '/content/drive/MyDrive/EyeGaze/Normalized/p06/day03.mat', '/content/drive/MyDrive/EyeGaze/Normalized/p06/day04.mat', '/content/drive/MyDrive/EyeGaze/Normalized/p06/day05.mat', '/content/drive/MyDrive/EyeGaze/Normalized/p06/day06.mat', '/content/drive/MyDrive/EyeGaze/Normalized/p06/day07.mat', '/content/drive/MyDrive/EyeGaze/Normalized/p06/day08.mat', '/content/drive/MyDrive/EyeGaze/Normalized/p06/day09.mat', '/content/drive/MyDrive/EyeGaze/Normalized/p06/day10.mat', '/content/drive/MyDrive/EyeGaze/Normalized/p06/day11.mat', '/content/drive/MyDrive/EyeGaze/Normalized/p06/day12.mat', '/content/drive/MyDrive/EyeGaze/Normalized/p06/day13.mat', '/content/drive/MyDrive/EyeGaze/Normalized/p06/day14.mat', '/content/drive/MyDrive/EyeGaze/Normalized/p06/day15.mat', '/content/drive/MyDrive/EyeGaze/Normalized/p06/day16.mat', '/content/drive/MyDrive/EyeGaze/Normalized/p06/day17.mat', '/content/drive/MyDrive/EyeGaze/Normalized/p06/day18.mat', '/content/drive/MyDrive/EyeGaze/Normalized/p06/day19.mat', '/content/drive/MyDrive/EyeGaze/Normalized/p06/day20.mat', '/content/drive/MyDrive/EyeGaze/Normalized/p06/day21.mat', '/content/drive/MyDrive/EyeGaze/Normalized/p06/day22.mat', '/content/drive/MyDrive/EyeGaze/Normalized/p06/day23.mat', '/content/drive/MyDrive/EyeGaze/Normalized/p06/day24.mat', '/content/drive/MyDrive/EyeGaze/Normalized/p06/day25.mat', '/content/drive/MyDrive/EyeGaze/Normalized/p06/day26.mat', '/content/drive/MyDrive/EyeGaze/Normalized/p06/day27.mat', '/content/drive/MyDrive/EyeGaze/Normalized/p06/day28.mat', '/content/drive/MyDrive/EyeGaze/Normalized/p06/day29.mat', '/content/drive/MyDrive/EyeGaze/Normalized/p06/day30.mat', '/content/drive/MyDrive/EyeGaze/Normalized/p06/day31.mat', '/content/drive/MyDrive/EyeGaze/Normalized/p06/day32.mat', '/content/drive/MyDrive/EyeGaze/Normalized/p06/day33.mat', '/content/drive/MyDrive/EyeGaze/Normalized/p06/day34.mat', '/content/drive/MyDrive/EyeGaze/Normalized/p06/day35.mat', '/content/drive/MyDrive/EyeGaze/Normalized/p06/day36.mat', '/content/drive/MyDrive/EyeGaze/Normalized/p06/day37.mat', '/content/drive/MyDrive/EyeGaze/Normalized/p06/day38.mat', '/content/drive/MyDrive/EyeGaze/Normalized/p06/day39.mat', '/content/drive/MyDrive/EyeGaze/Normalized/p06/day40.mat', '/content/drive/MyDrive/EyeGaze/Normalized/p06/day41.mat', '/content/drive/MyDrive/EyeGaze/Normalized/p06/day42.mat', '/content/drive/MyDrive/EyeGaze/Normalized/p06/day43.mat', '/content/drive/MyDrive/EyeGaze/Normalized/p06/day44.mat', '/content/drive/MyDrive/EyeGaze/Normalized/p06/day45.mat', '/content/drive/MyDrive/EyeGaze/Normalized/p06/day46.mat', '/content/drive/MyDrive/EyeGaze/Normalized/p06/day47.mat', '/content/drive/MyDrive/EyeGaze/Normalized/p06/day48.mat', '/content/drive/MyDrive/EyeGaze/Normalized/p06/day49.mat', '/content/drive/MyDrive/EyeGaze/Normalized/p06/day50.mat', '/content/drive/MyDrive/EyeGaze/Normalized/p06/day51.mat', '/content/drive/MyDrive/EyeGaze/Normalized/p06/day52.mat', '/content/drive/MyDrive/EyeGaze/Normalized/p06/day53.mat', '/content/drive/MyDrive/EyeGaze/Normalized/p06/day54.mat', '/content/drive/MyDrive/EyeGaze/Normalized/p06/day55.mat', '/content/drive/MyDrive/EyeGaze/Normalized/p06/day56.mat', '/content/drive/MyDrive/EyeGaze/Normalized/p06/day57.mat', '/content/drive/MyDrive/EyeGaze/Normalized/p06/day58.mat', '/content/drive/MyDrive/EyeGaze/Normalized/p06/day59.mat', '/content/drive/MyDrive/EyeGaze/Normalized/p06/day60.mat', '/content/drive/MyDrive/EyeGaze/Normalized/p06/day61.mat', '/content/drive/MyDrive/EyeGaze/Normalized/p06/day62.mat', '/content/drive/MyDrive/EyeGaze/Normalized/p07/day01.mat', '/content/drive/MyDrive/EyeGaze/Normalized/p07/day02.mat', '/content/drive/MyDrive/EyeGaze/Normalized/p07/day03.mat', '/content/drive/MyDrive/EyeGaze/Normalized/p07/day04.mat', '/content/drive/MyDrive/EyeGaze/Normalized/p07/day05.mat', '/content/drive/MyDrive/EyeGaze/Normalized/p07/day06.mat', '/content/drive/MyDrive/EyeGaze/Normalized/p07/day07.mat', '/content/drive/MyDrive/EyeGaze/Normalized/p07/day08.mat', '/content/drive/MyDrive/EyeGaze/Normalized/p07/day09.mat', '/content/drive/MyDrive/EyeGaze/Normalized/p07/day10.mat', '/content/drive/MyDrive/EyeGaze/Normalized/p07/day11.mat', '/content/drive/MyDrive/EyeGaze/Normalized/p07/day12.mat', '/content/drive/MyDrive/EyeGaze/Normalized/p07/day13.mat', '/content/drive/MyDrive/EyeGaze/Normalized/p07/day14.mat', '/content/drive/MyDrive/EyeGaze/Normalized/p07/day15.mat', '/content/drive/MyDrive/EyeGaze/Normalized/p07/day16.mat', '/content/drive/MyDrive/EyeGaze/Normalized/p07/day17.mat', '/content/drive/MyDrive/EyeGaze/Normalized/p07/day18.mat', '/content/drive/MyDrive/EyeGaze/Normalized/p07/day19.mat', '/content/drive/MyDrive/EyeGaze/Normalized/p07/day20.mat', '/content/drive/MyDrive/EyeGaze/Normalized/p07/day21.mat', '/content/drive/MyDrive/EyeGaze/Normalized/p07/day22.mat', '/content/drive/MyDrive/EyeGaze/Normalized/p07/day23.mat', '/content/drive/MyDrive/EyeGaze/Normalized/p07/day24.mat', '/content/drive/MyDrive/EyeGaze/Normalized/p07/day25.mat', '/content/drive/MyDrive/EyeGaze/Normalized/p07/day26.mat', '/content/drive/MyDrive/EyeGaze/Normalized/p07/day27.mat', '/content/drive/MyDrive/EyeGaze/Normalized/p07/day28.mat', '/content/drive/MyDrive/EyeGaze/Normalized/p07/day29.mat', '/content/drive/MyDrive/EyeGaze/Normalized/p07/day30.mat', '/content/drive/MyDrive/EyeGaze/Normalized/p07/day31.mat', '/content/drive/MyDrive/EyeGaze/Normalized/p07/day32.mat', '/content/drive/MyDrive/EyeGaze/Normalized/p07/day33.mat', '/content/drive/MyDrive/EyeGaze/Normalized/p07/day34.mat', '/content/drive/MyDrive/EyeGaze/Normalized/p07/day35.mat', '/content/drive/MyDrive/EyeGaze/Normalized/p07/day36.mat', '/content/drive/MyDrive/EyeGaze/Normalized/p07/day37.mat', '/content/drive/MyDrive/EyeGaze/Normalized/p07/day38.mat', '/content/drive/MyDrive/EyeGaze/Normalized/p07/day39.mat', '/content/drive/MyDrive/EyeGaze/Normalized/p07/day40.mat', '/content/drive/MyDrive/EyeGaze/Normalized/p07/day41.mat', '/content/drive/MyDrive/EyeGaze/Normalized/p07/day42.mat', '/content/drive/MyDrive/EyeGaze/Normalized/p07/day43.mat', '/content/drive/MyDrive/EyeGaze/Normalized/p07/day44.mat', '/content/drive/MyDrive/EyeGaze/Normalized/p07/day45.mat', '/content/drive/MyDrive/EyeGaze/Normalized/p07/day46.mat', '/content/drive/MyDrive/EyeGaze/Normalized/p07/day47.mat', '/content/drive/MyDrive/EyeGaze/Normalized/p07/day48.mat', '/content/drive/MyDrive/EyeGaze/Normalized/p07/day49.mat', '/content/drive/MyDrive/EyeGaze/Normalized/p07/day50.mat', '/content/drive/MyDrive/EyeGaze/Normalized/p07/day51.mat', '/content/drive/MyDrive/EyeGaze/Normalized/p07/day52.mat', '/content/drive/MyDrive/EyeGaze/Normalized/p07/day53.mat', '/content/drive/MyDrive/EyeGaze/Normalized/p07/day54.mat', '/content/drive/MyDrive/EyeGaze/Normalized/p07/day55.mat', '/content/drive/MyDrive/EyeGaze/Normalized/p07/day56.mat', '/content/drive/MyDrive/EyeGaze/Normalized/p08/day01.mat', '/content/drive/MyDrive/EyeGaze/Normalized/p08/day02.mat', '/content/drive/MyDrive/EyeGaze/Normalized/p08/day03.mat', '/content/drive/MyDrive/EyeGaze/Normalized/p08/day04.mat', '/content/drive/MyDrive/EyeGaze/Normalized/p08/day05.mat', '/content/drive/MyDrive/EyeGaze/Normalized/p08/day06.mat', '/content/drive/MyDrive/EyeGaze/Normalized/p08/day07.mat', '/content/drive/MyDrive/EyeGaze/Normalized/p08/day08.mat', '/content/drive/MyDrive/EyeGaze/Normalized/p08/day09.mat', '/content/drive/MyDrive/EyeGaze/Normalized/p08/day10.mat', '/content/drive/MyDrive/EyeGaze/Normalized/p08/day11.mat', '/content/drive/MyDrive/EyeGaze/Normalized/p08/day12.mat', '/content/drive/MyDrive/EyeGaze/Normalized/p08/day13.mat', '/content/drive/MyDrive/EyeGaze/Normalized/p08/day14.mat', '/content/drive/MyDrive/EyeGaze/Normalized/p08/day15.mat', '/content/drive/MyDrive/EyeGaze/Normalized/p08/day16.mat', '/content/drive/MyDrive/EyeGaze/Normalized/p08/day17.mat', '/content/drive/MyDrive/EyeGaze/Normalized/p08/day18.mat', '/content/drive/MyDrive/EyeGaze/Normalized/p08/day19.mat', '/content/drive/MyDrive/EyeGaze/Normalized/p08/day20.mat', '/content/drive/MyDrive/EyeGaze/Normalized/p08/day21.mat', '/content/drive/MyDrive/EyeGaze/Normalized/p08/day22.mat', '/content/drive/MyDrive/EyeGaze/Normalized/p08/day23.mat', '/content/drive/MyDrive/EyeGaze/Normalized/p08/day24.mat', '/content/drive/MyDrive/EyeGaze/Normalized/p08/day25.mat', '/content/drive/MyDrive/EyeGaze/Normalized/p08/day26.mat', '/content/drive/MyDrive/EyeGaze/Normalized/p08/day27.mat', '/content/drive/MyDrive/EyeGaze/Normalized/p08/day28.mat', '/content/drive/MyDrive/EyeGaze/Normalized/p08/day29.mat', '/content/drive/MyDrive/EyeGaze/Normalized/p08/day30.mat', '/content/drive/MyDrive/EyeGaze/Normalized/p08/day31.mat', '/content/drive/MyDrive/EyeGaze/Normalized/p08/day32.mat', '/content/drive/MyDrive/EyeGaze/Normalized/p08/day33.mat', '/content/drive/MyDrive/EyeGaze/Normalized/p08/day34.mat', '/content/drive/MyDrive/EyeGaze/Normalized/p08/day35.mat', '/content/drive/MyDrive/EyeGaze/Normalized/p08/day36.mat', '/content/drive/MyDrive/EyeGaze/Normalized/p08/day37.mat', '/content/drive/MyDrive/EyeGaze/Normalized/p08/day38.mat', '/content/drive/MyDrive/EyeGaze/Normalized/p08/day39.mat', '/content/drive/MyDrive/EyeGaze/Normalized/p08/day40.mat', '/content/drive/MyDrive/EyeGaze/Normalized/p08/day41.mat', '/content/drive/MyDrive/EyeGaze/Normalized/p08/day42.mat', '/content/drive/MyDrive/EyeGaze/Normalized/p08/day43.mat', '/content/drive/MyDrive/EyeGaze/Normalized/p08/day44.mat', '/content/drive/MyDrive/EyeGaze/Normalized/p08/day45.mat', '/content/drive/MyDrive/EyeGaze/Normalized/p08/day46.mat', '/content/drive/MyDrive/EyeGaze/Normalized/p08/day47.mat', '/content/drive/MyDrive/EyeGaze/Normalized/p09/day01.mat', '/content/drive/MyDrive/EyeGaze/Normalized/p09/day02.mat', '/content/drive/MyDrive/EyeGaze/Normalized/p09/day03.mat', '/content/drive/MyDrive/EyeGaze/Normalized/p09/day04.mat', '/content/drive/MyDrive/EyeGaze/Normalized/p09/day05.mat', '/content/drive/MyDrive/EyeGaze/Normalized/p09/day06.mat', '/content/drive/MyDrive/EyeGaze/Normalized/p09/day07.mat', '/content/drive/MyDrive/EyeGaze/Normalized/p09/day08.mat', '/content/drive/MyDrive/EyeGaze/Normalized/p09/day09.mat', '/content/drive/MyDrive/EyeGaze/Normalized/p09/day10.mat', '/content/drive/MyDrive/EyeGaze/Normalized/p09/day11.mat', '/content/drive/MyDrive/EyeGaze/Normalized/p09/day12.mat', '/content/drive/MyDrive/EyeGaze/Normalized/p09/day13.mat', '/content/drive/MyDrive/EyeGaze/Normalized/p09/day14.mat', '/content/drive/MyDrive/EyeGaze/Normalized/p09/day15.mat', '/content/drive/MyDrive/EyeGaze/Normalized/p09/day16.mat', '/content/drive/MyDrive/EyeGaze/Normalized/p09/day17.mat', '/content/drive/MyDrive/EyeGaze/Normalized/p09/day18.mat', '/content/drive/MyDrive/EyeGaze/Normalized/p09/day19.mat', '/content/drive/MyDrive/EyeGaze/Normalized/p09/day20.mat', '/content/drive/MyDrive/EyeGaze/Normalized/p10/day01.mat', '/content/drive/MyDrive/EyeGaze/Normalized/p10/day02.mat', '/content/drive/MyDrive/EyeGaze/Normalized/p10/day03.mat', '/content/drive/MyDrive/EyeGaze/Normalized/p10/day04.mat', '/content/drive/MyDrive/EyeGaze/Normalized/p10/day05.mat', '/content/drive/MyDrive/EyeGaze/Normalized/p10/day06.mat', '/content/drive/MyDrive/EyeGaze/Normalized/p10/day07.mat', '/content/drive/MyDrive/EyeGaze/Normalized/p10/day08.mat', '/content/drive/MyDrive/EyeGaze/Normalized/p10/day09.mat', '/content/drive/MyDrive/EyeGaze/Normalized/p10/day10.mat', '/content/drive/MyDrive/EyeGaze/Normalized/p10/day11.mat', '/content/drive/MyDrive/EyeGaze/Normalized/p10/day12.mat', '/content/drive/MyDrive/EyeGaze/Normalized/p10/day13.mat', '/content/drive/MyDrive/EyeGaze/Normalized/p10/day14.mat', '/content/drive/MyDrive/EyeGaze/Normalized/p10/day15.mat', '/content/drive/MyDrive/EyeGaze/Normalized/p10/day16.mat', '/content/drive/MyDrive/EyeGaze/Normalized/p11/day01.mat', '/content/drive/MyDrive/EyeGaze/Normalized/p11/day02.mat', '/content/drive/MyDrive/EyeGaze/Normalized/p11/day03.mat', '/content/drive/MyDrive/EyeGaze/Normalized/p11/day04.mat', '/content/drive/MyDrive/EyeGaze/Normalized/p11/day05.mat', '/content/drive/MyDrive/EyeGaze/Normalized/p11/day06.mat', '/content/drive/MyDrive/EyeGaze/Normalized/p11/day07.mat', '/content/drive/MyDrive/EyeGaze/Normalized/p11/day08.mat', '/content/drive/MyDrive/EyeGaze/Normalized/p11/day09.mat', '/content/drive/MyDrive/EyeGaze/Normalized/p11/day10.mat', '/content/drive/MyDrive/EyeGaze/Normalized/p11/day11.mat', '/content/drive/MyDrive/EyeGaze/Normalized/p11/day12.mat', '/content/drive/MyDrive/EyeGaze/Normalized/p11/day13.mat', '/content/drive/MyDrive/EyeGaze/Normalized/p11/day14.mat', '/content/drive/MyDrive/EyeGaze/Normalized/p11/day15.mat', '/content/drive/MyDrive/EyeGaze/Normalized/p11/day16.mat', '/content/drive/MyDrive/EyeGaze/Normalized/p11/day17.mat', '/content/drive/MyDrive/EyeGaze/Normalized/p11/day18.mat', '/content/drive/MyDrive/EyeGaze/Normalized/p11/day19.mat', '/content/drive/MyDrive/EyeGaze/Normalized/p12/day01.mat', '/content/drive/MyDrive/EyeGaze/Normalized/p12/day02.mat', '/content/drive/MyDrive/EyeGaze/Normalized/p12/day03.mat', '/content/drive/MyDrive/EyeGaze/Normalized/p12/day04.mat', '/content/drive/MyDrive/EyeGaze/Normalized/p12/day05.mat', '/content/drive/MyDrive/EyeGaze/Normalized/p12/day06.mat', '/content/drive/MyDrive/EyeGaze/Normalized/p12/day07.mat', '/content/drive/MyDrive/EyeGaze/Normalized/p13/day01.mat', '/content/drive/MyDrive/EyeGaze/Normalized/p13/day02.mat', '/content/drive/MyDrive/EyeGaze/Normalized/p13/day03.mat', '/content/drive/MyDrive/EyeGaze/Normalized/p13/day04.mat', '/content/drive/MyDrive/EyeGaze/Normalized/p13/day05.mat', '/content/drive/MyDrive/EyeGaze/Normalized/p13/day06.mat', '/content/drive/MyDrive/EyeGaze/Normalized/p13/day07.mat', '/content/drive/MyDrive/EyeGaze/Normalized/p13/day08.mat', '/content/drive/MyDrive/EyeGaze/Normalized/p13/day09.mat', '/content/drive/MyDrive/EyeGaze/Normalized/p13/day10.mat', '/content/drive/MyDrive/EyeGaze/Normalized/p13/day11.mat', '/content/drive/MyDrive/EyeGaze/Normalized/p13/day12.mat', '/content/drive/MyDrive/EyeGaze/Normalized/p14/day01.mat', '/content/drive/MyDrive/EyeGaze/Normalized/p14/day02.mat', '/content/drive/MyDrive/EyeGaze/Normalized/p14/day03.mat', '/content/drive/MyDrive/EyeGaze/Normalized/p14/day04.mat', '/content/drive/MyDrive/EyeGaze/Normalized/p14/day05.mat', '/content/drive/MyDrive/EyeGaze/Normalized/p14/day06.mat', '/content/drive/MyDrive/EyeGaze/Normalized/p14/day07.mat']\n"
          ],
          "name": "stdout"
        }
      ]
    },
    {
      "cell_type": "markdown",
      "metadata": {
        "id": "hAQAvvx95ITJ"
      },
      "source": [
        ""
      ]
    },
    {
      "cell_type": "code",
      "metadata": {
        "colab": {
          "base_uri": "https://localhost:8080/"
        },
        "id": "7oL7zkFRYf9z",
        "outputId": "b51f2f4f-f5d1-466d-c8ac-15250d642594"
      },
      "source": [
        "from scipy.io import loadmat\n",
        "def read_eye_data(mat):\n",
        "  '''\n",
        "  read each mat file info \n",
        "  '''\n",
        "  mat_data = loadmat(mat)\n",
        "  right_info = mat_data['data']['right'][0, 0]\n",
        "  gaze = right_info['gaze'][0, 0]\n",
        "  image = right_info['image'][0, 0]\n",
        "  pose = right_info['pose'][0, 0]\n",
        "  return gaze, image, pose\n",
        "\n",
        "def collect_data_from_mat(path):\n",
        "  '''\n",
        "  collect data from annotation part\n",
        "  :param path: path of normalized data \n",
        "  :return:  list of index, image, pose, gaze\n",
        "  '''\n",
        "  mat_files = glob.glob(path + '/Normalized/**/*.mat', recursive = True)\n",
        "  mat_files.sort()\n",
        "  # dict to store\n",
        "  gaze = list()\n",
        "  image = list()\n",
        "  index = list()\n",
        "  pose = list()\n",
        "  # X: image, head_pose \n",
        "  # y: gaze vector\n",
        "  # index: pnum, pday\n",
        "  for matfile in tqdm(mat_files):\n",
        "    pnum = matfile.split('/')[-2]  # pxx\n",
        "    pday = matfile.split('/')[-1].split('.')[0] # day0x\n",
        "    index.append(pnum + '/' + pday)\n",
        "    \n",
        "    fgaze, fimage, fpose = read_eye_data(matfile)\n",
        "\n",
        "    if gaze == []:\n",
        "      gaze = fgaze\n",
        "      image = fimage\n",
        "      pose = fpose\n",
        "    else:\n",
        "      gaze = np.append(gaze, fgaze, axis = 0)\n",
        "      image = np.append(image, fimage, axis = 0)\n",
        "      pose = np.append(pose, fpose, axis = 0)\n",
        "\n",
        "  return gaze, image, pose, index "
      ],
      "execution_count": null,
      "outputs": [
        {
          "output_type": "stream",
          "text": [
            "  0%|          | 0/521 [00:00<?, ?it/s]/usr/local/lib/python3.6/dist-packages/ipykernel_launcher.py:36: DeprecationWarning: elementwise comparison failed; this will raise an error in the future.\n",
            "100%|██████████| 521/521 [00:34<00:00, 14.99it/s]\n"
          ],
          "name": "stderr"
        }
      ]
    },
    {
      "cell_type": "code",
      "metadata": {
        "id": "qZ3oEjqY40B8"
      },
      "source": [
        "gaze, image, pose, index = collect_data_from_mat(path)"
      ],
      "execution_count": null,
      "outputs": []
    },
    {
      "cell_type": "code",
      "metadata": {
        "colab": {
          "base_uri": "https://localhost:8080/"
        },
        "id": "2zN_XRE-r02-",
        "outputId": "1b425382-d678-4361-d45a-04d39259aac7"
      },
      "source": [
        "print(\"gaze vector shape\")\n",
        "print(gaze.shape)\n",
        "print(\"pose vector shape\")\n",
        "print(pose.shape)\n",
        "print(\"image vector shape\")\n",
        "print(image.shape)"
      ],
      "execution_count": null,
      "outputs": [
        {
          "output_type": "stream",
          "text": [
            "gaze vector shape\n",
            "(213658, 3)\n",
            "pose vector shape\n",
            "(213658, 3)\n",
            "image vector shape\n",
            "(213658, 36, 60)\n"
          ],
          "name": "stdout"
        }
      ]
    },
    {
      "cell_type": "markdown",
      "metadata": {
        "id": "Pp4H16Fp4QBE"
      },
      "source": [
        "From the above data processing, we can know the dimension and size of the vector.\n",
        "Now the gaze vector and pose vector are all 3 dimension, while the eye image (we only process one eye in this training task) is a 36 * 60 pixels grey image.\n",
        "I'll print an example of the data:"
      ]
    },
    {
      "cell_type": "code",
      "metadata": {
        "colab": {
          "base_uri": "https://localhost:8080/",
          "height": 104
        },
        "id": "LwBS1dNJoaEk",
        "outputId": "8ceeacef-8391-44c9-e4f1-b83d424bcd8f"
      },
      "source": [
        "idx = 0\n",
        "print(index[idx])\n",
        "print(pose[idx])\n",
        "print(gaze[idx])\n",
        "Image.fromarray(image[idx].reshape((36, 60)))"
      ],
      "execution_count": null,
      "outputs": [
        {
          "output_type": "stream",
          "text": [
            "p00/day01\n",
            "[-0.15190792  0.24172508  0.01848624]\n",
            "[-0.12202543  0.09011014 -0.98842802]\n"
          ],
          "name": "stdout"
        },
        {
          "output_type": "execute_result",
          "data": {
            "image/png": "[encoded data removed]",
            "text/plain": [
              "<PIL.Image.Image image mode=L size=60x36 at 0x7FAAE803DA58>"
            ]
          },
          "metadata": {
            "tags": []
          },
          "execution_count": 61
        }
      ]
    },
    {
      "cell_type": "markdown",
      "metadata": {
        "id": "dalKmHvrQw45"
      },
      "source": [
        "### 2. Dimension transformation\n",
        "In this part, we should change pose and gaze vector from 3D to 2D. The suggested code is shown on the dataset website."
      ]
    },
    {
      "cell_type": "code",
      "metadata": {
        "id": "lvNfmin0GZA-"
      },
      "source": [
        "def pose3D_to_2D(pose):\n",
        "  '''\n",
        "    pose (a, b, c) is rotation (angle)\n",
        "  '''\n",
        "\n",
        "  #TODO: transform 3D to 2D\n",
        "  pass\n",
        "\n",
        "def gaze3D_to_2D(gaze):\n",
        "  '''\n",
        "    gaze (x, y, z) is direction\n",
        "  '''\n",
        "  #TODO: transform 3D to 2D\n",
        "  pass\n",
        "\n",
        "def gaze3Dto2D(array, stack=True):\n",
        "    \"\"\"\n",
        "    theta = asin(-y)\n",
        "    phi = atan2(-x, -z)\n",
        "    \"\"\"\n",
        "    if array.ndim == 2:\n",
        "        assert array.shape[1] == 3\n",
        "        x, y, z = (array[:, i]for i in range(3))\n",
        "    elif array.ndim == 1:\n",
        "        assert array.shape[0] == 3\n",
        "        x, y, z = (array[i] for i in range(3))\n",
        "        \n",
        "    theta = np.arcsin(-y)\n",
        "    phi = np.arctan2(-x, -z)\n",
        "    \n",
        "    if not stack:\n",
        "        return theta, phi\n",
        "    elif stack:\n",
        "        return np.stack((theta, phi)).T\n",
        "\n",
        "def pose3Dto2D(array):\n",
        "    \"\"\"\n",
        "    M = Rodrigues((x,y,z))\n",
        "    Zv = (the third column of M) ???\n",
        "    theta = asin(Zv[1])\n",
        "    phi = atan2(Zv[0], Zv[2])\n",
        "    \"\"\"\n",
        "    def convert_pose(vect):\n",
        "        M, _ = Rodrigues(np.array(vect).astype(np.float32))\n",
        "        Zv = M[:, 2]\n",
        "        theta = np.arctan2(Zv[0], Zv[2])\n",
        "        phi = np.arcsin(Zv[1])\n",
        "        return np.array([theta, phi])\n",
        "    \n",
        "    return np.apply_along_axis(convert_pose, 1, array)\n"
      ],
      "execution_count": null,
      "outputs": []
    },
    {
      "cell_type": "markdown",
      "metadata": {
        "id": "u9XCCUpV6BZf"
      },
      "source": [
        "### 3. Muti-modal CNN"
      ]
    },
    {
      "cell_type": "markdown",
      "metadata": {
        "id": "Skgn_0IMtOfA"
      },
      "source": [
        "Use the LeNet framework."
      ]
    },
    {
      "cell_type": "code",
      "metadata": {
        "id": "9jRZnuXStATC"
      },
      "source": [
        "import torch\n",
        "import torch.nn as nn\n",
        "import torch.nn.functional as F\n",
        "\n",
        "class LeNet(torch.nn.Module):\n",
        "\n",
        "    def __init__(self):\n",
        "        # image input: 36, 60, 1\n",
        "        # pose input: 2,\n",
        "        # conv1: 20, (5,5)\n",
        "        # pool2: (2,2)\n",
        "        # conv3: 50, (5,5)\n",
        "        # pool4: (2,2)\n",
        "        # full5:\n",
        "        # concat: ?\n",
        "        # output:\n",
        "\n",
        "        super(LeNet, self).__init__()\n",
        "        self.conv1 = torch.nn.Conv2d(in_channels=1, out_channels=20, kernel_size=5)\n",
        "        self.pool1 = torch.nn.MaxPool2d(kernel_size=2)\n",
        "        self.conv2 = torch.nn.Conv2d(in_channels=20, out_channels=50, kernel_size=5)\n",
        "        self.pool2 = torch.nn.MaxPool2d(kernel_size=2)\n",
        "        self.fuco1 = torch.nn.Linear(50*12*24, 500 - 2) # Not sure if it's correct\n",
        "        \n",
        "    def forward(self, x, x1):\n",
        "        #TODO: forward output\n",
        "        out = F.relu(self.conv1(x))\n",
        "        out = self.pool1(out)\n",
        "        out = F.relu(self.conv2(out))\n",
        "        out = self.pool2(out)\n",
        "        out = self.fuco1(out)\n",
        "        out = torch.cat((out, x1), 0)\n",
        "        return out\n"
      ],
      "execution_count": null,
      "outputs": []
    },
    {
      "cell_type": "markdown",
      "metadata": {
        "id": "Syp3TkADvPLG"
      },
      "source": [
        "### References\n",
        "1. https://www.mpi-inf.mpg.de/de/departments/computer-vision-and-machine-learning/research/gaze-based-human-computer-interaction/appearance-based-gaze-estimation-in-the-wild\n",
        "\n"
      ]
    }
  ]
}