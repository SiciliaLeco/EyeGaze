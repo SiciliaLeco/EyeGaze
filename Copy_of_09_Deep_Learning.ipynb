{
  "nbformat": 4,
  "nbformat_minor": 0,
  "metadata": {
    "colab": {
      "name": "Copy of 09 Deep Learning",
      "provenance": [],
      "collapsed_sections": [],
      "toc_visible": true
    },
    "kernelspec": {
      "name": "python3",
      "display_name": "Python 3"
    },
    "accelerator": "GPU",
    "widgets": {
      "application/vnd.jupyter.widget-state+json": {
        "b5de307a090441908ca9eade99009ff5": {
          "model_module": "@jupyter-widgets/controls",
          "model_name": "HBoxModel",
          "state": {
            "_view_name": "HBoxView",
            "_dom_classes": [],
            "_model_name": "HBoxModel",
            "_view_module": "@jupyter-widgets/controls",
            "_model_module_version": "1.5.0",
            "_view_count": null,
            "_view_module_version": "1.5.0",
            "box_style": "",
            "layout": "IPY_MODEL_26c2918bdda441ba9c12696163851250",
            "_model_module": "@jupyter-widgets/controls",
            "children": [
              "IPY_MODEL_dc131a0cae7d4be59573e3cf029ea590",
              "IPY_MODEL_56160a1cbc5640d2b2a6bb1bf7e77358"
            ]
          }
        },
        "26c2918bdda441ba9c12696163851250": {
          "model_module": "@jupyter-widgets/base",
          "model_name": "LayoutModel",
          "state": {
            "_view_name": "LayoutView",
            "grid_template_rows": null,
            "right": null,
            "justify_content": null,
            "_view_module": "@jupyter-widgets/base",
            "overflow": null,
            "_model_module_version": "1.2.0",
            "_view_count": null,
            "flex_flow": null,
            "width": null,
            "min_width": null,
            "border": null,
            "align_items": null,
            "bottom": null,
            "_model_module": "@jupyter-widgets/base",
            "top": null,
            "grid_column": null,
            "overflow_y": null,
            "overflow_x": null,
            "grid_auto_flow": null,
            "grid_area": null,
            "grid_template_columns": null,
            "flex": null,
            "_model_name": "LayoutModel",
            "justify_items": null,
            "grid_row": null,
            "max_height": null,
            "align_content": null,
            "visibility": null,
            "align_self": null,
            "height": null,
            "min_height": null,
            "padding": null,
            "grid_auto_rows": null,
            "grid_gap": null,
            "max_width": null,
            "order": null,
            "_view_module_version": "1.2.0",
            "grid_template_areas": null,
            "object_position": null,
            "object_fit": null,
            "grid_auto_columns": null,
            "margin": null,
            "display": null,
            "left": null
          }
        },
        "dc131a0cae7d4be59573e3cf029ea590": {
          "model_module": "@jupyter-widgets/controls",
          "model_name": "FloatProgressModel",
          "state": {
            "_view_name": "ProgressView",
            "style": "IPY_MODEL_42673d3b346c49dc89d5294441c9f5f0",
            "_dom_classes": [],
            "description": "",
            "_model_name": "FloatProgressModel",
            "bar_style": "success",
            "max": 107683,
            "_view_module": "@jupyter-widgets/controls",
            "_model_module_version": "1.5.0",
            "value": 107683,
            "_view_count": null,
            "_view_module_version": "1.5.0",
            "orientation": "horizontal",
            "min": 0,
            "description_tooltip": null,
            "_model_module": "@jupyter-widgets/controls",
            "layout": "IPY_MODEL_f1a3afff18e24a16802cf2781803edd2"
          }
        },
        "56160a1cbc5640d2b2a6bb1bf7e77358": {
          "model_module": "@jupyter-widgets/controls",
          "model_name": "HTMLModel",
          "state": {
            "_view_name": "HTMLView",
            "style": "IPY_MODEL_5d3fd7878e55488bb26bd47115f8bade",
            "_dom_classes": [],
            "description": "",
            "_model_name": "HTMLModel",
            "placeholder": "​",
            "_view_module": "@jupyter-widgets/controls",
            "_model_module_version": "1.5.0",
            "value": " 108544/? [00:00&lt;00:00, 2719632.82it/s]",
            "_view_count": null,
            "_view_module_version": "1.5.0",
            "description_tooltip": null,
            "_model_module": "@jupyter-widgets/controls",
            "layout": "IPY_MODEL_4ab2cf8d08934d08a709fb28bbe4297d"
          }
        },
        "42673d3b346c49dc89d5294441c9f5f0": {
          "model_module": "@jupyter-widgets/controls",
          "model_name": "ProgressStyleModel",
          "state": {
            "_view_name": "StyleView",
            "_model_name": "ProgressStyleModel",
            "description_width": "initial",
            "_view_module": "@jupyter-widgets/base",
            "_model_module_version": "1.5.0",
            "_view_count": null,
            "_view_module_version": "1.2.0",
            "bar_color": null,
            "_model_module": "@jupyter-widgets/controls"
          }
        },
        "f1a3afff18e24a16802cf2781803edd2": {
          "model_module": "@jupyter-widgets/base",
          "model_name": "LayoutModel",
          "state": {
            "_view_name": "LayoutView",
            "grid_template_rows": null,
            "right": null,
            "justify_content": null,
            "_view_module": "@jupyter-widgets/base",
            "overflow": null,
            "_model_module_version": "1.2.0",
            "_view_count": null,
            "flex_flow": null,
            "width": null,
            "min_width": null,
            "border": null,
            "align_items": null,
            "bottom": null,
            "_model_module": "@jupyter-widgets/base",
            "top": null,
            "grid_column": null,
            "overflow_y": null,
            "overflow_x": null,
            "grid_auto_flow": null,
            "grid_area": null,
            "grid_template_columns": null,
            "flex": null,
            "_model_name": "LayoutModel",
            "justify_items": null,
            "grid_row": null,
            "max_height": null,
            "align_content": null,
            "visibility": null,
            "align_self": null,
            "height": null,
            "min_height": null,
            "padding": null,
            "grid_auto_rows": null,
            "grid_gap": null,
            "max_width": null,
            "order": null,
            "_view_module_version": "1.2.0",
            "grid_template_areas": null,
            "object_position": null,
            "object_fit": null,
            "grid_auto_columns": null,
            "margin": null,
            "display": null,
            "left": null
          }
        },
        "5d3fd7878e55488bb26bd47115f8bade": {
          "model_module": "@jupyter-widgets/controls",
          "model_name": "DescriptionStyleModel",
          "state": {
            "_view_name": "StyleView",
            "_model_name": "DescriptionStyleModel",
            "description_width": "",
            "_view_module": "@jupyter-widgets/base",
            "_model_module_version": "1.5.0",
            "_view_count": null,
            "_view_module_version": "1.2.0",
            "_model_module": "@jupyter-widgets/controls"
          }
        },
        "4ab2cf8d08934d08a709fb28bbe4297d": {
          "model_module": "@jupyter-widgets/base",
          "model_name": "LayoutModel",
          "state": {
            "_view_name": "LayoutView",
            "grid_template_rows": null,
            "right": null,
            "justify_content": null,
            "_view_module": "@jupyter-widgets/base",
            "overflow": null,
            "_model_module_version": "1.2.0",
            "_view_count": null,
            "flex_flow": null,
            "width": null,
            "min_width": null,
            "border": null,
            "align_items": null,
            "bottom": null,
            "_model_module": "@jupyter-widgets/base",
            "top": null,
            "grid_column": null,
            "overflow_y": null,
            "overflow_x": null,
            "grid_auto_flow": null,
            "grid_area": null,
            "grid_template_columns": null,
            "flex": null,
            "_model_name": "LayoutModel",
            "justify_items": null,
            "grid_row": null,
            "max_height": null,
            "align_content": null,
            "visibility": null,
            "align_self": null,
            "height": null,
            "min_height": null,
            "padding": null,
            "grid_auto_rows": null,
            "grid_gap": null,
            "max_width": null,
            "order": null,
            "_view_module_version": "1.2.0",
            "grid_template_areas": null,
            "object_position": null,
            "object_fit": null,
            "grid_auto_columns": null,
            "margin": null,
            "display": null,
            "left": null
          }
        },
        "1f0422c4df854c5faf40e5713abef048": {
          "model_module": "@jupyter-widgets/controls",
          "model_name": "HBoxModel",
          "state": {
            "_view_name": "HBoxView",
            "_dom_classes": [],
            "_model_name": "HBoxModel",
            "_view_module": "@jupyter-widgets/controls",
            "_model_module_version": "1.5.0",
            "_view_count": null,
            "_view_module_version": "1.5.0",
            "box_style": "",
            "layout": "IPY_MODEL_349eeefbe99140cea0aa1ebb9cb74ab5",
            "_model_module": "@jupyter-widgets/controls",
            "children": [
              "IPY_MODEL_26eb77d9689f46589c06e335377073c3",
              "IPY_MODEL_b8764d3bbd36477993628ab5c5d55efd"
            ]
          }
        },
        "349eeefbe99140cea0aa1ebb9cb74ab5": {
          "model_module": "@jupyter-widgets/base",
          "model_name": "LayoutModel",
          "state": {
            "_view_name": "LayoutView",
            "grid_template_rows": null,
            "right": null,
            "justify_content": null,
            "_view_module": "@jupyter-widgets/base",
            "overflow": null,
            "_model_module_version": "1.2.0",
            "_view_count": null,
            "flex_flow": null,
            "width": null,
            "min_width": null,
            "border": null,
            "align_items": null,
            "bottom": null,
            "_model_module": "@jupyter-widgets/base",
            "top": null,
            "grid_column": null,
            "overflow_y": null,
            "overflow_x": null,
            "grid_auto_flow": null,
            "grid_area": null,
            "grid_template_columns": null,
            "flex": null,
            "_model_name": "LayoutModel",
            "justify_items": null,
            "grid_row": null,
            "max_height": null,
            "align_content": null,
            "visibility": null,
            "align_self": null,
            "height": null,
            "min_height": null,
            "padding": null,
            "grid_auto_rows": null,
            "grid_gap": null,
            "max_width": null,
            "order": null,
            "_view_module_version": "1.2.0",
            "grid_template_areas": null,
            "object_position": null,
            "object_fit": null,
            "grid_auto_columns": null,
            "margin": null,
            "display": null,
            "left": null
          }
        },
        "26eb77d9689f46589c06e335377073c3": {
          "model_module": "@jupyter-widgets/controls",
          "model_name": "FloatProgressModel",
          "state": {
            "_view_name": "ProgressView",
            "style": "IPY_MODEL_14753d444b9b40b599017a2802d50973",
            "_dom_classes": [],
            "description": "",
            "_model_name": "FloatProgressModel",
            "bar_style": "success",
            "max": 170498071,
            "_view_module": "@jupyter-widgets/controls",
            "_model_module_version": "1.5.0",
            "value": 170498071,
            "_view_count": null,
            "_view_module_version": "1.5.0",
            "orientation": "horizontal",
            "min": 0,
            "description_tooltip": null,
            "_model_module": "@jupyter-widgets/controls",
            "layout": "IPY_MODEL_8d4f4b8a70e24e599d7596ee3764b9c5"
          }
        },
        "b8764d3bbd36477993628ab5c5d55efd": {
          "model_module": "@jupyter-widgets/controls",
          "model_name": "HTMLModel",
          "state": {
            "_view_name": "HTMLView",
            "style": "IPY_MODEL_7954905a1f7b4b8fb0e9ebb7bca84623",
            "_dom_classes": [],
            "description": "",
            "_model_name": "HTMLModel",
            "placeholder": "​",
            "_view_module": "@jupyter-widgets/controls",
            "_model_module_version": "1.5.0",
            "value": " 170499072/? [00:09&lt;00:00, 18585792.89it/s]",
            "_view_count": null,
            "_view_module_version": "1.5.0",
            "description_tooltip": null,
            "_model_module": "@jupyter-widgets/controls",
            "layout": "IPY_MODEL_fe48fec749554947b8e4947c699d9f9b"
          }
        },
        "14753d444b9b40b599017a2802d50973": {
          "model_module": "@jupyter-widgets/controls",
          "model_name": "ProgressStyleModel",
          "state": {
            "_view_name": "StyleView",
            "_model_name": "ProgressStyleModel",
            "description_width": "initial",
            "_view_module": "@jupyter-widgets/base",
            "_model_module_version": "1.5.0",
            "_view_count": null,
            "_view_module_version": "1.2.0",
            "bar_color": null,
            "_model_module": "@jupyter-widgets/controls"
          }
        },
        "8d4f4b8a70e24e599d7596ee3764b9c5": {
          "model_module": "@jupyter-widgets/base",
          "model_name": "LayoutModel",
          "state": {
            "_view_name": "LayoutView",
            "grid_template_rows": null,
            "right": null,
            "justify_content": null,
            "_view_module": "@jupyter-widgets/base",
            "overflow": null,
            "_model_module_version": "1.2.0",
            "_view_count": null,
            "flex_flow": null,
            "width": null,
            "min_width": null,
            "border": null,
            "align_items": null,
            "bottom": null,
            "_model_module": "@jupyter-widgets/base",
            "top": null,
            "grid_column": null,
            "overflow_y": null,
            "overflow_x": null,
            "grid_auto_flow": null,
            "grid_area": null,
            "grid_template_columns": null,
            "flex": null,
            "_model_name": "LayoutModel",
            "justify_items": null,
            "grid_row": null,
            "max_height": null,
            "align_content": null,
            "visibility": null,
            "align_self": null,
            "height": null,
            "min_height": null,
            "padding": null,
            "grid_auto_rows": null,
            "grid_gap": null,
            "max_width": null,
            "order": null,
            "_view_module_version": "1.2.0",
            "grid_template_areas": null,
            "object_position": null,
            "object_fit": null,
            "grid_auto_columns": null,
            "margin": null,
            "display": null,
            "left": null
          }
        },
        "7954905a1f7b4b8fb0e9ebb7bca84623": {
          "model_module": "@jupyter-widgets/controls",
          "model_name": "DescriptionStyleModel",
          "state": {
            "_view_name": "StyleView",
            "_model_name": "DescriptionStyleModel",
            "description_width": "",
            "_view_module": "@jupyter-widgets/base",
            "_model_module_version": "1.5.0",
            "_view_count": null,
            "_view_module_version": "1.2.0",
            "_model_module": "@jupyter-widgets/controls"
          }
        },
        "fe48fec749554947b8e4947c699d9f9b": {
          "model_module": "@jupyter-widgets/base",
          "model_name": "LayoutModel",
          "state": {
            "_view_name": "LayoutView",
            "grid_template_rows": null,
            "right": null,
            "justify_content": null,
            "_view_module": "@jupyter-widgets/base",
            "overflow": null,
            "_model_module_version": "1.2.0",
            "_view_count": null,
            "flex_flow": null,
            "width": null,
            "min_width": null,
            "border": null,
            "align_items": null,
            "bottom": null,
            "_model_module": "@jupyter-widgets/base",
            "top": null,
            "grid_column": null,
            "overflow_y": null,
            "overflow_x": null,
            "grid_auto_flow": null,
            "grid_area": null,
            "grid_template_columns": null,
            "flex": null,
            "_model_name": "LayoutModel",
            "justify_items": null,
            "grid_row": null,
            "max_height": null,
            "align_content": null,
            "visibility": null,
            "align_self": null,
            "height": null,
            "min_height": null,
            "padding": null,
            "grid_auto_rows": null,
            "grid_gap": null,
            "max_width": null,
            "order": null,
            "_view_module_version": "1.2.0",
            "grid_template_areas": null,
            "object_position": null,
            "object_fit": null,
            "grid_auto_columns": null,
            "margin": null,
            "display": null,
            "left": null
          }
        }
      }
    }
  },
  "cells": [
    {
      "cell_type": "markdown",
      "metadata": {
        "id": "VdEwzgUFJbJa"
      },
      "source": [
        "Available at  https://www.comp.nus.edu.sg/~winkler/IT3011/deep-learning.html"
      ]
    },
    {
      "cell_type": "markdown",
      "metadata": {
        "id": "uvf81x6Vrysn"
      },
      "source": [
        "<h1>NUS IT3011 Machine Learning and Applications</h1>\n",
        "\n",
        "<h2>Deep Learning</h2>\n"
      ]
    },
    {
      "cell_type": "markdown",
      "metadata": {
        "id": "rJaPL7rcdSnZ"
      },
      "source": [
        "In this notebook, we will go through the concepts of Convolutional Neural Networks, Recurrent Neural Networks, Embeddings. We will also cover a few programming exercises. We will be using `PyTorch` to implement these architectures with some interesting datasets."
      ]
    },
    {
      "cell_type": "markdown",
      "metadata": {
        "id": "hZX4JTdyIRuQ"
      },
      "source": [
        "---\n",
        "## 1 CNN Recap\n",
        "\n"
      ]
    },
    {
      "cell_type": "markdown",
      "metadata": {
        "id": "YcZG_v1e1Dli"
      },
      "source": [
        "In this notebook, we will learn about what is Convolutional Neural Network (CNN), and how to implement a CNN in PyTorch. \n",
        "\n",
        "As there are lots of great CNN tutorials on the Internet, we don't need to write a fresh version again. For most contents of this section, we are re-using a tutorial from the blog post: [https://algorithmia.com/blog/convolutional-neural-nets-in-pytorch](https://algorithmia.com/blog/convolutional-neural-nets-in-pytorch), which is very good for beginners to learn CNN using PyTorch; and we highly recommend it.  We modified some parts to add more detailed explanations and some exercises for you. \n"
      ]
    },
    {
      "cell_type": "markdown",
      "metadata": {
        "id": "cEVr18rwVngH"
      },
      "source": [
        "### What is a Convolutional Neural Network (CNNs)?"
      ]
    },
    {
      "cell_type": "markdown",
      "metadata": {
        "id": "62mOp7_e3g0G"
      },
      "source": [
        "\n",
        "\n",
        "Convolutional Neural Networks (ConvNets or CNNs) are a category of neural networks that have proven very effective in areas such as image recognition and classification. ConvNets have been successful in identifying faces, objects and traffic signs apart from powering vision in robots and self driving cars. \n",
        "\n",
        "I think you already learned how CNN works in the lecture. So here I just do a quick recap of the key components in CNN:\n",
        "\n",
        "- Convolutional Layer\n",
        "- ReLU Layer\n",
        "- Max Pooling\n",
        "- Fully Connected Layers\n",
        "\n",
        "If you are still confused about some of the above concepts, don't worry!  We recommend you to go through the Stanford CS231n lecture notes, which is widely considered as one of the best CNN tutorials by the community. The link is as follows:   \n",
        "\n",
        "[http://cs231n.github.io/convolutional-networks/](http://cs231n.github.io/convolutional-networks/)\n",
        "\n"
      ]
    },
    {
      "cell_type": "markdown",
      "metadata": {
        "id": "JshEZjAx6X0y"
      },
      "source": [
        "#### .a Convolution Layer"
      ]
    },
    {
      "cell_type": "markdown",
      "metadata": {
        "id": "G7P7QAC77Zwh"
      },
      "source": [
        "\n",
        "\n",
        "The CNN gets its name from the process of convolution. Think of convolution as applying a **filter** to our image. We pass over a mini image, usually called a kernel, and output the resulting filtered subset of our image.\n",
        "\n",
        "<div align=\"center\">\n",
        "<img src=\"https://devblogs.nvidia.com/wp-content/uploads/2015/11/Convolution_schematic.gif\" width=400>\n",
        "<p> Figure 1. The convolution operation. </p>\n",
        "</div>\n",
        "\n",
        "(Diagram credit:  [http://deeplearning.stanford.edu/tutorial/supervised/FeatureExtractionUsingConvolution/](http://deeplearning.stanford.edu/tutorial/supervised/FeatureExtractionUsingConvolution/))\n",
        "\n",
        "Since an image is just a bunch of pixel values, in practice this means multiplying small parts of our input images by the filter. There are a few parameters that get adjusted here: \n",
        "\n",
        " - **Kernel Size** – the size of the filter.\n",
        " - **Kernel Type** – the values of the actual filter. Some examples include *identity*, *edge detection*, and *sharpen*.\n",
        " - **Stride** – the rate at which the kernel passes over the input image. A stride of 2 moves the kernel in 2 pixel increments.\n",
        " - **Padding** – we can add layers of 0s to the outside of the image in order to make sure that the kernel properly passes over the edges of the image.\n",
        " - **Output Layers** – how many different kernels are applied to the image.\n",
        "\n",
        "The output of the convolution process is called the “convolved feature” or “feature map.” Remember: it’s just a filtered version of our original image where we multiplied some pixels by some numbers.\n",
        "\n",
        "The resulting feature map can be viewed as a more optimal representation of the input image that’s more informative to the eventual neural network that the image will be passed through. In practice, convolution combined with the next two steps has been shown to greatly increase the accuracy of neural networks on images.\n",
        "\n",
        "You’ll see the convolution step through the use of the `torch.nn.Conv2d()` function in Pytorch."
      ]
    },
    {
      "cell_type": "markdown",
      "metadata": {
        "id": "WYxUkNPm6Z85"
      },
      "source": [
        "#### .b ReLU"
      ]
    },
    {
      "cell_type": "markdown",
      "metadata": {
        "id": "R2GAqvRX_ay9"
      },
      "source": [
        "\n",
        "\n",
        "Since the convolution operation is essentially a linear function; in CNN, we also need to add in a nonlinear function to help approximate non-linear relationship in the underlying data. \n",
        "\n",
        "The function most popular with CNNs is the ReLU function and it’s extremely simple. We already introduced ReLU to you in the Week 8 post-class notebook. Here for a quick recap, I give the formula of the ReLU function again, which is simply converts all negative pixel values to $0$. \n",
        "\n",
        "$$\n",
        "R(z) = \\max(0, z)\n",
        "$$\n",
        "\n",
        "And we also put the same Figure in Week 8 again to help you see the difference between Sigmoid and ReLU function. \n",
        "\n",
        "<div align=\"center\">\n",
        "<img src=\"https://miro.medium.com/max/1452/1*XxxiA0jJvPrHEJHD4z893g.png\" width=400>\n",
        "<p> Figure 2. The Sigmoid and ReLU Function.  </p>\n",
        "</div>\n",
        "\n",
        " (Diagram Credit: From [https://towardsdatascience.com/activation-functions-neural-networks-1cbd9f8d91d6](https://towardsdatascience.com/activation-functions-neural-networks-1cbd9f8d91d6))\n",
        "\n",
        "There are other functions that can be used to add non-linearity, like *tanh* or *softmax*. But in CNNs, ReLU is the most commonly used.\n",
        "\n",
        "You’ll see the ReLU step through the use of the `torch.nn.relu()` function in Pytorch. "
      ]
    },
    {
      "cell_type": "markdown",
      "metadata": {
        "id": "tZQlnEDU6cQ3"
      },
      "source": [
        "#### .c Max Pooling"
      ]
    },
    {
      "cell_type": "markdown",
      "metadata": {
        "id": "buGmvyb4Brko"
      },
      "source": [
        "\n",
        "\n",
        "Another important part in CNNs is pooling, and the name describes it pretty well: we pass over sections of our image and pool them into the highest value in the section. Depending on the size of the pool, this can greatly reduce the size of the feature set that we pass into the neural network. This graphic from Stanford’s course page visualizes it simply: \n",
        "\n",
        "<div align=\"center\">\n",
        "<img src=\"https://blog.algorithmia.com/wp-content/uploads/2018/03/word-image-5.png\" width=400>\n",
        "<p> Figure 3. The max pooling operation.  </p>\n",
        "</div>\n",
        "\n",
        " (Diagram Credit: From [https://blog.algorithmia.com/convolutional-neural-nets-in-pytorch/](https://blog.algorithmia.com/convolutional-neural-nets-in-pytorch/))\n",
        " \n",
        "Max pooling also has a few of the same parameters as convolution that can be adjusted, like **stride** and **padding**. There are also other types of pooling that can be applied, like **sum pooling** or **average pooling**.\n",
        "\n",
        "You’ll see the Max Pooling step through the use of the `torch.nn.MaxPool2d()` function in Pytorch. "
      ]
    },
    {
      "cell_type": "markdown",
      "metadata": {
        "id": "Mpp3Sc7U6fSP"
      },
      "source": [
        "#### .d Fully Connected Layers"
      ]
    },
    {
      "cell_type": "markdown",
      "metadata": {
        "id": "xQsO0FXfC5rD"
      },
      "source": [
        "\n",
        "\n",
        "After the above steps are applied (convolution, ReLU, and max-pooling), the resulting image is passed into the traditional neural network architecture. Designing the optimal neural network is beyond the scope of this notebook, and we’ll be using a simple 2 layer format with one hidden layer and one output layer. \n",
        "\n",
        "This part of the CNN is almost identical to any other standard neural network. The key to understanding CNNs is this: the driver of better accuracy is the steps we take to engineer better features, not the classifier we end up passing those values through. Convolution, ReLU, and max pooling prepare our data for the neural network in a way that extracts all the useful information they have in an efficient manner. \n",
        "\n",
        "You’ll see the forward pass step through the use of the `torch.nn.Linear()` function in Pytorch."
      ]
    },
    {
      "cell_type": "markdown",
      "metadata": {
        "id": "gjH1mSkUL94i"
      },
      "source": [
        "## 2 CNN Coding Example"
      ]
    },
    {
      "cell_type": "markdown",
      "metadata": {
        "id": "IWb-mnK97_yK"
      },
      "source": [
        "Now let's do some edge detection using convolutional neural networks!  We will see different kinds of filtering to detect horizontal, vertical or diagonal lines from an image, by using a simple CNN."
      ]
    },
    {
      "cell_type": "markdown",
      "metadata": {
        "id": "RkoE7agN_RbB"
      },
      "source": [
        "We will use the `pytorch` library, which we already used in the previous notebook. Let's first install the necessary libraries."
      ]
    },
    {
      "cell_type": "code",
      "metadata": {
        "id": "M2HA2LRnjy1f"
      },
      "source": [
        "### Import the pytorch libraries\n",
        "import torch\n",
        "import torchvision\n",
        "import torch.nn as nn\n",
        "\n",
        "!pip install Pillow>=4.1.1\n",
        "\n",
        "import matplotlib.pyplot as plt\n",
        "import numpy as np"
      ],
      "execution_count": null,
      "outputs": []
    },
    {
      "cell_type": "markdown",
      "metadata": {
        "id": "d9qlanqeJ-B3"
      },
      "source": [
        "Now we will define a convolutional neural network,  a simple one. In the following code block, we define a CNN which has only 1 `input channel`, 1 `output channel` and 3x3 `kernel matrix`."
      ]
    },
    {
      "cell_type": "code",
      "metadata": {
        "id": "gb_iNYKBC9xA"
      },
      "source": [
        "# Defining a simple CNN with 1 input channel, 1 output channel and kernel matrix size is 3x3.\n",
        "# We use the most simple non-linear activation function here, the ReLU.\n",
        "net = nn.Sequential(nn.Conv2d(1,1,3),nn.ReLU())\n",
        "\n",
        "# Setting the bias value of the network to 0\n",
        "net[0].bias.data = torch.FloatTensor([0])"
      ],
      "execution_count": null,
      "outputs": []
    },
    {
      "cell_type": "markdown",
      "metadata": {
        "id": "U0FsiSGANXMT"
      },
      "source": [
        "In the following code block, we define a function which sets the weight vector of our neural network based on the input. For different settings of the weight vector, we obtain different forms of filtering."
      ]
    },
    {
      "cell_type": "code",
      "metadata": {
        "id": "_PCtMihwJIMB"
      },
      "source": [
        "def edgeDetection(filterType):\n",
        "  \"\"\" \n",
        "    Args:\n",
        "        filterType (int) : type of filter (ranging from 1 to 4)\n",
        "        \n",
        "  \"\"\"\n",
        "   # setting the weight vector of the network to detect horizontal / vertical / diagonal lines\n",
        "  if filterType == 1:\n",
        "    net[0].weight.data = torch.FloatTensor ([[[[-0.5,1.0,-0.5],\n",
        "                                               [-0.5,1.0,-0.5],\n",
        "                                               [-0.5,1.0,-0.5]]]])\n",
        "  elif filterType == 2:\n",
        "    net[0].weight.data = torch.FloatTensor ([[[[-0.5,1.0,1.0],\n",
        "                                               [1.0,-0.5,1.0],\n",
        "                                               [1.0,1.0,-0.5]]]])\n",
        "  elif filterType == 3:\n",
        "    net[0].weight.data = torch.FloatTensor ([[[[ 1.0, 1.0, 1.0],\n",
        "                                               [-0.5,-0.5,-0.5],\n",
        "                                               [-0.5,-0.5,-0.5]]]])\n",
        "  elif filterType == 4:\n",
        "    net[0].weight.data = torch.FloatTensor ([[[[1.0,-0.5,-0.5],\n",
        "                                               [-0.5,1.0,-0.5],\n",
        "                                               [-0.5,-0.5,1.0]]]])"
      ],
      "execution_count": null,
      "outputs": []
    },
    {
      "cell_type": "markdown",
      "metadata": {
        "id": "PrcyTAf2OF_T"
      },
      "source": [
        "In the following code block, we download an image from an URL using the `torchvision` library. Then we display the image. We will use this image to check how the filtering works.\n",
        "\n",
        "Let's check how the original image looks like."
      ]
    },
    {
      "cell_type": "code",
      "metadata": {
        "id": "ltE0MWM5Z_zE",
        "colab": {
          "base_uri": "https://localhost:8080/",
          "height": 570,
          "referenced_widgets": [
            "b5de307a090441908ca9eade99009ff5",
            "26c2918bdda441ba9c12696163851250",
            "dc131a0cae7d4be59573e3cf029ea590",
            "56160a1cbc5640d2b2a6bb1bf7e77358",
            "42673d3b346c49dc89d5294441c9f5f0",
            "f1a3afff18e24a16802cf2781803edd2",
            "5d3fd7878e55488bb26bd47115f8bade",
            "4ab2cf8d08934d08a709fb28bbe4297d"
          ]
        },
        "outputId": "4d5bb5ad-46d7-40b4-e055-a03e9fefe2cd"
      },
      "source": [
        "from PIL import Image\n",
        "# Downloading an image from a given URL using the torchvision library\n",
        "torchvision.datasets.utils.download_url('https://d5wt70d4gnm1t.cloudfront.net/media/a-s/articles/1181-043236208562/close-look-sol-lewitt-900x450-c.jpg',root='data/image',filename=\"Picture.jpg\",md5=None)\n",
        "\n",
        "# Opening the image from the uploaded folder\n",
        "k = Image.open('data/image/Picture.jpg').convert('L')\n",
        "\n",
        "# Giving picture credits.  Sol Lewitt was a famous American artist connected with the minimist movement\n",
        "# https://en.wikipedia.org/wiki/Sol_LeWitt\n",
        "print (\"'Detail of A Square Divided Horizontally and Vertically into Four Equal Parts, Each with a Different Direction of Alternating Parallel Bands of Lines', 1982, by Sol Lewitt\")\n",
        "\n",
        "# Showing the original image\n",
        "k"
      ],
      "execution_count": null,
      "outputs": [
        {
          "output_type": "stream",
          "text": [
            "Downloading https://d5wt70d4gnm1t.cloudfront.net/media/a-s/articles/1181-043236208562/close-look-sol-lewitt-900x450-c.jpg to data/image/Picture.jpg\n"
          ],
          "name": "stdout"
        },
        {
          "output_type": "display_data",
          "data": {
            "application/vnd.jupyter.widget-view+json": {
              "model_id": "b5de307a090441908ca9eade99009ff5",
              "version_minor": 0,
              "version_major": 2
            },
            "text/plain": [
              "HBox(children=(FloatProgress(value=0.0, max=107683.0), HTML(value='')))"
            ]
          },
          "metadata": {
            "tags": []
          }
        },
        {
          "output_type": "stream",
          "text": [
            "\n",
            "'Detail of A Square Divided Horizontally and Vertically into Four Equal Parts, Each with a Different Direction of Alternating Parallel Bands of Lines', 1982, by Sol Lewitt\n"
          ],
          "name": "stdout"
        },
        {
          "output_type": "execute_result",
          "data": {
            "image/png": "[encoded data removed]",
            "text/plain": [
              "<PIL.Image.Image image mode=L size=900x450 at 0x7FAED5DF8690>"
            ]
          },
          "metadata": {
            "tags": []
          },
          "execution_count": 4
        }
      ]
    },
    {
      "cell_type": "markdown",
      "metadata": {
        "id": "e6gH5OGsaWz3"
      },
      "source": [
        "Now we have everything we need. In this code block, we put together all of the code blocks we have written so far in a compact, standalone representation. We first convert the image to a `Tensor`. Finally, we call the `edgeDetection` function with different parameters ranging from $1$ to $4$ to achieve the different filtering types.\n",
        "\n",
        "Let's explore how the filtering works."
      ]
    },
    {
      "cell_type": "code",
      "metadata": {
        "id": "ag2WBsDCYw3q",
        "colab": {
          "base_uri": "https://localhost:8080/",
          "height": 290
        },
        "outputId": "fb35b80f-1658-4939-f605-a56b2ebb1ccf"
      },
      "source": [
        "\n",
        "# Loading the image as Tensor\n",
        "m = torch.Tensor(np.asarray(k)).view([1,1,450,900])/256\n",
        "\n",
        "#### \n",
        "edgeDetection(4) # change the parameter from 1 to 4 to see different type of filtering\n",
        "####\n",
        "\n",
        "# Filtering the image by passing it to the defined network\n",
        "filteredImage = net(m.round()).detach()\n",
        "\n",
        "# Displaying the image\n",
        "plt.imshow(filteredImage[0,0])\n",
        "\n",
        "# You can use the following code to see the image in a grid\n",
        "#imshow(torchvision.utils.make_grid(net2(m.round()).detach()))"
      ],
      "execution_count": null,
      "outputs": [
        {
          "output_type": "stream",
          "text": [
            "/usr/local/lib/python3.7/dist-packages/ipykernel_launcher.py:3: UserWarning: The given NumPy array is not writeable, and PyTorch does not support non-writeable tensors. This means you can write to the underlying (supposedly non-writeable) NumPy array using the tensor. You may want to copy the array to protect its data or make it writeable before converting it to a tensor. This type of warning will be suppressed for the rest of this program. (Triggered internally at  /pytorch/torch/csrc/utils/tensor_numpy.cpp:143.)\n",
            "  This is separate from the ipykernel package so we can avoid doing imports until\n"
          ],
          "name": "stderr"
        },
        {
          "output_type": "execute_result",
          "data": {
            "text/plain": [
              "<matplotlib.image.AxesImage at 0x7faed40bd890>"
            ]
          },
          "metadata": {
            "tags": []
          },
          "execution_count": 5
        },
        {
          "output_type": "display_data",
          "data": {
            "image/png": "[encoded data removed]",
            "text/plain": [
              "<Figure size 432x288 with 1 Axes>"
            ]
          },
          "metadata": {
            "tags": [],
            "needs_background": "light"
          }
        }
      ]
    },
    {
      "cell_type": "markdown",
      "metadata": {
        "id": "yYJlb90rkYRg"
      },
      "source": [
        "## 3 Programming : Recursive Neural Networks (RNNs)"
      ]
    },
    {
      "cell_type": "markdown",
      "metadata": {
        "id": "Gs6LLwzO_XnQ"
      },
      "source": [
        "\n",
        "\n",
        "**Classifying names with a character-level RNN**\n",
        "\n",
        "We will be building and training a basic character-level RNN to classify\n",
        "words. A character-level RNN reads words as a series of characters -\n",
        "outputting a prediction and \"hidden state\" at each step, feeding its\n",
        "previous hidden state into each next step. We take the final prediction\n",
        "to be the output, i.e. which class the word belongs to.\n",
        "\n",
        "Specifically, we'll train on a few thousand surnames from 18 languages\n",
        "of origin, and predict which language a name is from based on the\n",
        "spelling:\n",
        "\n",
        "```\n",
        "    (input) Hinton\n",
        "    (-0.47) Scottish\n",
        "    (-1.52) English\n",
        "    (-3.57) Irish\n",
        "\n",
        "    (input) Schmidhuber\n",
        "    (-0.19) German\n",
        "    (-2.48) Czech\n",
        "    (-2.68) Dutch\n",
        "```\n",
        "\n",
        "**Credits**: This section is adapted from one of pytorch's official tutorials, which can be found [here](https://pytorch.org/tutorials/intermediate/char_rnn_classification_tutorial.html)."
      ]
    },
    {
      "cell_type": "markdown",
      "metadata": {
        "id": "IY9qJTcBNEe-"
      },
      "source": [
        "### .a Prepare environment and data"
      ]
    },
    {
      "cell_type": "markdown",
      "metadata": {
        "id": "92NDHokTPYQj"
      },
      "source": [
        "Let's start by importing the libraries and downloading the data. \n",
        "\n",
        "Run the following cell after restarting your environment and/or copying the notebook. Libraries that we need for the specific section will be loaded at the beginning of each section."
      ]
    },
    {
      "cell_type": "code",
      "metadata": {
        "id": "LGSnZkYi_uvY",
        "colab": {
          "base_uri": "https://localhost:8080/"
        },
        "outputId": "11dac2cc-19da-4b53-a213-62f8d0ff00ab"
      },
      "source": [
        "from __future__ import unicode_literals, print_function, division\n",
        "from io import open\n",
        "import glob\n",
        "import os\n",
        "import random\n",
        "import unicodedata\n",
        "import string\n",
        "import time\n",
        "import math\n",
        "\n",
        "import torch\n",
        "import torch.nn as nn\n",
        "import seaborn as sns\n",
        "import matplotlib.pyplot as plt\n",
        "\n",
        "# Download the required data\n",
        "!wget https://download.pytorch.org/tutorial/data.zip\n",
        "!unzip data.zip"
      ],
      "execution_count": null,
      "outputs": [
        {
          "output_type": "stream",
          "text": [
            "--2021-03-20 03:48:11--  https://download.pytorch.org/tutorial/data.zip\n",
            "Resolving download.pytorch.org (download.pytorch.org)... 99.84.214.12, 99.84.214.58, 99.84.214.80, ...\n",
            "Connecting to download.pytorch.org (download.pytorch.org)|99.84.214.12|:443... connected.\n",
            "HTTP request sent, awaiting response... 200 OK\n",
            "Length: 2882130 (2.7M) [application/zip]\n",
            "Saving to: ‘data.zip’\n",
            "\n",
            "data.zip            100%[===================>]   2.75M  --.-KB/s    in 0.07s   \n",
            "\n",
            "2021-03-20 03:48:12 (37.5 MB/s) - ‘data.zip’ saved [2882130/2882130]\n",
            "\n",
            "Archive:  data.zip\n",
            "  inflating: data/eng-fra.txt        \n",
            "   creating: data/names/\n",
            "  inflating: data/names/Arabic.txt   \n",
            "  inflating: data/names/Chinese.txt  \n",
            "  inflating: data/names/Czech.txt    \n",
            "  inflating: data/names/Dutch.txt    \n",
            "  inflating: data/names/English.txt  \n",
            "  inflating: data/names/French.txt   \n",
            "  inflating: data/names/German.txt   \n",
            "  inflating: data/names/Greek.txt    \n",
            "  inflating: data/names/Irish.txt    \n",
            "  inflating: data/names/Italian.txt  \n",
            "  inflating: data/names/Japanese.txt  \n",
            "  inflating: data/names/Korean.txt   \n",
            "  inflating: data/names/Polish.txt   \n",
            "  inflating: data/names/Portuguese.txt  \n",
            "  inflating: data/names/Russian.txt  \n",
            "  inflating: data/names/Scottish.txt  \n",
            "  inflating: data/names/Spanish.txt  \n",
            "  inflating: data/names/Vietnamese.txt  \n"
          ],
          "name": "stdout"
        }
      ]
    },
    {
      "cell_type": "markdown",
      "metadata": {
        "id": "2N25u7znDZit"
      },
      "source": [
        "#### Clean and index data\n",
        "The downloaded data are mostly romanized, however, we still need to convert them from Unicode to ASCII.\n",
        "\n",
        "We also need to build the mapping from category (language) to specific names in order to retrieve training samples later.\n",
        "\n",
        "We'll end up with a dictionary of lists of names per language, ```{language: [names ...]}```. "
      ]
    },
    {
      "cell_type": "code",
      "metadata": {
        "id": "AvDAVXoXGLNk"
      },
      "source": [
        "def findFiles(path): return glob.glob(path)\n",
        "# print(findFiles('data/names/*.txt'))\n",
        "\n",
        "all_letters = string.ascii_letters + \" .,;'\"\n",
        "n_letters = len(all_letters)\n",
        "\n",
        "# Turn a Unicode string to plain ASCII, thanks to http://stackoverflow.com/a/518232/2809427\n",
        "def unicodeToAscii(s):\n",
        "    return ''.join(\n",
        "        c for c in unicodedata.normalize('NFD', s)\n",
        "        if unicodedata.category(c) != 'Mn'\n",
        "        and c in all_letters\n",
        "    )\n",
        "\n",
        "# Build the category_names dictionary, a list of names per language\n",
        "category_names = {}  # mapping from category (language) to name\n",
        "all_categories = []  # list of all categories (languages)\n",
        "\n",
        "# Read a file and split into lines\n",
        "def readLines(filename):\n",
        "    lines = open(filename, encoding='utf-8').read().strip().split('\\n')\n",
        "    return [unicodeToAscii(line) for line in lines]\n",
        "\n",
        "for filename in findFiles('data/names/*.txt'):\n",
        "    category = os.path.splitext(os.path.basename(filename))[0]\n",
        "    all_categories.append(category)\n",
        "    names = readLines(filename)\n",
        "    category_names[category] = names\n",
        "\n",
        "# number of categories\n",
        "n_categories = len(all_categories)"
      ],
      "execution_count": null,
      "outputs": []
    },
    {
      "cell_type": "markdown",
      "metadata": {
        "id": "L1Ec2FC-D5Pg"
      },
      "source": [
        "#### Turning names into Tensors\n",
        "Now that we have all the names organized, we need to turn them into Tensors to make any use of them.\n",
        "\n",
        "To represent a single letter, we use a \"one-hot vector\" of size <1 x n_letters>. \n",
        "\n",
        "A one-hot vector is filled with 0s except for a 1 at index of the current letter, e.g. \"b\" = <0 1 0 0 0 ...>. \n",
        "\n",
        "To make a word we join a bunch of those into a 2D matrix <name_length x 1 x n_letters>.\n",
        "\n",
        "That extra 1 dimension is because PyTorch assumes everything is in batches - we're just using a batch size of 1 here."
      ]
    },
    {
      "cell_type": "code",
      "metadata": {
        "id": "-zFK6FAREe-u",
        "colab": {
          "base_uri": "https://localhost:8080/"
        },
        "outputId": "7bfc296a-1395-4275-c6f2-9e71f55376bc"
      },
      "source": [
        "# Find letter index from all_letters, e.g. \"a\" = 0\n",
        "def letterToIndex(letter):\n",
        "    return all_letters.find(letter)\n",
        "\n",
        "# Just for demonstration, turn a letter into a <1 x n_letters> Tensor\n",
        "def letterToTensor(letter):\n",
        "    tensor = torch.zeros(1, n_letters)\n",
        "    tensor[0][letterToIndex(letter)] = 1\n",
        "    return tensor\n",
        "\n",
        "# Turn a name into a <name_length x 1 x n_letters>,\n",
        "# or an array of one-hot letter vectors\n",
        "def nameToTensor(name):\n",
        "    tensor = torch.zeros(len(name), 1, n_letters)\n",
        "    for li, letter in enumerate(name):\n",
        "        tensor[li][0][letterToIndex(letter)] = 1\n",
        "    return tensor\n",
        "\n",
        "# This is just an example. You can change to something else and see what happens!\n",
        "print(letterToTensor('J'))\n",
        "print(nameToTensor('Jones').size())"
      ],
      "execution_count": null,
      "outputs": [
        {
          "output_type": "stream",
          "text": [
            "tensor([[0., 0., 0., 0., 0., 0., 0., 0., 0., 0., 0., 0., 0., 0., 0., 0., 0., 0.,\n",
            "         0., 0., 0., 0., 0., 0., 0., 0., 0., 0., 0., 0., 0., 0., 0., 0., 0., 1.,\n",
            "         0., 0., 0., 0., 0., 0., 0., 0., 0., 0., 0., 0., 0., 0., 0., 0., 0., 0.,\n",
            "         0., 0., 0.]])\n",
            "torch.Size([5, 1, 57])\n"
          ],
          "name": "stdout"
        }
      ]
    },
    {
      "cell_type": "markdown",
      "metadata": {
        "id": "Ksdqi52DffFN"
      },
      "source": [
        "### .b Creating the network"
      ]
    },
    {
      "cell_type": "markdown",
      "metadata": {
        "id": "IsIdoRxUHZcH"
      },
      "source": [
        "\n",
        "You can implement an RNN in a very \"pure\" way, as regular feed-forward layers like Linear or Conv.\n",
        "\n",
        "The RNN we use here is just 2 linear layers which operate on an input and hidden state, with a LogSoftmax layer after the output.\n",
        "\n",
        " <div align=\"center\">\n",
        "<img src=\"https://www.comp.nus.edu.sg/~neamul/Images/CS3244_1910/rnn_archi.png\"  width = 450/>\n",
        "<p>  A Simple Recurrent Neural Network. \n",
        "</div>\n",
        "\n",
        " (Diagram Credit: From [https://towardsdatascience.com/activation-functions-neural-networks-1cbd9f8d91d6](https://miro.medium.com/max/726/1*XxxiA0jJvPrHEJHD4z893g.png))"
      ]
    },
    {
      "cell_type": "code",
      "metadata": {
        "id": "mFTMBaWtFPYd"
      },
      "source": [
        "class RNN(nn.Module):\n",
        "    def __init__(self, input_size, hidden_size, output_size):\n",
        "        super(RNN, self).__init__()\n",
        "\n",
        "        self.hidden_size = hidden_size\n",
        "\n",
        "        self.i2h = nn.Linear(input_size + hidden_size, hidden_size)\n",
        "        self.i2o = nn.Linear(input_size + hidden_size, output_size)\n",
        "        self.softmax = nn.LogSoftmax(dim=1)\n",
        "\n",
        "    def forward(self, input, hidden):\n",
        "        combined = torch.cat((input, hidden), 1)\n",
        "        hidden = self.i2h(combined)\n",
        "        output = self.i2o(combined)\n",
        "        output = self.softmax(output)\n",
        "        return output, hidden\n",
        "\n",
        "    def initHidden(self):\n",
        "        # hidden states are 0 at the beginning\n",
        "        return torch.zeros(1, self.hidden_size)"
      ],
      "execution_count": null,
      "outputs": []
    },
    {
      "cell_type": "markdown",
      "metadata": {
        "id": "EBrj_gXDFnA_"
      },
      "source": [
        "To create an instance of this network we need to specify:\n",
        "\n",
        "- `n_letters` : number of all possible letters.\n",
        "- `n_hidden` : number of hidden units and hidden state size.\n",
        "- `n_categories` : number of categories. In our case it is 18.\n",
        "\n",
        "We can now create our RNN as follows:"
      ]
    },
    {
      "cell_type": "code",
      "metadata": {
        "id": "ulX4v3GwGtpW"
      },
      "source": [
        "rnn = RNN(input_size=n_letters, hidden_size=128, output_size=n_categories)"
      ],
      "execution_count": null,
      "outputs": []
    },
    {
      "cell_type": "markdown",
      "metadata": {
        "id": "mSYFrVt1FiS1"
      },
      "source": [
        "To run a step of this network we need to pass an input (in our case, the Tensor for the current letter) and a previous hidden state (which we initialize as zeros at first). We'll get back the output (probability of each language) and a next hidden state (which we keep for the next step)."
      ]
    },
    {
      "cell_type": "code",
      "metadata": {
        "id": "39Gux-GBJNrb",
        "colab": {
          "base_uri": "https://localhost:8080/"
        },
        "outputId": "794bb950-7729-486f-a5ef-855392115b37"
      },
      "source": [
        "# Try the following code. You can try different names.\n",
        "input = nameToTensor('Albert')\n",
        "hidden = torch.zeros(1, 128)\n",
        "\n",
        "output, next_hidden = rnn(input[0], hidden)\n",
        "print(output)"
      ],
      "execution_count": null,
      "outputs": [
        {
          "output_type": "stream",
          "text": [
            "tensor([[-2.9646, -2.8602, -2.9293, -2.8649, -2.8344, -2.8381, -2.9828, -2.8212,\n",
            "         -2.9178, -2.8393, -2.9210, -2.9309, -2.9348, -2.9414, -2.9107, -2.8545,\n",
            "         -2.7915, -2.9145]], grad_fn=<LogSoftmaxBackward>)\n"
          ],
          "name": "stdout"
        }
      ]
    },
    {
      "cell_type": "markdown",
      "metadata": {
        "id": "7H-y04TzIDhm"
      },
      "source": [
        "### .c Train the network"
      ]
    },
    {
      "cell_type": "markdown",
      "metadata": {
        "id": "VGrPKnP2IQBq"
      },
      "source": [
        "#### Prepare for training\n",
        "Before going into training we should make a few helper functions. The\n",
        "first is to interpret the output of the network, which we know to be a\n",
        "likelihood of each category. We can use ``Tensor.topk`` to get the index\n",
        "of the greatest value. We will also want a quick way to get a training example (a name and its language):"
      ]
    },
    {
      "cell_type": "code",
      "metadata": {
        "id": "9zZ-Q8c5IRc_"
      },
      "source": [
        "def categoryFromOutput(output):\n",
        "    top_n, top_i = output.topk(1)\n",
        "    category_i = top_i[0].item()\n",
        "    return all_categories[category_i], category_i\n",
        "\n",
        "def randomChoice(l):\n",
        "    return l[random.randint(0, len(l) - 1)]\n",
        "\n",
        "def randomTrainingExample():\n",
        "    category = randomChoice(all_categories)\n",
        "    name = randomChoice(category_names[category])\n",
        "    category_tensor = torch.tensor([all_categories.index(category)], dtype=torch.long)\n",
        "    name_tensor = nameToTensor(name)\n",
        "    return category, name, category_tensor, name_tensor\n"
      ],
      "execution_count": null,
      "outputs": []
    },
    {
      "cell_type": "markdown",
      "metadata": {
        "id": "bi0KvCuqI1R-"
      },
      "source": [
        "Finally, let's setup the train and evaluation engine."
      ]
    },
    {
      "cell_type": "markdown",
      "metadata": {
        "id": "-okVBBM4mDwy"
      },
      "source": [
        "**Your Turn (Question 6)** We removed some codes from `train_rnn()`. Please complete these two functions. The question marks in the template are placeholders for python statements."
      ]
    },
    {
      "cell_type": "code",
      "metadata": {
        "id": "L-5raPKlI6Mr"
      },
      "source": [
        "def train_rnn(category_tensor, name_tensor, loss_function, optimizer):\n",
        "    hidden = rnn.initHidden()\n",
        "\n",
        "    optimizer.zero_grad()\n",
        "\n",
        "    \n",
        "    ####### Your Turn ########\n",
        "    #\n",
        "    # We removed some code here, now it's your turn to make it run.\n",
        "    # Consider the following template:\n",
        "    #\n",
        "    # for ? in range(?):\n",
        "    #    output, hidden = rnn(?, ?)\n",
        "    #########################\n",
        "\n",
        "    loss = loss_function(output, category_tensor)\n",
        "    loss.backward()\n",
        "    optimizer.step()\n",
        "\n",
        "    return output, loss.item()\n"
      ],
      "execution_count": null,
      "outputs": []
    },
    {
      "cell_type": "markdown",
      "metadata": {
        "id": "YSAM2mGImP8z"
      },
      "source": [
        "**Your Turn (Question 7)** We removed some codes from `evaluate_rnn()`. Please complete these two functions. The question marks in the template are placeholders for python statements."
      ]
    },
    {
      "cell_type": "code",
      "metadata": {
        "id": "VXJZcgorlrDx"
      },
      "source": [
        "def evaluate_rnn(name_tensor):\n",
        "    hidden = rnn.initHidden()\n",
        "\n",
        "    ####### Your Turn ########\n",
        "    #\n",
        "    # We removed some code here, now it's your turn to make it run.\n",
        "    # Consider the following template:\n",
        "    #\n",
        "    # for ? in range(?):\n",
        "    #    output, hidden = rnn(?, ?)\n",
        "    #########################\n",
        "\n",
        "    return output"
      ],
      "execution_count": null,
      "outputs": []
    },
    {
      "cell_type": "markdown",
      "metadata": {
        "id": "nj2-B4suJfNm"
      },
      "source": [
        "#### Now let's train it\n",
        "Now we just have to run that with a bunch of examples. Since the\n",
        "``train`` function returns both the output and loss we can print its\n",
        "guesses and also keep track of loss for plotting. Since there are 1000s\n",
        "of examples we print only every ``print_every`` examples, and take an\n",
        "average of the loss."
      ]
    },
    {
      "cell_type": "code",
      "metadata": {
        "id": "2QMqhukdJlat"
      },
      "source": [
        "# Hyperparameters\n",
        "learning_rate = 0.005\n",
        "n_iters       = 100000\n",
        "print_every   = 5000\n",
        "plot_every    = 1000\n",
        "loss_function = nn.NLLLoss()\n",
        "optimizer     = torch.optim.SGD(rnn.parameters(), learning_rate)\n",
        "\n",
        "# Keep track of losses for plotting\n",
        "current_loss = 0\n",
        "all_losses = []\n",
        "\n",
        "def timeSince(since):\n",
        "    now = time.time()\n",
        "    s = now - since\n",
        "    m = math.floor(s / 60)\n",
        "    s -= m * 60\n",
        "    return '%dm %ds' % (m, s)\n",
        "\n",
        "start = time.time()\n",
        "\n",
        "for i in range(1, n_iters + 1):\n",
        "    category, line, category_tensor, line_tensor = randomTrainingExample()\n",
        "    output, loss = train_rnn(category_tensor, line_tensor, loss_function, optimizer)\n",
        "    current_loss += loss\n",
        "\n",
        "    # Print iter number, loss, name and guess\n",
        "    if i % print_every == 0:\n",
        "        guess, guess_i = categoryFromOutput(output)\n",
        "        correct = '✓' if guess == category else '✗ (%s)' % category\n",
        "        print('%d %d%% (%s) %.4f %s / %s %s' % (i, i / n_iters * 100, timeSince(start), loss, line, guess, correct))\n",
        "\n",
        "    # Add current loss avg to list of losses\n",
        "    if i % plot_every == 0:\n",
        "        all_losses.append(current_loss / plot_every)\n",
        "        current_loss = 0"
      ],
      "execution_count": null,
      "outputs": []
    },
    {
      "cell_type": "markdown",
      "metadata": {
        "id": "nlI9JeEVLxzj"
      },
      "source": [
        "### .d Evaluate the network\n",
        "To see how well the network performs on different categories, we will\n",
        "create a confusion matrix, indicating for every actual language (rows)\n",
        "which language the network guesses (columns). To calculate the confusion\n",
        "matrix a bunch of samples are run through the network with\n",
        "``evaluate_rnn()``, which is the same as ``train_rnn()`` minus the backprop."
      ]
    },
    {
      "cell_type": "code",
      "metadata": {
        "id": "7ODXCXQbMlcF"
      },
      "source": [
        "# Keep track of correct guesses in a confusion matrix\n",
        "confusion = torch.zeros(n_categories, n_categories)\n",
        "n_confusion = 5000\n",
        "\n",
        "# Go through a bunch of examples and record which are correctly guessed\n",
        "for i in range(n_confusion):\n",
        "    category, line, category_tensor, line_tensor = randomTrainingExample()\n",
        "    output = evaluate_rnn(line_tensor)\n",
        "    guess, guess_i = categoryFromOutput(output)\n",
        "    category_i = all_categories.index(category)\n",
        "    confusion[category_i][guess_i] += 1\n",
        "\n",
        "# Normalize by dividing every row by its sum\n",
        "for i in range(n_categories):\n",
        "    confusion[i] = confusion[i] / confusion[i].sum()\n",
        "\n",
        "fig, ax = plt.subplots(figsize=(12,12))\n",
        "sns.heatmap(confusion, xticklabels=all_categories, yticklabels=all_categories, ax=ax)"
      ],
      "execution_count": null,
      "outputs": []
    },
    {
      "cell_type": "markdown",
      "metadata": {
        "id": "PoljxiSAn8bo"
      },
      "source": [
        "**Your Turn (Question 8)**: Why do certain pairs of countries more easily confuse our RNN than other pairs?\n"
      ]
    },
    {
      "cell_type": "markdown",
      "metadata": {
        "id": "MikWpnb9NlDp"
      },
      "source": [
        "You can also evaluate this RNN using your own input:\n"
      ]
    },
    {
      "cell_type": "code",
      "metadata": {
        "id": "bUgRxfJ_NrwS"
      },
      "source": [
        "#@title \n",
        "custom_input = \"Xu\"\n",
        "def predict(input_name, n_predictions=3):\n",
        "    print('\\n> %s' % input_name)\n",
        "    with torch.no_grad():\n",
        "        output = evaluate_rnn(nameToTensor(input_name))\n",
        "\n",
        "        # Get top N categories\n",
        "        topv, topi = output.topk(n_predictions, 1, True)\n",
        "        predictions = []\n",
        "\n",
        "        for i in range(n_predictions):\n",
        "            value = topv[0][i].item()\n",
        "            category_index = topi[0][i].item()\n",
        "            print('(%.2f) %s' % (value, all_categories[category_index]))\n",
        "            predictions.append([value, all_categories[category_index]])\n",
        "\n",
        "\n",
        "predict(custom_input)"
      ],
      "execution_count": null,
      "outputs": []
    },
    {
      "cell_type": "markdown",
      "metadata": {
        "id": "iulTvC0A6HzZ"
      },
      "source": [
        "## 4 Image Classification with CNN\n",
        "\n"
      ]
    },
    {
      "cell_type": "markdown",
      "metadata": {
        "id": "PIFSLUKHDXK3"
      },
      "source": [
        "\n",
        "\n",
        "Next, we will implement CNN using PyTorch. We start by installing Pytorch and importing the libaries. We copied the code here so that you can start the post-class notebook with ou running the code above.\n",
        "\n"
      ]
    },
    {
      "cell_type": "code",
      "metadata": {
        "id": "gJbdtf5ZK3Kz",
        "colab": {
          "base_uri": "https://localhost:8080/"
        },
        "outputId": "a17f88af-7a01-4035-9b7b-6085e8031246"
      },
      "source": [
        "### Load the pytorch libraries\n",
        "import torch\n",
        "import torchvision\n",
        "import torch.nn as nn\n",
        "import torch.optim as optim\n",
        "import torch.nn.functional as F\n",
        "import torchvision.transforms as transforms\n",
        "from torch.autograd import Variable\n",
        "\n",
        "# Load the other neccesary libraries\n",
        "import matplotlib.pyplot as plt\n",
        "import numpy as np\n",
        "seed = 42\n",
        "np.random.seed(seed)\n",
        "torch.manual_seed(seed)"
      ],
      "execution_count": null,
      "outputs": [
        {
          "output_type": "execute_result",
          "data": {
            "text/plain": [
              "<torch._C.Generator at 0x7fabc585f830>"
            ]
          },
          "metadata": {
            "tags": []
          },
          "execution_count": 1
        }
      ]
    },
    {
      "cell_type": "markdown",
      "metadata": {
        "id": "qC8qbXz0Lv_z"
      },
      "source": [
        "### .a Gathering and Loading Data\n",
        "\n",
        "As with most Machine Learning projects, a minority of the code you end up writing has to do with actual statistics––most is spent on gathering, cleaning, and readying your data for analysis. CNNs in Pytorch are no exception.\n",
        "\n",
        "Pytorch ships with the `torchvision` package, which makes it easy to download and use datasets for CNNs. To stick with convention and benchmark accurately, we’ll use the **CIFAR-10 dataset**. CIFAR-10 contains images of 10 different classes, and is a standard library of sorts used for CNN building. \n",
        "\n",
        "The first step to get our data is to use Pytorch and download it. This may take a few minites to finish. \n",
        "\n"
      ]
    },
    {
      "cell_type": "code",
      "metadata": {
        "id": "O87Y7l0a_Z56",
        "colab": {
          "base_uri": "https://localhost:8080/",
          "height": 137,
          "referenced_widgets": [
            "1f0422c4df854c5faf40e5713abef048",
            "349eeefbe99140cea0aa1ebb9cb74ab5",
            "26eb77d9689f46589c06e335377073c3",
            "b8764d3bbd36477993628ab5c5d55efd",
            "14753d444b9b40b599017a2802d50973",
            "8d4f4b8a70e24e599d7596ee3764b9c5",
            "7954905a1f7b4b8fb0e9ebb7bca84623",
            "fe48fec749554947b8e4947c699d9f9b"
          ]
        },
        "outputId": "c26b471e-c3ae-4c62-fdda-472ea97747f6"
      },
      "source": [
        "## The compose function allows for multiple transforms\n",
        "#\n",
        "# transforms.ToTensor() converts our PILImage to a tensor of shape (C x H x W) in the range [0,1]\n",
        "# transforms.Normalize(mean,std) normalizes a tensor to a (mean, std) for (R, G, B)\n",
        "\n",
        "transform = transforms.Compose([transforms.ToTensor(), transforms.Normalize((0.5, 0.5, 0.5), (0.5, 0.5, 0.5))])\n",
        "\n",
        "train_set = torchvision.datasets.CIFAR10(root='./cifardata', train=True, download=True, transform=transform)\n",
        "\n",
        "test_set = torchvision.datasets.CIFAR10(root='./cifardata', train=False, download=True, transform=transform)"
      ],
      "execution_count": null,
      "outputs": [
        {
          "output_type": "stream",
          "text": [
            "Downloading https://www.cs.toronto.edu/~kriz/cifar-10-python.tar.gz to ./cifardata/cifar-10-python.tar.gz\n"
          ],
          "name": "stdout"
        },
        {
          "output_type": "display_data",
          "data": {
            "application/vnd.jupyter.widget-view+json": {
              "model_id": "1f0422c4df854c5faf40e5713abef048",
              "version_minor": 0,
              "version_major": 2
            },
            "text/plain": [
              "HBox(children=(FloatProgress(value=0.0, max=170498071.0), HTML(value='')))"
            ]
          },
          "metadata": {
            "tags": []
          }
        },
        {
          "output_type": "stream",
          "text": [
            "\n",
            "Extracting ./cifardata/cifar-10-python.tar.gz to ./cifardata\n",
            "Files already downloaded and verified\n"
          ],
          "name": "stdout"
        }
      ]
    },
    {
      "cell_type": "markdown",
      "metadata": {
        "id": "3VfAef02M1j2"
      },
      "source": [
        "We then designate the 10 possible labels for each image:"
      ]
    },
    {
      "cell_type": "code",
      "metadata": {
        "id": "WHXA8zMn7ZEH"
      },
      "source": [
        "classes = ('plane', 'car', 'bird', 'cat',\n",
        "           'deer', 'dog', 'frog', 'horse', 'ship', 'truck')"
      ],
      "execution_count": null,
      "outputs": []
    },
    {
      "cell_type": "markdown",
      "metadata": {
        "id": "F3M8SSxKM6KS"
      },
      "source": [
        "The final step of data preparation is to define **data samplers** for our images. Data samplers are a very useful tool in PyTorch that helps us to split all of the available training examples into training, test, and cross validation sets when we train our model later on. "
      ]
    },
    {
      "cell_type": "code",
      "metadata": {
        "id": "le7vKLvI3f7q"
      },
      "source": [
        "from torch.utils.data.sampler import SubsetRandomSampler\n",
        "\n",
        "# Training\n",
        "n_training_samples = 20000\n",
        "train_sampler = SubsetRandomSampler(np.arange(n_training_samples, dtype=np.int64))\n",
        "\n",
        "# Validation\n",
        "n_val_samples = 5000\n",
        "val_sampler = SubsetRandomSampler(np.arange(n_training_samples, n_training_samples + n_val_samples, dtype=np.int64))\n",
        "\n",
        "# Test\n",
        "n_test_samples = 5000\n",
        "test_sampler = SubsetRandomSampler(np.arange(n_test_samples, dtype=np.int64))"
      ],
      "execution_count": null,
      "outputs": []
    },
    {
      "cell_type": "markdown",
      "metadata": {
        "id": "-c6BWziYXRyJ"
      },
      "source": [
        "OK, now let us visualize some of the data samples in the CIFAR-10 dataset by running the following code:"
      ]
    },
    {
      "cell_type": "code",
      "metadata": {
        "id": "TFDGQRdqXdmA",
        "colab": {
          "base_uri": "https://localhost:8080/",
          "height": 137
        },
        "outputId": "0803f3fb-91e1-406b-c064-8bed55dc7175"
      },
      "source": [
        "# functions to show an image\n",
        "def imshow(img):\n",
        "    img = img / 2 + 0.5     # unnormalize\n",
        "    npimg = img.numpy()\n",
        "    plt.imshow(np.transpose(npimg, (1, 2, 0)))\n",
        "\n",
        "# get some random training images\n",
        "train_loader = torch.utils.data.DataLoader(train_set, batch_size=16, sampler=train_sampler)\n",
        "dataiter = iter(train_loader)\n",
        "images, labels = dataiter.next()\n",
        "\n",
        "# show images\n",
        "imshow(torchvision.utils.make_grid(images))"
      ],
      "execution_count": null,
      "outputs": [
        {
          "output_type": "display_data",
          "data": {
            "image/png": "[encoded data removed]",
            "text/plain": [
              "<Figure size 432x288 with 1 Axes>"
            ]
          },
          "metadata": {
            "tags": [],
            "needs_background": "light"
          }
        }
      ]
    },
    {
      "cell_type": "markdown",
      "metadata": {
        "id": "xkZZhJTCNUXZ"
      },
      "source": [
        "### .b Designing a Neural Net in Pytorch\n",
        "\n",
        "Pytorch makes it pretty easy to implement all of those key components that we described above. We’ll be making use of 4 major functions in our CNN class: \n",
        "\n",
        " - `torch.nn.Conv2d(in_channels, out_channels, kernel_size, stride, padding)` – applies convolution\n",
        "\n",
        "- `torch.nn.relu(x)` – applies ReLU\n",
        "\n",
        "- `torch.nn.MaxPool2d(kernel_size, stride, padding)` – applies Max Pooling\n",
        "\n",
        "- `torch.nn.Linear(in_features, out_features)` – fully connected layer (multiply inputs by learned weights)\n",
        "\n",
        "Now as we already get all components at hand, let's begin to write our CNN code in Pytorch. We’ll create a `SimpleCNN` class which inherits from the master `torch.nn.Module` class. \n",
        "\n"
      ]
    },
    {
      "cell_type": "code",
      "metadata": {
        "id": "xLOBAB6tOXcw"
      },
      "source": [
        "from torch.autograd import Variable\n",
        "import torch.nn.functional as F\n",
        "\n",
        "# class SimpleCNN(torch.nn.Module):\n",
        "    \n",
        "#     # Our batch shape for input x is (3, 32, 32)\n",
        "    \n",
        "#     def __init__(self):\n",
        "#         super(SimpleCNN, self).__init__()\n",
        "        \n",
        "#         # Input channels = 3, output channels = 18\n",
        "#         self.conv1 = torch.nn.Conv2d(3, 20, kernel_size=3, stride=1, padding=1)\n",
        "#         self.conv2 = torch.nn.Conv2d(20, 36, kernel_size=3, stride=1, padding=1)\n",
        "#         self.conv3 = torch.nn.Conv2d(36, 48, kernel_size=3, stride=1, padding=1)\n",
        "#         self.pool = torch.nn.MaxPool2d(kernel_size=2, stride=2, padding=0)\n",
        "        \n",
        "#         # 4608 input features, 64 output features (see sizing flow below)\n",
        "#         self.fc1 = torch.nn.Linear(48 * 16 * 16, 64)\n",
        "        \n",
        "#         # 64 input features, 10 output features for our 10 defined classes\n",
        "#         self.fc2 = torch.nn.Linear(64, 10)\n",
        "        \n",
        "#     def forward(self, x):\n",
        "        \n",
        "#         # Computes the activation of the first convolution\n",
        "#         # Size changes from (3, 32, 32) to (18, 32, 32)\n",
        "#         x = F.relu(self.conv1(x))\n",
        "#         x = F.relu(self.conv2(x))\n",
        "#         x = F.relu(self.conv3(x))\n",
        "        \n",
        "#         # Size changes from (18, 32, 32) to (18, 16, 16)\n",
        "#         x = self.pool(x)\n",
        "        \n",
        "#         # Reshape data to input to the input layer of the neural net\n",
        "#         # Size changes from (18, 16, 16) to (1, 4608)\n",
        "#         # Recall that the -1 infers this dimension from the other given dimension\n",
        "#         x = x.view(-1, 48*16*16)\n",
        "        \n",
        "#         # Computes the activation of the first fully connected layer\n",
        "#         # Size changes from (1, 4608) to (1, 64)\n",
        "#         x = F.relu(self.fc1(x))\n",
        "        \n",
        "#         # Computes the second fully connected layer (activation applied later)\n",
        "#         # Size changes from (1, 64) to (1, 10)\n",
        "#         x = self.fc2(x)\n",
        "#         return(x)"
      ],
      "execution_count": null,
      "outputs": []
    },
    {
      "cell_type": "markdown",
      "metadata": {
        "id": "dvKs9RcjOh1y"
      },
      "source": [
        "Let’s explain what’s going on here. We’re creating a `SimpleCNN` class with one class method: `forward`. The `forward()` method computes a forward pass of the CNN, which includes the four steps we outlined above. When an instance of the SimpleCNN class is created, we define internal functions to represent the layers of the net. During the forward pass we call these internal functions.\n",
        "\n",
        "One of the pesky parts about manually defining neural nets is that we need to specify the sizes of inputs and outputs at each part of the process. The comments should give some direction as to what’s happening with size changes at each step. \n",
        "\n",
        "You can see that in the above codes, the input dimension is **(3, 32, 32)**, which means our input image has $3$ input channels, and each channel has a resolution of $32 \\times 32$. The number of output channels is set to $18$, meaning that we have $18$ different kernels, and the `kernel size` is set to $3$, which means the size of each kernel is $3\\times 3$. And for the convolution operation, we set `stride = 1` and `padding = 1`. Under this setting, we get an output tensor with shape **(18, 32, 32)** after the convolution.  \n",
        "\n"
      ]
    },
    {
      "cell_type": "markdown",
      "metadata": {
        "id": "FVOYj-1aTkZd"
      },
      "source": [
        "After the convolution, we send the output tensor (shape is **(18, 32, 32)**) to a max pooling layer, in which the parameters are set to: `kernel_size = 2`, `stride = 2`, and `padding = 0`. This results in a tensor with shape **(18, 16, 16)**. "
      ]
    },
    {
      "cell_type": "markdown",
      "metadata": {
        "id": "5qelBKtk5rqU"
      },
      "source": [
        "### .c Training our CNN in Pytorch"
      ]
    },
    {
      "cell_type": "markdown",
      "metadata": {
        "id": "io4_T-pyVUq8"
      },
      "source": [
        "\n",
        "\n",
        "Once we’ve defined the class for our CNN, we need to train the net itself. This is where neural network code gets interesting. If you’re working with more basic types of machine learning algorithms, you can usually get meaningful output in just a few lines of code. But with neural networks in Pytorch (and TensorFlow) though, it takes a bunch more code than that. Our basic flow is **a training loop**: each time we pass through the loop (called and “epoch”), we compute a forward pass on the network and implement backpropagation to adjust the weights. We’ll also record some other measurements like loss and time passed, so that we can analyze them as the net trains itself. \n",
        "\n",
        "To start, we’ll define our **data loaders** using the samplers we created above.\n"
      ]
    },
    {
      "cell_type": "code",
      "metadata": {
        "id": "tHZx8vP5V6Oq"
      },
      "source": [
        "# DataLoader takes in a dataset and a sampler for loading (num_workers deals with system level memory) \n",
        "def get_train_loader(batch_size):\n",
        "    train_loader = torch.utils.data.DataLoader(train_set, batch_size=batch_size,\n",
        "                                           sampler=train_sampler, num_workers=2)\n",
        "    return(train_loader)"
      ],
      "execution_count": null,
      "outputs": []
    },
    {
      "cell_type": "code",
      "metadata": {
        "id": "cLkoY6CbWFah"
      },
      "source": [
        "# Test and validation loaders have constant batch sizes, so we can define them directly\n",
        "test_loader = torch.utils.data.DataLoader(test_set, batch_size=4, sampler=test_sampler, num_workers=2)\n",
        "val_loader = torch.utils.data.DataLoader(train_set, batch_size=128, sampler=val_sampler, num_workers=2)"
      ],
      "execution_count": null,
      "outputs": []
    },
    {
      "cell_type": "markdown",
      "metadata": {
        "id": "31rZxay7WIC3"
      },
      "source": [
        "We’ll also define our loss and optimizer functions that the CNN will use to find the right weights. We’ll be using **Cross Entropy Loss (Log Loss)** as our loss function, which strongly penalizes high confidence in the wrong answer. The optimizer is the popular **Adam** algorithm. "
      ]
    },
    {
      "cell_type": "code",
      "metadata": {
        "id": "cjXypkzUWVkJ"
      },
      "source": [
        "import torch.optim as optim\n",
        "\n",
        "def createLossAndOptimizer(net, learning_rate=0.001):\n",
        "    \n",
        "    #Loss function\n",
        "    loss = torch.nn.CrossEntropyLoss()\n",
        "    \n",
        "    #Optimizer\n",
        "    optimizer = optim.Adam(net.parameters(), lr=learning_rate)\n",
        "    \n",
        "    return(loss, optimizer)"
      ],
      "execution_count": null,
      "outputs": []
    },
    {
      "cell_type": "markdown",
      "metadata": {
        "id": "Wq0BbfvSWY8T"
      },
      "source": [
        "Finally, we’ll define a function to train our CNN using a simple for loop. "
      ]
    },
    {
      "cell_type": "code",
      "metadata": {
        "id": "IQ4Gx2n4WdFG"
      },
      "source": [
        "import time\n",
        "\n",
        "def trainNet(net, batch_size, n_epochs, learning_rate):\n",
        "    \n",
        "    #Print all of the hyperparameters of the training iteration:\n",
        "    print(\"===== HYPERPARAMETERS =====\")\n",
        "    print(\"batch_size=\", batch_size)\n",
        "    print(\"epochs=\", n_epochs)\n",
        "    print(\"learning_rate=\", learning_rate)\n",
        "    print(\"=\" * 30)\n",
        "    \n",
        "    #Get training data\n",
        "    train_loader = get_train_loader(batch_size)\n",
        "    n_batches = len(train_loader)\n",
        "    \n",
        "    # Create our loss and optimizer functions\n",
        "    loss, optimizer = createLossAndOptimizer(net, learning_rate)\n",
        "    \n",
        "    # Time for printing\n",
        "    training_start_time = time.time()\n",
        "    \n",
        "    # Loop for n_epochs\n",
        "    for epoch in range(n_epochs):\n",
        "        \n",
        "        running_loss = 0.0\n",
        "        print_every = n_batches // 10\n",
        "        start_time = time.time()\n",
        "        total_train_loss = 0\n",
        "        \n",
        "        for i, data in enumerate(train_loader, 0):\n",
        "            \n",
        "            # Get inputs\n",
        "            inputs, labels = data\n",
        "            \n",
        "            # Set the parameter gradients to zero\n",
        "            optimizer.zero_grad()\n",
        "            \n",
        "            # Forward pass, backward pass, optimize\n",
        "            outputs = net(inputs)\n",
        "            loss_size = loss(outputs, labels)\n",
        "            loss_size.backward()\n",
        "            optimizer.step()\n",
        "            \n",
        "            #Print statistics\n",
        "            running_loss += loss_size.item()\n",
        "            total_train_loss += loss_size.item()\n",
        "            \n",
        "            # Print every 10th batch of an epoch\n",
        "            if (i + 1) % (print_every + 1) == 0:\n",
        "                print(\"Epoch {}, {:d}% \\t train_loss: {:.2f} took: {:.2f}s\".format(\n",
        "                        epoch+1, int(100 * (i+1) / n_batches), running_loss / print_every, time.time() - start_time))\n",
        "                # Reset running loss and time\n",
        "                running_loss = 0.0\n",
        "                start_time = time.time()\n",
        "            \n",
        "        # At the end of the epoch, do a pass on the validation set\n",
        "        total_val_loss = 0\n",
        "        for inputs, labels in val_loader:\n",
        "            \n",
        "            # Forward pass\n",
        "            val_outputs = net(inputs)\n",
        "            val_loss_size = loss(val_outputs, labels)\n",
        "            total_val_loss += val_loss_size.item()\n",
        "            \n",
        "        print(\"Validation loss = {:.2f}\".format(total_val_loss / len(val_loader)))\n",
        "        \n",
        "    print(\"Training finished, took {:.2f}s\".format(time.time() - training_start_time))"
      ],
      "execution_count": null,
      "outputs": []
    },
    {
      "cell_type": "markdown",
      "metadata": {
        "id": "Z6ZxiHc-WlYv"
      },
      "source": [
        "During each epoch of training, we pass data to the model **in batches** whose size we define when we call the training loop. Data is feature engineered using the SimpleCNN class we’ve defined, and then basic metrics are printed after a few passes. During each loop, we also calculate the loss on our validation set. \n",
        "\n",
        "To actually train the net now only requires two lines of code: "
      ]
    },
    {
      "cell_type": "code",
      "metadata": {
        "id": "SO37ApQvWyQg",
        "colab": {
          "base_uri": "https://localhost:8080/"
        },
        "cellView": "code",
        "outputId": "65b0e283-eb56-4f02-b87e-f69509cf98ca"
      },
      "source": [
        "#@title Default title text\n",
        "CNN = SimpleCNN()\n",
        "trainNet(CNN, batch_size=64, n_epochs=6, learning_rate=0.0001)"
      ],
      "execution_count": null,
      "outputs": [
        {
          "output_type": "stream",
          "text": [
            "===== HYPERPARAMETERS =====\n",
            "batch_size= 64\n",
            "epochs= 6\n",
            "learning_rate= 0.0001\n",
            "==============================\n",
            "Epoch 1, 10% \t train_loss: 2.34 took: 7.32s\n",
            "Epoch 1, 20% \t train_loss: 2.23 took: 6.92s\n",
            "Epoch 1, 30% \t train_loss: 2.12 took: 7.07s\n",
            "Epoch 1, 40% \t train_loss: 2.06 took: 7.05s\n",
            "Epoch 1, 51% \t train_loss: 1.97 took: 7.29s\n",
            "Epoch 1, 61% \t train_loss: 1.97 took: 6.86s\n",
            "Epoch 1, 71% \t train_loss: 1.92 took: 7.02s\n",
            "Epoch 1, 81% \t train_loss: 1.87 took: 6.94s\n",
            "Epoch 1, 92% \t train_loss: 1.84 took: 7.13s\n",
            "Validation loss = 1.75\n",
            "Epoch 2, 10% \t train_loss: 1.79 took: 7.26s\n",
            "Epoch 2, 20% \t train_loss: 1.80 took: 7.05s\n",
            "Epoch 2, 30% \t train_loss: 1.78 took: 7.07s\n",
            "Epoch 2, 40% \t train_loss: 1.73 took: 7.32s\n",
            "Epoch 2, 51% \t train_loss: 1.76 took: 7.08s\n",
            "Epoch 2, 61% \t train_loss: 1.67 took: 7.08s\n",
            "Epoch 2, 71% \t train_loss: 1.69 took: 7.02s\n",
            "Epoch 2, 81% \t train_loss: 1.66 took: 6.96s\n",
            "Epoch 2, 92% \t train_loss: 1.66 took: 6.95s\n",
            "Validation loss = 1.55\n",
            "Epoch 3, 10% \t train_loss: 1.57 took: 7.21s\n",
            "Epoch 3, 20% \t train_loss: 1.59 took: 7.29s\n",
            "Epoch 3, 30% \t train_loss: 1.57 took: 7.22s\n",
            "Epoch 3, 40% \t train_loss: 1.60 took: 7.12s\n",
            "Epoch 3, 51% \t train_loss: 1.58 took: 7.10s\n",
            "Epoch 3, 61% \t train_loss: 1.52 took: 7.21s\n",
            "Epoch 3, 71% \t train_loss: 1.56 took: 7.35s\n",
            "Epoch 3, 81% \t train_loss: 1.55 took: 7.34s\n",
            "Epoch 3, 92% \t train_loss: 1.55 took: 7.07s\n",
            "Validation loss = 1.47\n",
            "Epoch 4, 10% \t train_loss: 1.49 took: 7.27s\n",
            "Epoch 4, 20% \t train_loss: 1.52 took: 6.98s\n",
            "Epoch 4, 30% \t train_loss: 1.46 took: 7.00s\n",
            "Epoch 4, 40% \t train_loss: 1.51 took: 6.99s\n",
            "Epoch 4, 51% \t train_loss: 1.51 took: 7.39s\n",
            "Epoch 4, 61% \t train_loss: 1.52 took: 7.04s\n",
            "Epoch 4, 71% \t train_loss: 1.46 took: 7.10s\n",
            "Epoch 4, 81% \t train_loss: 1.47 took: 7.08s\n",
            "Epoch 4, 92% \t train_loss: 1.42 took: 7.39s\n",
            "Validation loss = 1.41\n",
            "Epoch 5, 10% \t train_loss: 1.44 took: 7.29s\n",
            "Epoch 5, 20% \t train_loss: 1.44 took: 7.08s\n",
            "Epoch 5, 30% \t train_loss: 1.42 took: 7.14s\n",
            "Epoch 5, 40% \t train_loss: 1.42 took: 7.59s\n",
            "Epoch 5, 51% \t train_loss: 1.43 took: 7.10s\n",
            "Epoch 5, 61% \t train_loss: 1.43 took: 7.22s\n",
            "Epoch 5, 71% \t train_loss: 1.40 took: 7.16s\n",
            "Epoch 5, 81% \t train_loss: 1.39 took: 7.21s\n",
            "Epoch 5, 92% \t train_loss: 1.39 took: 7.30s\n",
            "Validation loss = 1.40\n",
            "Epoch 6, 10% \t train_loss: 1.36 took: 7.39s\n",
            "Epoch 6, 20% \t train_loss: 1.43 took: 7.70s\n",
            "Epoch 6, 30% \t train_loss: 1.38 took: 7.21s\n",
            "Epoch 6, 40% \t train_loss: 1.34 took: 7.24s\n",
            "Epoch 6, 51% \t train_loss: 1.37 took: 7.06s\n",
            "Epoch 6, 61% \t train_loss: 1.35 took: 7.34s\n",
            "Epoch 6, 71% \t train_loss: 1.35 took: 7.06s\n",
            "Epoch 6, 81% \t train_loss: 1.38 took: 7.04s\n",
            "Epoch 6, 92% \t train_loss: 1.34 took: 7.09s\n",
            "Validation loss = 1.34\n",
            "Training finished, took 462.62s\n"
          ],
          "name": "stdout"
        }
      ]
    },
    {
      "cell_type": "code",
      "metadata": {
        "colab": {
          "base_uri": "https://localhost:8080/"
        },
        "id": "jsuyuIIAV6aI",
        "outputId": "630dde23-37b2-48b5-9a05-d210253150f0"
      },
      "source": [
        "trainNet(CNN, batch_size=64, n_epochs=6, learning_rate=0.0001)"
      ],
      "execution_count": null,
      "outputs": [
        {
          "output_type": "stream",
          "text": [
            "===== HYPERPARAMETERS =====\n",
            "batch_size= 64\n",
            "epochs= 6\n",
            "learning_rate= 0.0001\n",
            "==============================\n",
            "Epoch 1, 10% \t train_loss: 1.37 took: 7.54s\n",
            "Epoch 1, 20% \t train_loss: 1.31 took: 6.93s\n",
            "Epoch 1, 30% \t train_loss: 1.33 took: 6.90s\n",
            "Epoch 1, 40% \t train_loss: 1.37 took: 7.09s\n",
            "Epoch 1, 51% \t train_loss: 1.30 took: 7.02s\n",
            "Epoch 1, 61% \t train_loss: 1.28 took: 6.92s\n",
            "Epoch 1, 71% \t train_loss: 1.32 took: 6.94s\n",
            "Epoch 1, 81% \t train_loss: 1.30 took: 7.00s\n",
            "Epoch 1, 92% \t train_loss: 1.30 took: 7.02s\n",
            "Validation loss = 1.31\n",
            "Epoch 2, 10% \t train_loss: 1.30 took: 7.25s\n",
            "Epoch 2, 20% \t train_loss: 1.28 took: 7.03s\n",
            "Epoch 2, 30% \t train_loss: 1.27 took: 7.32s\n",
            "Epoch 2, 40% \t train_loss: 1.25 took: 7.06s\n",
            "Epoch 2, 51% \t train_loss: 1.26 took: 6.99s\n",
            "Epoch 2, 61% \t train_loss: 1.27 took: 7.16s\n",
            "Epoch 2, 71% \t train_loss: 1.24 took: 7.07s\n",
            "Epoch 2, 81% \t train_loss: 1.31 took: 7.16s\n",
            "Epoch 2, 92% \t train_loss: 1.29 took: 6.95s\n",
            "Validation loss = 1.30\n",
            "Epoch 3, 10% \t train_loss: 1.26 took: 7.22s\n",
            "Epoch 3, 20% \t train_loss: 1.29 took: 7.40s\n",
            "Epoch 3, 30% \t train_loss: 1.20 took: 7.14s\n",
            "Epoch 3, 40% \t train_loss: 1.22 took: 6.81s\n",
            "Epoch 3, 51% \t train_loss: 1.24 took: 6.83s\n",
            "Epoch 3, 61% \t train_loss: 1.27 took: 6.94s\n",
            "Epoch 3, 71% \t train_loss: 1.24 took: 7.29s\n",
            "Epoch 3, 81% \t train_loss: 1.21 took: 7.09s\n",
            "Epoch 3, 92% \t train_loss: 1.25 took: 7.43s\n",
            "Validation loss = 1.26\n",
            "Epoch 4, 10% \t train_loss: 1.19 took: 7.51s\n",
            "Epoch 4, 20% \t train_loss: 1.22 took: 7.60s\n",
            "Epoch 4, 30% \t train_loss: 1.21 took: 7.70s\n",
            "Epoch 4, 40% \t train_loss: 1.25 took: 7.55s\n",
            "Epoch 4, 51% \t train_loss: 1.23 took: 7.43s\n",
            "Epoch 4, 61% \t train_loss: 1.17 took: 7.11s\n",
            "Epoch 4, 71% \t train_loss: 1.18 took: 6.95s\n",
            "Epoch 4, 81% \t train_loss: 1.18 took: 7.08s\n",
            "Epoch 4, 92% \t train_loss: 1.21 took: 7.22s\n",
            "Validation loss = 1.26\n",
            "Epoch 5, 10% \t train_loss: 1.15 took: 7.06s\n",
            "Epoch 5, 20% \t train_loss: 1.17 took: 7.07s\n",
            "Epoch 5, 30% \t train_loss: 1.18 took: 7.31s\n",
            "Epoch 5, 40% \t train_loss: 1.17 took: 7.05s\n",
            "Epoch 5, 51% \t train_loss: 1.14 took: 7.11s\n",
            "Epoch 5, 61% \t train_loss: 1.17 took: 7.21s\n",
            "Epoch 5, 71% \t train_loss: 1.18 took: 7.35s\n",
            "Epoch 5, 81% \t train_loss: 1.15 took: 7.35s\n",
            "Epoch 5, 92% \t train_loss: 1.15 took: 7.26s\n",
            "Validation loss = 1.26\n",
            "Epoch 6, 10% \t train_loss: 1.15 took: 7.36s\n",
            "Epoch 6, 20% \t train_loss: 1.11 took: 7.29s\n",
            "Epoch 6, 30% \t train_loss: 1.10 took: 7.01s\n",
            "Epoch 6, 40% \t train_loss: 1.16 took: 6.92s\n",
            "Epoch 6, 51% \t train_loss: 1.10 took: 7.09s\n",
            "Epoch 6, 61% \t train_loss: 1.17 took: 7.24s\n",
            "Epoch 6, 71% \t train_loss: 1.11 took: 7.05s\n",
            "Epoch 6, 81% \t train_loss: 1.11 took: 7.09s\n",
            "Epoch 6, 92% \t train_loss: 1.13 took: 7.12s\n",
            "Validation loss = 1.25\n",
            "Training finished, took 463.46s\n"
          ],
          "name": "stdout"
        }
      ]
    },
    {
      "cell_type": "code",
      "metadata": {
        "colab": {
          "base_uri": "https://localhost:8080/"
        },
        "id": "1W0e8AKgXvHv",
        "outputId": "f7e7ec94-0b76-403e-cd76-2bdfa59c3932"
      },
      "source": [
        "trainNet(CNN, batch_size=64, n_epochs=6, learning_rate=0.0001)"
      ],
      "execution_count": null,
      "outputs": [
        {
          "output_type": "stream",
          "text": [
            "===== HYPERPARAMETERS =====\n",
            "batch_size= 64\n",
            "epochs= 6\n",
            "learning_rate= 0.0001\n",
            "==============================\n",
            "Epoch 1, 10% \t train_loss: 1.05 took: 7.44s\n",
            "Epoch 1, 20% \t train_loss: 1.09 took: 7.32s\n",
            "Epoch 1, 30% \t train_loss: 1.11 took: 7.27s\n",
            "Epoch 1, 40% \t train_loss: 1.10 took: 7.47s\n",
            "Epoch 1, 51% \t train_loss: 1.11 took: 7.36s\n",
            "Epoch 1, 61% \t train_loss: 1.10 took: 7.13s\n",
            "Epoch 1, 71% \t train_loss: 1.10 took: 7.24s\n",
            "Epoch 1, 81% \t train_loss: 1.14 took: 7.07s\n",
            "Epoch 1, 92% \t train_loss: 1.12 took: 7.14s\n",
            "Validation loss = 1.21\n",
            "Epoch 2, 10% \t train_loss: 1.04 took: 7.55s\n",
            "Epoch 2, 20% \t train_loss: 1.03 took: 7.22s\n",
            "Epoch 2, 30% \t train_loss: 1.10 took: 7.25s\n",
            "Epoch 2, 40% \t train_loss: 1.08 took: 7.23s\n",
            "Epoch 2, 51% \t train_loss: 1.07 took: 7.30s\n",
            "Epoch 2, 61% \t train_loss: 1.07 took: 7.17s\n",
            "Epoch 2, 71% \t train_loss: 1.07 took: 7.23s\n",
            "Epoch 2, 81% \t train_loss: 1.09 took: 7.23s\n",
            "Epoch 2, 92% \t train_loss: 1.05 took: 7.33s\n",
            "Validation loss = 1.20\n",
            "Epoch 3, 10% \t train_loss: 1.03 took: 7.51s\n",
            "Epoch 3, 20% \t train_loss: 1.04 took: 7.13s\n",
            "Epoch 3, 30% \t train_loss: 1.06 took: 7.27s\n",
            "Epoch 3, 40% \t train_loss: 0.99 took: 7.22s\n",
            "Epoch 3, 51% \t train_loss: 1.00 took: 7.06s\n",
            "Epoch 3, 61% \t train_loss: 1.07 took: 7.13s\n",
            "Epoch 3, 71% \t train_loss: 1.06 took: 7.18s\n",
            "Epoch 3, 81% \t train_loss: 1.01 took: 7.20s\n",
            "Epoch 3, 92% \t train_loss: 1.01 took: 7.06s\n",
            "Validation loss = 1.17\n",
            "Epoch 4, 10% \t train_loss: 1.04 took: 7.49s\n",
            "Epoch 4, 20% \t train_loss: 1.00 took: 7.19s\n",
            "Epoch 4, 30% \t train_loss: 1.05 took: 7.17s\n",
            "Epoch 4, 40% \t train_loss: 1.01 took: 7.14s\n",
            "Epoch 4, 51% \t train_loss: 0.98 took: 7.29s\n",
            "Epoch 4, 61% \t train_loss: 1.00 took: 7.36s\n",
            "Epoch 4, 71% \t train_loss: 0.96 took: 7.08s\n",
            "Epoch 4, 81% \t train_loss: 0.97 took: 7.13s\n",
            "Epoch 4, 92% \t train_loss: 1.00 took: 7.15s\n",
            "Validation loss = 1.19\n",
            "Epoch 5, 10% \t train_loss: 0.96 took: 7.32s\n",
            "Epoch 5, 20% \t train_loss: 0.96 took: 7.12s\n",
            "Epoch 5, 30% \t train_loss: 0.94 took: 7.22s\n",
            "Epoch 5, 40% \t train_loss: 0.97 took: 7.28s\n",
            "Epoch 5, 51% \t train_loss: 1.03 took: 7.25s\n",
            "Epoch 5, 61% \t train_loss: 0.94 took: 7.12s\n",
            "Epoch 5, 71% \t train_loss: 0.95 took: 7.16s\n",
            "Epoch 5, 81% \t train_loss: 1.01 took: 7.19s\n",
            "Epoch 5, 92% \t train_loss: 1.01 took: 7.24s\n",
            "Validation loss = 1.19\n",
            "Epoch 6, 10% \t train_loss: 0.95 took: 7.37s\n",
            "Epoch 6, 20% \t train_loss: 0.90 took: 7.24s\n",
            "Epoch 6, 30% \t train_loss: 0.95 took: 7.19s\n",
            "Epoch 6, 40% \t train_loss: 0.94 took: 7.07s\n",
            "Epoch 6, 51% \t train_loss: 0.96 took: 7.16s\n",
            "Epoch 6, 61% \t train_loss: 0.96 took: 7.08s\n",
            "Epoch 6, 71% \t train_loss: 0.98 took: 7.18s\n",
            "Epoch 6, 81% \t train_loss: 0.96 took: 7.28s\n",
            "Epoch 6, 92% \t train_loss: 0.95 took: 7.16s\n",
            "Validation loss = 1.18\n",
            "Training finished, took 466.33s\n"
          ],
          "name": "stdout"
        }
      ]
    },
    {
      "cell_type": "code",
      "metadata": {
        "colab": {
          "base_uri": "https://localhost:8080/"
        },
        "id": "fkAwMjhnTPyW",
        "outputId": "5e830d1d-6df3-4533-e151-f650b1fc77fd"
      },
      "source": [
        "trainNet(CNN, batch_size=64, n_epochs=6, learning_rate=0.0001)"
      ],
      "execution_count": null,
      "outputs": [
        {
          "output_type": "stream",
          "text": [
            "===== HYPERPARAMETERS =====\n",
            "batch_size= 64\n",
            "epochs= 6\n",
            "learning_rate= 0.0001\n",
            "==============================\n",
            "Epoch 1, 10% \t train_loss: 0.92 took: 7.28s\n",
            "Epoch 1, 20% \t train_loss: 0.92 took: 7.21s\n",
            "Epoch 1, 30% \t train_loss: 0.92 took: 7.20s\n",
            "Epoch 1, 40% \t train_loss: 0.94 took: 7.19s\n",
            "Epoch 1, 51% \t train_loss: 0.93 took: 7.12s\n",
            "Epoch 1, 61% \t train_loss: 0.92 took: 7.16s\n",
            "Epoch 1, 71% \t train_loss: 0.89 took: 7.13s\n",
            "Epoch 1, 81% \t train_loss: 0.92 took: 7.25s\n",
            "Epoch 1, 92% \t train_loss: 0.92 took: 7.33s\n",
            "Validation loss = 1.22\n",
            "Epoch 2, 10% \t train_loss: 0.89 took: 7.33s\n",
            "Epoch 2, 20% \t train_loss: 0.88 took: 7.18s\n",
            "Epoch 2, 30% \t train_loss: 0.91 took: 7.25s\n",
            "Epoch 2, 40% \t train_loss: 0.88 took: 7.11s\n",
            "Epoch 2, 51% \t train_loss: 0.89 took: 7.24s\n",
            "Epoch 2, 61% \t train_loss: 0.87 took: 7.30s\n",
            "Epoch 2, 71% \t train_loss: 0.93 took: 7.23s\n",
            "Epoch 2, 81% \t train_loss: 0.89 took: 7.43s\n",
            "Epoch 2, 92% \t train_loss: 0.92 took: 7.28s\n",
            "Validation loss = 1.17\n",
            "Epoch 3, 10% \t train_loss: 0.83 took: 7.43s\n",
            "Epoch 3, 20% \t train_loss: 0.86 took: 7.19s\n",
            "Epoch 3, 30% \t train_loss: 0.84 took: 7.17s\n",
            "Epoch 3, 40% \t train_loss: 0.86 took: 7.21s\n",
            "Epoch 3, 51% \t train_loss: 0.85 took: 7.25s\n",
            "Epoch 3, 61% \t train_loss: 0.86 took: 7.11s\n",
            "Epoch 3, 71% \t train_loss: 0.82 took: 7.06s\n",
            "Epoch 3, 81% \t train_loss: 0.91 took: 6.98s\n",
            "Epoch 3, 92% \t train_loss: 0.93 took: 7.29s\n",
            "Validation loss = 1.19\n",
            "Epoch 4, 10% \t train_loss: 0.83 took: 7.26s\n",
            "Epoch 4, 20% \t train_loss: 0.84 took: 7.07s\n",
            "Epoch 4, 30% \t train_loss: 0.85 took: 7.16s\n",
            "Epoch 4, 40% \t train_loss: 0.84 took: 7.24s\n",
            "Epoch 4, 51% \t train_loss: 0.86 took: 7.07s\n",
            "Epoch 4, 61% \t train_loss: 0.84 took: 6.98s\n",
            "Epoch 4, 71% \t train_loss: 0.83 took: 7.13s\n",
            "Epoch 4, 81% \t train_loss: 0.86 took: 7.15s\n",
            "Epoch 4, 92% \t train_loss: 0.84 took: 7.13s\n",
            "Validation loss = 1.17\n",
            "Epoch 5, 10% \t train_loss: 0.78 took: 7.20s\n",
            "Epoch 5, 20% \t train_loss: 0.82 took: 7.30s\n",
            "Epoch 5, 30% \t train_loss: 0.80 took: 7.16s\n",
            "Epoch 5, 40% \t train_loss: 0.81 took: 6.95s\n",
            "Epoch 5, 51% \t train_loss: 0.80 took: 6.98s\n",
            "Epoch 5, 61% \t train_loss: 0.86 took: 7.13s\n",
            "Epoch 5, 71% \t train_loss: 0.77 took: 7.22s\n",
            "Epoch 5, 81% \t train_loss: 0.82 took: 7.23s\n",
            "Epoch 5, 92% \t train_loss: 0.84 took: 7.29s\n",
            "Validation loss = 1.22\n",
            "Epoch 6, 10% \t train_loss: 0.77 took: 7.31s\n",
            "Epoch 6, 20% \t train_loss: 0.75 took: 7.14s\n",
            "Epoch 6, 30% \t train_loss: 0.76 took: 7.07s\n",
            "Epoch 6, 40% \t train_loss: 0.82 took: 7.24s\n",
            "Epoch 6, 51% \t train_loss: 0.77 took: 7.09s\n",
            "Epoch 6, 61% \t train_loss: 0.79 took: 7.15s\n",
            "Epoch 6, 71% \t train_loss: 0.74 took: 7.05s\n",
            "Epoch 6, 81% \t train_loss: 0.80 took: 7.12s\n",
            "Epoch 6, 92% \t train_loss: 0.84 took: 7.30s\n",
            "Validation loss = 1.18\n",
            "Training finished, took 464.02s\n"
          ],
          "name": "stdout"
        }
      ]
    },
    {
      "cell_type": "code",
      "metadata": {
        "colab": {
          "base_uri": "https://localhost:8080/"
        },
        "id": "G7GfNxmCVOYp",
        "outputId": "e6b91a33-5dcd-40ef-e289-a8d34ec12cdb"
      },
      "source": [
        "trainNet(CNN, batch_size=64, n_epochs=6, learning_rate=0.0001)"
      ],
      "execution_count": null,
      "outputs": [
        {
          "output_type": "stream",
          "text": [
            "===== HYPERPARAMETERS =====\n",
            "batch_size= 64\n",
            "epochs= 6\n",
            "learning_rate= 0.0001\n",
            "==============================\n",
            "Epoch 1, 10% \t train_loss: 0.79 took: 7.38s\n",
            "Epoch 1, 20% \t train_loss: 0.72 took: 7.16s\n",
            "Epoch 1, 30% \t train_loss: 0.76 took: 7.16s\n",
            "Epoch 1, 40% \t train_loss: 0.75 took: 7.04s\n",
            "Epoch 1, 51% \t train_loss: 0.77 took: 7.16s\n",
            "Epoch 1, 61% \t train_loss: 0.75 took: 7.08s\n",
            "Epoch 1, 71% \t train_loss: 0.77 took: 7.06s\n",
            "Epoch 1, 81% \t train_loss: 0.74 took: 7.04s\n",
            "Epoch 1, 92% \t train_loss: 0.77 took: 6.96s\n",
            "Validation loss = 1.21\n",
            "Epoch 2, 10% \t train_loss: 0.72 took: 7.16s\n",
            "Epoch 2, 20% \t train_loss: 0.70 took: 7.02s\n",
            "Epoch 2, 30% \t train_loss: 0.74 took: 7.10s\n",
            "Epoch 2, 40% \t train_loss: 0.73 took: 7.28s\n",
            "Epoch 2, 51% \t train_loss: 0.71 took: 7.06s\n",
            "Epoch 2, 61% \t train_loss: 0.72 took: 7.05s\n",
            "Epoch 2, 71% \t train_loss: 0.77 took: 7.03s\n",
            "Epoch 2, 81% \t train_loss: 0.76 took: 7.14s\n",
            "Epoch 2, 92% \t train_loss: 0.73 took: 7.33s\n",
            "Validation loss = 1.21\n",
            "Epoch 3, 10% \t train_loss: 0.68 took: 7.34s\n",
            "Epoch 3, 20% \t train_loss: 0.66 took: 7.11s\n",
            "Epoch 3, 30% \t train_loss: 0.71 took: 7.16s\n",
            "Epoch 3, 40% \t train_loss: 0.69 took: 6.97s\n",
            "Epoch 3, 51% \t train_loss: 0.72 took: 7.08s\n",
            "Epoch 3, 61% \t train_loss: 0.72 took: 7.16s\n",
            "Epoch 3, 71% \t train_loss: 0.69 took: 7.13s\n",
            "Epoch 3, 81% \t train_loss: 0.76 took: 6.96s\n",
            "Epoch 3, 92% \t train_loss: 0.72 took: 6.98s\n",
            "Validation loss = 1.23\n",
            "Epoch 4, 10% \t train_loss: 0.65 took: 7.33s\n",
            "Epoch 4, 20% \t train_loss: 0.65 took: 7.10s\n",
            "Epoch 4, 30% \t train_loss: 0.65 took: 7.13s\n",
            "Epoch 4, 40% \t train_loss: 0.68 took: 7.20s\n",
            "Epoch 4, 51% \t train_loss: 0.68 took: 7.14s\n",
            "Epoch 4, 61% \t train_loss: 0.67 took: 7.41s\n",
            "Epoch 4, 71% \t train_loss: 0.70 took: 7.01s\n",
            "Epoch 4, 81% \t train_loss: 0.69 took: 6.94s\n",
            "Epoch 4, 92% \t train_loss: 0.73 took: 7.00s\n",
            "Validation loss = 1.23\n",
            "Epoch 5, 10% \t train_loss: 0.62 took: 7.21s\n",
            "Epoch 5, 20% \t train_loss: 0.67 took: 7.08s\n",
            "Epoch 5, 30% \t train_loss: 0.62 took: 7.01s\n",
            "Epoch 5, 40% \t train_loss: 0.67 took: 7.14s\n",
            "Epoch 5, 51% \t train_loss: 0.67 took: 6.95s\n",
            "Epoch 5, 61% \t train_loss: 0.62 took: 7.02s\n",
            "Epoch 5, 71% \t train_loss: 0.67 took: 6.92s\n",
            "Epoch 5, 81% \t train_loss: 0.61 took: 7.02s\n",
            "Epoch 5, 92% \t train_loss: 0.70 took: 7.05s\n",
            "Validation loss = 1.30\n",
            "Epoch 6, 10% \t train_loss: 0.62 took: 7.15s\n",
            "Epoch 6, 20% \t train_loss: 0.62 took: 7.05s\n",
            "Epoch 6, 30% \t train_loss: 0.64 took: 7.18s\n",
            "Epoch 6, 40% \t train_loss: 0.61 took: 7.01s\n",
            "Epoch 6, 51% \t train_loss: 0.64 took: 6.98s\n",
            "Epoch 6, 61% \t train_loss: 0.63 took: 6.92s\n",
            "Epoch 6, 71% \t train_loss: 0.64 took: 7.04s\n",
            "Epoch 6, 81% \t train_loss: 0.62 took: 7.22s\n",
            "Epoch 6, 92% \t train_loss: 0.63 took: 7.02s\n",
            "Validation loss = 1.24\n",
            "Training finished, took 458.15s\n"
          ],
          "name": "stdout"
        }
      ]
    },
    {
      "cell_type": "markdown",
      "metadata": {
        "id": "bbKm4_RQaJh4"
      },
      "source": [
        "### .d Evaluation \n",
        "\n",
        "After the training, now let's see if our CNN works by evaluating the classfication accuracy in the test data:"
      ]
    },
    {
      "cell_type": "code",
      "metadata": {
        "id": "3DH5odBTaK_D",
        "colab": {
          "base_uri": "https://localhost:8080/"
        },
        "outputId": "c38d7a65-d68b-49a0-9671-0790bda1523f"
      },
      "source": [
        "correct = 0\n",
        "total = 0\n",
        "for data in test_loader:\n",
        "    images, labels = data\n",
        "    outputs = CNN(images)\n",
        "    _, predicted = torch.max(outputs.data, 1)\n",
        "    total += labels.size(0)\n",
        "    correct += (predicted == labels).sum()\n",
        "\n",
        "print('Accuracy of the network on the test images: %f %%' % (100 * float(correct) / total))"
      ],
      "execution_count": null,
      "outputs": [
        {
          "output_type": "stream",
          "text": [
            "Accuracy of the network on the test images: 60.400000 %\n"
          ],
          "name": "stdout"
        }
      ]
    },
    {
      "cell_type": "code",
      "metadata": {
        "id": "qn6sN4UZVM1q"
      },
      "source": [
        ""
      ],
      "execution_count": null,
      "outputs": []
    },
    {
      "cell_type": "markdown",
      "metadata": {
        "id": "Y29V5EfRbUIZ"
      },
      "source": [
        "OK, maybe you were expecting a better classification accuracy. This is exactly the work for you to do. Try to tune the network structure or hyper-parameters of the simple CNN in order to get a better classification accuracy. We know that tuning the neural network is the least interesting thing you want to do, because it's boring and annoying. But this is what you, as a beginner, have to do and is also a good way to help you understand CNN better. \n",
        "\n",
        "After you finish, please record your best accuracy achieved and its corresponding network and parameter settings. "
      ]
    },
    {
      "cell_type": "markdown",
      "metadata": {
        "id": "Bq1axw5X5uVR"
      },
      "source": [
        "**Your Turn (Question 7):** What is the best classification accuracy you achieved?\n",
        "\n"
      ]
    },
    {
      "cell_type": "markdown",
      "metadata": {
        "id": "v51rk0hr54hp"
      },
      "source": [
        "**Your Turn (Question 8):**  What is the network structure and parameter settings for your best experiment?\n"
      ]
    },
    {
      "cell_type": "markdown",
      "metadata": {
        "id": "j8QJDAn2p0X0"
      },
      "source": [
        "## 5 Embeddings"
      ]
    },
    {
      "cell_type": "markdown",
      "metadata": {
        "id": "KyksK5U6_a-Z"
      },
      "source": [
        "Finally, if you want to learn more about Embeddings and some of their practical applications (specifically, text sentiment analysis), Google has a nice [python tutorial](https://colab.research.google.com/notebooks/mlcc/intro_to_sparse_data_and_embeddings.ipynb) on the topic.\n"
      ]
    },
    {
      "cell_type": "markdown",
      "metadata": {
        "id": "-kGaO2wXmyVP"
      },
      "source": [
        "---\n",
        "# Credits\n",
        "Authored by Martin Strobel, Xu Ziwei, [Liangming Pan](https://www.liangmingpan.com), [Min-Yen Kan](http://www.comp.nus.edu.sg/~kanmy) (2019), affiliated with [WING](http://wing.comp.nus.edu.sg), [NUS School of Computing](http://www.comp.nus.edu.sg) and [ALSET](http://www.nus.edu.sg/alset).\n",
        "Licensed as: [Creative Commons Attribution 4.0 International](https://creativecommons.org/licenses/by/4.0/ ) (CC BY 4.0).\n",
        "Please retain and add to this credits cell if using this material as a whole or in part.\n"
      ]
    }
  ]
}